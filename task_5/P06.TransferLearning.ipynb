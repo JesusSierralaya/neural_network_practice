{
 "cells": [
  {
   "cell_type": "markdown",
   "metadata": {
    "id": "k6rtaWiarkIm"
   },
   "source": [
    "# Red convolucional preentrenada\n",
    "\n",
    "En esta práctica vamos a analizar otro de los ficheros pregargados que hay en Keras, un conjunto de imágenes de ropa llamdo fashion-mnist. Tienes una descripción de los datos en este [enlace](https://keras.io/api/datasets/fashion_mnist/).\n",
    "\n",
    "Las imágenes pertenecen a 10 categorías de ropa, clasificadas con un número del 0 al 9. Un ejemplo de la imágenes:\n",
    "![Conjunto MNIST](https://www.tensorflow.org/tutorials/keras/classification_files/output_oZTImqg_CaW1_0.png?hl=es-419)\n",
    "\n",
    "Para analizar estos datos vamos a usar una red preentrenada la VGG16, es una red del 2015 y aunque no es de las más potentes comparada con las más modernas funciona bastante bien. Tiene unos 15 millones de parámetros y mezcla bloques con capas de convolución y pooling. Puedes encontrar más información en la página de keras dedicada a la red ([enlace](https://keras.io/api/applications/vgg/)).\n",
    "\n",
    "Los datos son similares a mnist, imágenes de 28x28 en escala de grises y VGG16 solo acepta imágenes de al menos 32x32 y en formato RGB por lo que habrá que hacer un preprocesamiento. Como la ejecución es muy demandante vamos a crear un conjunto reducido de solo 100 imágenes para hacer las pruebas y luego el alumno puede intentar ejecutarlo con todo el set completo.\n",
    "\n",
    "Vamos a cargar solo parte de la red, las capas inferiores dedicadas a la extracción de rasgos y luego añadiremos nuestras capas que sí vamos a entrenar para que haga bien la tarea de clasificación.\n",
    "\n",
    "Muchas de las cosas que se utilizan están ya vistas en otras prácticas con lo que aparecerán solo mencionadas.\n",
    "\n",
    "\n",
    "\n"
   ]
  },
  {
   "cell_type": "code",
   "execution_count": 1,
   "metadata": {
    "id": "YC3ROj-7LpNW"
   },
   "outputs": [
    {
     "name": "stderr",
     "output_type": "stream",
     "text": [
      "2024-03-12 00:05:46.148094: I tensorflow/core/platform/cpu_feature_guard.cc:182] This TensorFlow binary is optimized to use available CPU instructions in performance-critical operations.\n",
      "To enable the following instructions: SSE3 SSE4.1 SSE4.2 AVX AVX2 FMA, in other operations, rebuild TensorFlow with the appropriate compiler flags.\n"
     ]
    }
   ],
   "source": [
    "# Importamos librerías\n",
    "\n",
    "import tensorflow as tf\n",
    "import numpy as np\n",
    "import sys\n",
    "import os\n",
    "import matplotlib.pyplot as plt\n",
    "import matplotlib.image as mpimg\n",
    "import pandas as pd\n",
    "import time\n",
    "\n",
    "from tensorflow.keras.applications import VGG16\n",
    "from tensorflow.keras import Sequential\n",
    "from tensorflow.keras.layers import Flatten, Dense\n"
   ]
  },
  {
   "cell_type": "code",
   "execution_count": 2,
   "metadata": {
    "id": "xhc0ezBrrjO_"
   },
   "outputs": [],
   "source": [
    "# definimos la función para visualizar la historia\n",
    "\n",
    "def plot_history(history):\n",
    "  hist = pd.DataFrame(history.history)\n",
    "  hist['epoch'] = history.epoch\n",
    "\n",
    "  plt.figure()\n",
    "  plt.xlabel('Epoch')\n",
    "  plt.ylabel('loss')\n",
    "  plt.plot(hist['epoch'], hist['loss'],'r--',\n",
    "           label='Training Error')\n",
    "  plt.plot(hist['epoch'], hist['val_loss'],'b',\n",
    "           label = 'Validation Error')\n",
    "  # plt.ylim([0,20])\n",
    "  plt.legend()\n",
    "  plt.show()"
   ]
  },
  {
   "cell_type": "code",
   "execution_count": 3,
   "metadata": {
    "id": "3qqWJ0xJ9w-B"
   },
   "outputs": [
    {
     "name": "stdout",
     "output_type": "stream",
     "text": [
      "Downloading data from https://storage.googleapis.com/tensorflow/tf-keras-datasets/train-labels-idx1-ubyte.gz\n",
      "29515/29515 [==============================] - 0s 0us/step\n",
      "Downloading data from https://storage.googleapis.com/tensorflow/tf-keras-datasets/train-images-idx3-ubyte.gz\n",
      "26421880/26421880 [==============================] - 3s 0us/step\n",
      "Downloading data from https://storage.googleapis.com/tensorflow/tf-keras-datasets/t10k-labels-idx1-ubyte.gz\n",
      "5148/5148 [==============================] - 0s 0us/step\n",
      "Downloading data from https://storage.googleapis.com/tensorflow/tf-keras-datasets/t10k-images-idx3-ubyte.gz\n",
      "4422102/4422102 [==============================] - 0s 0us/step\n"
     ]
    },
    {
     "data": {
      "image/png": "[encoded data removed]",
      "text/plain": [
       "<Figure size 640x480 with 1 Axes>"
      ]
     },
     "metadata": {},
     "output_type": "display_data"
    }
   ],
   "source": [
    "# importamos los datos desde keras\n",
    "\n",
    "data = tf.keras.datasets.fashion_mnist\n",
    "(x_train, y_train), (x_test, y_test) = data.load_data()\n",
    "\n",
    "# visualizamos la imagen 8\n",
    "plt.imshow(x_train[8])\n",
    "plt.show()"
   ]
  },
  {
   "cell_type": "code",
   "execution_count": 5,
   "metadata": {
    "id": "U4doiGrt905c"
   },
   "outputs": [
    {
     "name": "stdout",
     "output_type": "stream",
     "text": [
      "(100, 32, 32, 3)\n"
     ]
    }
   ],
   "source": [
    "# Preprocesamiento -------------------\n",
    "\n",
    "# seleccionamos 100 imagenes para probar\n",
    "idx = np.random.randint(60000, size=100)\n",
    "x_train_small = x_train[idx,:,:]\n",
    "y_train_small = y_train[idx]\n",
    "\n",
    "# expandimos las imagenes a 32x32 y con una dimension más que va a ser el color\n",
    "x_train_small = np.expand_dims(x_train_small, axis=-1)\n",
    "x_train_small = tf.image.resize(x_train_small, [32,32]) # if we want to resize\n",
    "\n",
    "# Pasamos la escala de grises a RGB\n",
    "x_train_small=tf.image.grayscale_to_rgb(x_train_small)\n",
    "\n",
    "# Normalizamos para que los valores vayan de 0 a 1\n",
    "x_train_small = x_train_small/255.\n",
    "\n",
    "# comprobamos que las dimensiones son correctas\n",
    "print(x_train_small.shape)"
   ]
  },
  {
   "cell_type": "markdown",
   "metadata": {
    "id": "6BtNQpJ-_R4M"
   },
   "source": [
    "Ahora se carga la red preentrenada, es tan sencillo como el siguiente código:\n",
    "\n",
    "\n",
    "\n",
    "```\n",
    "pre_trained_model = VGG16(input_shape = (32, 32, 3),\n",
    "                          include_top = False,\n",
    "                          weights = 'imagenet')\n",
    "```\n",
    "Le estamos indicando que vamos a introducir imágenes de 32x32x3 y que solo incluya las capas inferiores. El último parámetro especifica que se utilice la confifuración dada con imagenet.\n"
   ]
  },
  {
   "cell_type": "code",
   "execution_count": 6,
   "metadata": {
    "id": "O5aKfgm8_CYJ"
   },
   "outputs": [
    {
     "name": "stdout",
     "output_type": "stream",
     "text": [
      "Downloading data from https://storage.googleapis.com/tensorflow/keras-applications/vgg16/vgg16_weights_tf_dim_ordering_tf_kernels_notop.h5\n",
      "58889256/58889256 [==============================] - 6s 0us/step\n",
      "Model: \"vgg16\"\n",
      "_________________________________________________________________\n",
      " Layer (type)                Output Shape              Param #   \n",
      "=================================================================\n",
      " input_1 (InputLayer)        [(None, 32, 32, 3)]       0         \n",
      "                                                                 \n",
      " block1_conv1 (Conv2D)       (None, 32, 32, 64)        1792      \n",
      "                                                                 \n",
      " block1_conv2 (Conv2D)       (None, 32, 32, 64)        36928     \n",
      "                                                                 \n",
      " block1_pool (MaxPooling2D)  (None, 16, 16, 64)        0         \n",
      "                                                                 \n",
      " block2_conv1 (Conv2D)       (None, 16, 16, 128)       73856     \n",
      "                                                                 \n",
      " block2_conv2 (Conv2D)       (None, 16, 16, 128)       147584    \n",
      "                                                                 \n",
      " block2_pool (MaxPooling2D)  (None, 8, 8, 128)         0         \n",
      "                                                                 \n",
      " block3_conv1 (Conv2D)       (None, 8, 8, 256)         295168    \n",
      "                                                                 \n",
      " block3_conv2 (Conv2D)       (None, 8, 8, 256)         590080    \n",
      "                                                                 \n",
      " block3_conv3 (Conv2D)       (None, 8, 8, 256)         590080    \n",
      "                                                                 \n",
      " block3_pool (MaxPooling2D)  (None, 4, 4, 256)         0         \n",
      "                                                                 \n",
      " block4_conv1 (Conv2D)       (None, 4, 4, 512)         1180160   \n",
      "                                                                 \n",
      " block4_conv2 (Conv2D)       (None, 4, 4, 512)         2359808   \n",
      "                                                                 \n",
      " block4_conv3 (Conv2D)       (None, 4, 4, 512)         2359808   \n",
      "                                                                 \n",
      " block4_pool (MaxPooling2D)  (None, 2, 2, 512)         0         \n",
      "                                                                 \n",
      " block5_conv1 (Conv2D)       (None, 2, 2, 512)         2359808   \n",
      "                                                                 \n",
      " block5_conv2 (Conv2D)       (None, 2, 2, 512)         2359808   \n",
      "                                                                 \n",
      " block5_conv3 (Conv2D)       (None, 2, 2, 512)         2359808   \n",
      "                                                                 \n",
      " block5_pool (MaxPooling2D)  (None, 1, 1, 512)         0         \n",
      "                                                                 \n",
      "=================================================================\n",
      "Total params: 14714688 (56.13 MB)\n",
      "Trainable params: 14714688 (56.13 MB)\n",
      "Non-trainable params: 0 (0.00 Byte)\n",
      "_________________________________________________________________\n"
     ]
    }
   ],
   "source": [
    "pre_trained_model = VGG16(input_shape = (32, 32, 3),\n",
    "                          include_top = False,\n",
    "                          weights = 'imagenet')\n",
    "\n",
    "pre_trained_model.summary()"
   ]
  },
  {
   "cell_type": "markdown",
   "metadata": {
    "id": "qw7Tnz8TALHk"
   },
   "source": [
    "Fíjate que la red contiene casi 15 millones de parámetros, ahora le tenemos que decir que son no entrenables, es decir, que no cambien los valores que tienen ya los pesos"
   ]
  },
  {
   "cell_type": "code",
   "execution_count": 7,
   "metadata": {
    "id": "nz6IwkB5AVhe"
   },
   "outputs": [
    {
     "name": "stdout",
     "output_type": "stream",
     "text": [
      "Model: \"vgg16\"\n",
      "_________________________________________________________________\n",
      " Layer (type)                Output Shape              Param #   \n",
      "=================================================================\n",
      " input_1 (InputLayer)        [(None, 32, 32, 3)]       0         \n",
      "                                                                 \n",
      " block1_conv1 (Conv2D)       (None, 32, 32, 64)        1792      \n",
      "                                                                 \n",
      " block1_conv2 (Conv2D)       (None, 32, 32, 64)        36928     \n",
      "                                                                 \n",
      " block1_pool (MaxPooling2D)  (None, 16, 16, 64)        0         \n",
      "                                                                 \n",
      " block2_conv1 (Conv2D)       (None, 16, 16, 128)       73856     \n",
      "                                                                 \n",
      " block2_conv2 (Conv2D)       (None, 16, 16, 128)       147584    \n",
      "                                                                 \n",
      " block2_pool (MaxPooling2D)  (None, 8, 8, 128)         0         \n",
      "                                                                 \n",
      " block3_conv1 (Conv2D)       (None, 8, 8, 256)         295168    \n",
      "                                                                 \n",
      " block3_conv2 (Conv2D)       (None, 8, 8, 256)         590080    \n",
      "                                                                 \n",
      " block3_conv3 (Conv2D)       (None, 8, 8, 256)         590080    \n",
      "                                                                 \n",
      " block3_pool (MaxPooling2D)  (None, 4, 4, 256)         0         \n",
      "                                                                 \n",
      " block4_conv1 (Conv2D)       (None, 4, 4, 512)         1180160   \n",
      "                                                                 \n",
      " block4_conv2 (Conv2D)       (None, 4, 4, 512)         2359808   \n",
      "                                                                 \n",
      " block4_conv3 (Conv2D)       (None, 4, 4, 512)         2359808   \n",
      "                                                                 \n",
      " block4_pool (MaxPooling2D)  (None, 2, 2, 512)         0         \n",
      "                                                                 \n",
      " block5_conv1 (Conv2D)       (None, 2, 2, 512)         2359808   \n",
      "                                                                 \n",
      " block5_conv2 (Conv2D)       (None, 2, 2, 512)         2359808   \n",
      "                                                                 \n",
      " block5_conv3 (Conv2D)       (None, 2, 2, 512)         2359808   \n",
      "                                                                 \n",
      " block5_pool (MaxPooling2D)  (None, 1, 1, 512)         0         \n",
      "                                                                 \n",
      "=================================================================\n",
      "Total params: 14714688 (56.13 MB)\n",
      "Trainable params: 0 (0.00 Byte)\n",
      "Non-trainable params: 14714688 (56.13 MB)\n",
      "_________________________________________________________________\n"
     ]
    }
   ],
   "source": [
    "for layer in pre_trained_model.layers:\n",
    "  layer.trainable = False\n",
    "\n",
    "pre_trained_model.summary()"
   ]
  },
  {
   "cell_type": "markdown",
   "metadata": {
    "id": "v1h8Qo1kAYZZ"
   },
   "source": [
    "Mira como Trainable params ha pasado de 14 millones a 0, ahora nada de esta red se va a modificar.\n",
    "\n",
    "Tenemos que añadir las capas que se van a encargar de la clasificación"
   ]
  },
  {
   "cell_type": "code",
   "execution_count": 13,
   "metadata": {
    "id": "EogjWxR_An8N"
   },
   "outputs": [
    {
     "name": "stdout",
     "output_type": "stream",
     "text": [
      "Model: \"sequential_1\"\n",
      "_________________________________________________________________\n",
      " Layer (type)                Output Shape              Param #   \n",
      "=================================================================\n",
      " vgg16 (Functional)          (None, 1, 1, 512)         14714688  \n",
      "                                                                 \n",
      " flatten_1 (Flatten)         (None, 512)               0         \n",
      "                                                                 \n",
      " dense_2 (Dense)             (None, 256)               131328    \n",
      "                                                                 \n",
      " dense_3 (Dense)             (None, 10)                2570      \n",
      "                                                                 \n",
      "=================================================================\n",
      "Total params: 14848586 (56.64 MB)\n",
      "Trainable params: 133898 (523.04 KB)\n",
      "Non-trainable params: 14714688 (56.13 MB)\n",
      "_________________________________________________________________\n"
     ]
    }
   ],
   "source": [
    "# creamos nuestro modelo incluyendo el pre_trained\n",
    "\n",
    "model = Sequential()\n",
    "model.add(pre_trained_model)\n",
    "model.add(Flatten())\n",
    "model.add(Dense(256, activation='relu'))\n",
    "model.add(Dense(10, activation='softmax'))\n",
    "\n",
    "model.summary()"
   ]
  },
  {
   "cell_type": "code",
   "execution_count": 14,
   "metadata": {
    "id": "xBxiwjvmAwAS"
   },
   "outputs": [],
   "source": [
    "# compilamos con los parametros habituales\n",
    "\n",
    "model.compile(\n",
    "    loss = 'sparse_categorical_crossentropy',\n",
    "    optimizer = tf.keras.optimizers.Adam(),\n",
    "    metrics = ['accuracy'])"
   ]
  },
  {
   "cell_type": "code",
   "execution_count": 15,
   "metadata": {
    "id": "B2-VaD68A2k-"
   },
   "outputs": [
    {
     "name": "stdout",
     "output_type": "stream",
     "text": [
      "Tiempo de ejecución: 11.378324031829834\n"
     ]
    }
   ],
   "source": [
    "# Aprendizaje\n",
    "\n",
    "# FIT     ----------------------------------------------------------------\n",
    "start = time.time()\n",
    "history = model.fit(x_train_small, y_train_small,\n",
    "              batch_size=10,\n",
    "              epochs=30,\n",
    "              validation_split = 0.2,\n",
    "              verbose=0)\n",
    "end = time.time()\n",
    "print('Tiempo de ejecución:', end - start)\n"
   ]
  },
  {
   "cell_type": "code",
   "execution_count": 16,
   "metadata": {
    "id": "ZNzdDlfKA-5i"
   },
   "outputs": [
    {
     "data": {
      "image/png": "[encoded data removed]",
      "text/plain": [
       "<Figure size 640x480 with 1 Axes>"
      ]
     },
     "metadata": {},
     "output_type": "display_data"
    },
    {
     "name": "stdout",
     "output_type": "stream",
     "text": [
      "4/4 [==============================] - 1s 75ms/step - loss: 0.1394 - accuracy: 0.9500\n",
      "Test accuracy: 0.949999988079071\n"
     ]
    }
   ],
   "source": [
    "# Evaluacion\n",
    "\n",
    "plot_history(history)\n",
    "\n",
    "test_loss, test_acc = model.evaluate(x_train_small, y_train_small)\n",
    "print('Test accuracy:', test_acc)"
   ]
  },
  {
   "cell_type": "markdown",
   "metadata": {
    "id": "8XirSO5SWtWl"
   },
   "source": [
    "# Ejercicio\n",
    "\n",
    "\n",
    "Ajusta los parametros de clasificacion de la red con el grupo de imagenes pequeño x_train_small y cuando creas que funciona razonablemente bien pasa a calcular la red con todos los datos\n",
    "\n",
    "Fíjate que no hemos preprocesado ni los datos de x_test ni ninguno de los que pertenecen al conjunto de test\n",
    "\n",
    "Cuando tengas tu red lista sube los comentarios y la parte del codigo que consideres interesante a moodle\n",
    "\n"
   ]
  }
 ],
 "metadata": {
  "colab": {
   "authorship_tag": "ABX9TyO0cwBirO2caY9MXn94Svlg",
   "collapsed_sections": [],
   "name": "P06.TransferLearning.ipynb",
   "provenance": []
  },
  "kernelspec": {
   "display_name": "Python 3 (ipykernel)",
   "language": "python",
   "name": "python3"
  },
  "language_info": {
   "codemirror_mode": {
    "name": "ipython",
    "version": 3
   },
   "file_extension": ".py",
   "mimetype": "text/x-python",
   "name": "python",
   "nbconvert_exporter": "python",
   "pygments_lexer": "ipython3",
   "version": "3.11.6"
  }
 },
 "nbformat": 4,
 "nbformat_minor": 4
}
