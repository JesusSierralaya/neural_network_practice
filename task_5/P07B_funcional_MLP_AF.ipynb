{
 "cells": [
  {
   "cell_type": "code",
   "execution_count": 1,
   "metadata": {
    "colab": {
     "base_uri": "https://localhost:8080/"
    },
    "executionInfo": {
     "elapsed": 670,
     "status": "ok",
     "timestamp": 1682263058943,
     "user": {
      "displayName": "miguel castellanos",
      "userId": "02812976588440241049"
     },
     "user_tz": -120
    },
    "id": "XzhUubxX8pte",
    "outputId": "deb2b7ad-8482-4cef-e6ab-f75ab19e2092"
   },
   "outputs": [
    {
     "name": "stderr",
     "output_type": "stream",
     "text": [
      "2024-03-12 00:54:13.319500: I tensorflow/core/platform/cpu_feature_guard.cc:182] This TensorFlow binary is optimized to use available CPU instructions in performance-critical operations.\n",
      "To enable the following instructions: SSE3 SSE4.1 SSE4.2 AVX AVX2 FMA, in other operations, rebuild TensorFlow with the appropriate compiler flags.\n"
     ]
    },
    {
     "name": "stdout",
     "output_type": "stream",
     "text": [
      "2.13.0\n"
     ]
    }
   ],
   "source": [
    "import pandas as pd\n",
    "import numpy as np\n",
    "import matplotlib.pyplot as plt\n",
    "\n",
    "import tensorflow as tf\n",
    "\n",
    "print(tf.__version__)\n",
    "\n",
    "from tensorflow.keras import Sequential\n",
    "from tensorflow.keras.layers import Dense\n",
    "from tensorflow.keras.optimizers import Adam"
   ]
  },
  {
   "cell_type": "code",
   "execution_count": 2,
   "metadata": {
    "executionInfo": {
     "elapsed": 1,
     "status": "ok",
     "timestamp": 1682263675378,
     "user": {
      "displayName": "miguel castellanos",
      "userId": "02812976588440241049"
     },
     "user_tz": -120
    },
    "id": "EMssOABDsCm5"
   },
   "outputs": [],
   "source": [
    "# funciones que nos van a ayudar\n",
    "\n",
    "# normaliza un conjunto de datos\n",
    "def norm(x, st):\n",
    "    return((x - st['mean'])/st['std'])\n",
    "\n",
    "# un plot de la historia del ajuste\n",
    "# def plot_history(history):\n",
    "#   hist = pd.DataFrame(history.history)\n",
    "#   hist['epoch'] = history.epoch\n",
    "\n",
    "#   plt.figure()\n",
    "#   plt.xlabel('Epoch')\n",
    "#   plt.ylabel('Mean Square Error')\n",
    "#   plt.plot(hist['epoch'], hist['mse'],'r--',\n",
    "#            label='Training Error')\n",
    "#   plt.plot(hist['epoch'], hist['val_mse'],'b',\n",
    "#            label = 'Validation Error')\n",
    "#   plt.ylim([0,20])\n",
    "#   plt.legend()\n",
    "#   plt.show() # un €\n",
    "\n",
    "\n",
    "def plot_history(history):\n",
    "  hist = pd.DataFrame(history.history)\n",
    "  hist['epoch'] = history.epoch\n",
    "\n",
    "  plt.figure()\n",
    "  plt.xlabel('Epoch')\n",
    "  plt.ylabel('Mean Square Error')\n",
    "  plt.plot(hist['epoch'], hist['loss'],'r--',\n",
    "           label='Training Error')\n",
    "  # plt.plot(hist['epoch'], hist['mse'],'b',\n",
    "  #          label = 'mse')\n",
    "  #plt.ylim([0,20])\n",
    "  plt.legend()\n",
    "  plt.show() # un €"
   ]
  },
  {
   "cell_type": "code",
   "execution_count": 5,
   "metadata": {
    "executionInfo": {
     "elapsed": 7,
     "status": "ok",
     "timestamp": 1682265991451,
     "user": {
      "displayName": "miguel castellanos",
      "userId": "02812976588440241049"
     },
     "user_tz": -120
    },
    "id": "O58C42hp9AUT"
   },
   "outputs": [],
   "source": [
    "# url = 'https://raw.githubusercontent.com/mcstllns/DeepLearning/main/Datos%20AF%20final.csv'\n",
    "url = 'https://raw.githubusercontent.com/mcstllns/DeepLearning/main/datos%20para%20P07/Datos%20AF%20final.csv'\n",
    "df = pd.read_csv(url)"
   ]
  },
  {
   "cell_type": "code",
   "execution_count": 6,
   "metadata": {
    "colab": {
     "base_uri": "https://localhost:8080/"
    },
    "executionInfo": {
     "elapsed": 6,
     "status": "ok",
     "timestamp": 1682261043815,
     "user": {
      "displayName": "miguel castellanos",
      "userId": "02812976588440241049"
     },
     "user_tz": -120
    },
    "id": "u8aMQhar9XV6",
    "outputId": "706e7ada-76c9-42ff-fe42-e924d56f8d9f"
   },
   "outputs": [
    {
     "name": "stdout",
     "output_type": "stream",
     "text": [
      "(269, 68)\n"
     ]
    }
   ],
   "source": [
    "print(df.shape)\n",
    "# print(df.head())\n",
    "# print(df.columns)"
   ]
  },
  {
   "cell_type": "code",
   "execution_count": 7,
   "metadata": {
    "executionInfo": {
     "elapsed": 9,
     "status": "ok",
     "timestamp": 1682266004345,
     "user": {
      "displayName": "miguel castellanos",
      "userId": "02812976588440241049"
     },
     "user_tz": -120
    },
    "id": "LZLhmZie-LFw"
   },
   "outputs": [],
   "source": [
    "# X = df.iloc[:,np.r_[2:12, df.columns.get_loc(\"A2\")]]\n",
    "X = df.iloc[:,np.r_[df.columns.get_loc(\"A01.10\"):df.columns.get_loc(\"S04.14\")+1, df.columns.get_loc(\"A2\")]]\n",
    "X = X.dropna()\n",
    "\n",
    "\n",
    "# Esta parte separa en train y test, pero en nuestro caso no tiene sentido \n",
    "# porque el objetivo es descriptivo, no predictivo\n",
    "\n",
    "# from sklearn.model_selection import train_test_split\n",
    "# x_train, x_test, y_train, y_test = train_test_split(X.iloc[:,0:50], X.iloc[:,50], test_size=0.20)\n",
    "\n",
    "x = X.iloc[:,0:50]\n",
    "y = X.iloc[:,50]\n",
    "\n",
    "\n"
   ]
  },
  {
   "cell_type": "code",
   "execution_count": 8,
   "metadata": {
    "executionInfo": {
     "elapsed": 4,
     "status": "ok",
     "timestamp": 1682266009854,
     "user": {
      "displayName": "miguel castellanos",
      "userId": "02812976588440241049"
     },
     "user_tz": -120
    },
    "id": "qkpGu3aQ1OaD"
   },
   "outputs": [],
   "source": [
    "x_stats = x.describe().transpose()\n",
    "y_stats = y.describe().transpose()\n",
    "\n",
    "x_norm = norm(x, x_stats)\n",
    "y_norm = norm(y, y_stats)"
   ]
  },
  {
   "cell_type": "code",
   "execution_count": 9,
   "metadata": {
    "colab": {
     "base_uri": "https://localhost:8080/"
    },
    "executionInfo": {
     "elapsed": 6,
     "status": "ok",
     "timestamp": 1682266013742,
     "user": {
      "displayName": "miguel castellanos",
      "userId": "02812976588440241049"
     },
     "user_tz": -120
    },
    "id": "e9OOjKNnET5N",
    "outputId": "0f93af11-4925-4300-bef6-db6548776615"
   },
   "outputs": [
    {
     "name": "stdout",
     "output_type": "stream",
     "text": [
      "(143, 50)\n",
      "(143,)\n"
     ]
    }
   ],
   "source": [
    "print(x_norm.shape)\n",
    "print(y_norm.shape)\n"
   ]
  },
  {
   "cell_type": "code",
   "execution_count": 10,
   "metadata": {
    "colab": {
     "base_uri": "https://localhost:8080/"
    },
    "executionInfo": {
     "elapsed": 13,
     "status": "ok",
     "timestamp": 1682266237561,
     "user": {
      "displayName": "miguel castellanos",
      "userId": "02812976588440241049"
     },
     "user_tz": -120
    },
    "id": "2zZgwrUDpyWe",
    "outputId": "fc80764d-813a-474a-be13-1d6adc7e5393"
   },
   "outputs": [
    {
     "name": "stdout",
     "output_type": "stream",
     "text": [
      "Model: \"sequential\"\n",
      "_________________________________________________________________\n",
      " Layer (type)                Output Shape              Param #   \n",
      "=================================================================\n",
      " dense (Dense)               (None, 64)                3264      \n",
      "                                                                 \n",
      " dense_1 (Dense)             (None, 64)                4160      \n",
      "                                                                 \n",
      " dense_2 (Dense)             (None, 64)                4160      \n",
      "                                                                 \n",
      " dense_3 (Dense)             (None, 1)                 65        \n",
      "                                                                 \n",
      "=================================================================\n",
      "Total params: 11649 (45.50 KB)\n",
      "Trainable params: 11649 (45.50 KB)\n",
      "Non-trainable params: 0 (0.00 Byte)\n",
      "_________________________________________________________________\n"
     ]
    }
   ],
   "source": [
    "model = Sequential()\n",
    "model.add(Dense(64, activation = 'relu', input_shape=[( len(x.keys()) )]))\n",
    "model.add(Dense(64, activation = 'relu'))\n",
    "model.add(Dense(64, activation = 'relu'))\n",
    "model.add(Dense(1, activation = 'linear'))\n",
    "\n",
    "model.summary()\n",
    "\n",
    "model.compile(loss='mse',\n",
    "              optimizer = Adam(learning_rate = 0.001),\n",
    "              metrics = ['mse','mae'])"
   ]
  },
  {
   "cell_type": "code",
   "execution_count": 12,
   "metadata": {
    "colab": {
     "base_uri": "https://localhost:8080/"
    },
    "executionInfo": {
     "elapsed": 83925,
     "status": "ok",
     "timestamp": 1682266343368,
     "user": {
      "displayName": "miguel castellanos",
      "userId": "02812976588440241049"
     },
     "user_tz": -120
    },
    "id": "O9vOkRNOqy4f",
    "outputId": "e752a40a-a40b-4d2d-e195-3280dd4f4646"
   },
   "outputs": [],
   "source": [
    "history = model.fit(x_norm, y,\n",
    "                    epochs = 500,\n",
    "                    batch_size = 25,\n",
    "                    verbose = 0) # para evitar que se llene toda la pantalla"
   ]
  },
  {
   "cell_type": "code",
   "execution_count": 13,
   "metadata": {
    "colab": {
     "base_uri": "https://localhost:8080/",
     "height": 465
    },
    "executionInfo": {
     "elapsed": 801,
     "status": "ok",
     "timestamp": 1682266344159,
     "user": {
      "displayName": "miguel castellanos",
      "userId": "02812976588440241049"
     },
     "user_tz": -120
    },
    "id": "FcoEGJoDqUF_",
    "outputId": "b4380424-dbbf-4e7d-ecf9-b23048c019de"
   },
   "outputs": [
    {
     "data": {
      "image/png": "[encoded data removed]",
      "text/plain": [
       "<Figure size 640x480 with 1 Axes>"
      ]
     },
     "metadata": {},
     "output_type": "display_data"
    }
   ],
   "source": [
    "plot_history(history)"
   ]
  },
  {
   "cell_type": "code",
   "execution_count": 14,
   "metadata": {
    "colab": {
     "base_uri": "https://localhost:8080/"
    },
    "executionInfo": {
     "elapsed": 1223,
     "status": "ok",
     "timestamp": 1682266358560,
     "user": {
      "displayName": "miguel castellanos",
      "userId": "02812976588440241049"
     },
     "user_tz": -120
    },
    "id": "MLes4hru18Nw",
    "outputId": "9e15fb86-6138-4331-ab20-7c878df1d05e"
   },
   "outputs": [
    {
     "name": "stdout",
     "output_type": "stream",
     "text": [
      "5/5 [==============================] - 0s 2ms/step - loss: 0.9752 - mse: 0.9752 - mae: 0.7399\n"
     ]
    },
    {
     "data": {
      "text/plain": [
       "[0.9751620888710022, 0.9751620888710022, 0.7399111390113831]"
      ]
     },
     "execution_count": 14,
     "metadata": {},
     "output_type": "execute_result"
    }
   ],
   "source": [
    "model.evaluate(x_norm, y)"
   ]
  },
  {
   "cell_type": "code",
   "execution_count": 15,
   "metadata": {
    "colab": {
     "base_uri": "https://localhost:8080/",
     "height": 473
    },
    "executionInfo": {
     "elapsed": 1428,
     "status": "ok",
     "timestamp": 1682266408166,
     "user": {
      "displayName": "miguel castellanos",
      "userId": "02812976588440241049"
     },
     "user_tz": -120
    },
    "id": "LC-XsQ_b2LCh",
    "outputId": "6f277231-67f2-4854-adcb-45a5642a4642"
   },
   "outputs": [
    {
     "name": "stdout",
     "output_type": "stream",
     "text": [
      "5/5 [==============================] - 0s 1ms/step\n"
     ]
    },
    {
     "data": {
      "image/png": "[encoded data removed]",
      "text/plain": [
       "<Figure size 640x480 with 1 Axes>"
      ]
     },
     "metadata": {},
     "output_type": "display_data"
    }
   ],
   "source": [
    "# Como las variables son cuantitativas un grafico de dispersion podría estar perfecto\n",
    "\n",
    "yp = model.predict(x_norm)\n",
    "\n",
    "\n",
    "df = pd.DataFrame({'y': y, 'yp': yp.flatten()})\n",
    "df.plot.scatter(x='y', y='yp')\n",
    "plt.xlim([0,5000])\n",
    "plt.ylim([0,5000])\n",
    "plt.show()"
   ]
  }
 ],
 "metadata": {
  "colab": {
   "authorship_tag": "ABX9TyPLzhIdQOfmN0p0siTcI3kP",
   "provenance": []
  },
  "kernelspec": {
   "display_name": "Python 3 (ipykernel)",
   "language": "python",
   "name": "python3"
  },
  "language_info": {
   "codemirror_mode": {
    "name": "ipython",
    "version": 3
   },
   "file_extension": ".py",
   "mimetype": "text/x-python",
   "name": "python",
   "nbconvert_exporter": "python",
   "pygments_lexer": "ipython3",
   "version": "3.11.6"
  }
 },
 "nbformat": 4,
 "nbformat_minor": 4
}
