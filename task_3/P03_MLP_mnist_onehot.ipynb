{
 "cells": [
  {
   "cell_type": "markdown",
   "metadata": {
    "colab_type": "text",
    "id": "view-in-github"
   },
   "source": [
    "<a href=\"https://colab.research.google.com/github/mcstllns/DeepLearning/blob/main/P03_MLP_mnist_onehot.ipynb\" target=\"_parent\"><img src=\"https://colab.research.google.com/assets/colab-badge.svg\" alt=\"Open In Colab\"/></a>"
   ]
  },
  {
   "cell_type": "markdown",
   "metadata": {
    "id": "-ZzYyPZVHVix"
   },
   "source": [
    "# Perceptron Multicapa con clasificador multicategórico\n",
    "\n",
    "Para esta práctica vamos a utilizar el conjunto de datos MNIST que consiste en imágenes de números del 0 al 9 escritas a mano y digitalizadas. Una descripción del fichero la puedes encontrar en la [wikipedia](https://en.wikipedia.org/wiki/MNIST_database).\n",
    "\n",
    "Los datos están ya almacenados en Keras, con lo que con una única función los podemos cargar y, además, están ya divididos en dos conjuntos de datos, un de entrenamiento con 60000 imágenes y otro de test con 10000 imágenes.\n",
    "\n",
    "El objetivo de la red es ser capaz de identificar correctamente el número y eso es equivalente a clasificar correctamente cada imagen. Como ahora hay 10 categorías (del 0 al 9) tendremos que usar un clasificador multicategórico y para ello vamos a usar una matriz one-hot.\n",
    "\n",
    "Los datos de entrada son imágenes en escala de grises, una matriz bidimensional de 28 x 28 en la que cada pixel va de 0 a 255. La mejor manera de trabajar con imágenes es a través de redes convolucionales pero todavía no las hemos estudiado así que vamos a vectorizar la imagen, es decir, concatenar las columnas una tras otra y formas un unico vector para cada imagen.\n",
    "\n",
    "Para procesar los datos vamos a construir un perceptron multicapa como los del ejercicio anterior pero ahora como entrada vamos a tener:\n",
    "\n",
    "__X_train__: 60000 imágenes vectorizadas y normalizadas\n",
    "\n",
    "__Y_train__: 10000 clasificaciones one hot\n",
    "\n",
    "__salida__: Un capa de salida con una neurona softmax\n",
    "\n",
    "__Función de coste__: categorical_crossentropy\n",
    "\n",
    "__Optimizador__: sgd (sthocastic gradient descent)\n",
    "\n",
    "\n",
    "Una vez ajustada la red con el training set comprobaremos la precisión de nuestra red utilizando el test set.\n",
    "\n"
   ]
  },
  {
   "cell_type": "code",
   "execution_count": 23,
   "metadata": {
    "id": "7BP6MJ5IG9-e"
   },
   "outputs": [
    {
     "name": "stdout",
     "output_type": "stream",
     "text": [
      "2.13.0\n"
     ]
    },
    {
     "ename": "AttributeError",
     "evalue": "module 'keras.api._v2.keras' has no attribute '__version__'",
     "output_type": "error",
     "traceback": [
      "\u001b[0;31m---------------------------------------------------------------------------\u001b[0m",
      "\u001b[0;31mAttributeError\u001b[0m                            Traceback (most recent call last)",
      "Cell \u001b[0;32mIn[23], line 15\u001b[0m\n\u001b[1;32m     13\u001b[0m \u001b[38;5;66;03m# versiones de los paquetes\u001b[39;00m\n\u001b[1;32m     14\u001b[0m \u001b[38;5;28mprint\u001b[39m(tf\u001b[38;5;241m.\u001b[39m__version__)\n\u001b[0;32m---> 15\u001b[0m \u001b[38;5;28mprint\u001b[39m(\u001b[43mkeras\u001b[49m\u001b[38;5;241;43m.\u001b[39;49m\u001b[43m__version__\u001b[49m)\n",
      "\u001b[0;31mAttributeError\u001b[0m: module 'keras.api._v2.keras' has no attribute '__version__'"
     ]
    }
   ],
   "source": [
    "# importamos librerías necesarias\n",
    "import tensorflow as tf\n",
    "from tensorflow import keras\n",
    "import numpy as np\n",
    "import sys\n",
    "import matplotlib.pyplot as plt\n",
    "\n",
    "from tensorflow.keras.utils import to_categorical\n",
    "from tensorflow.keras.layers import Dense\n",
    "\n",
    "import pandas as pd\n",
    "\n",
    "# versiones de los paquetes\n",
    "print(tf.__version__)\n",
    "print(tf.keras.__version__)"
   ]
  },
  {
   "cell_type": "code",
   "execution_count": 2,
   "metadata": {
    "id": "YcxG8ACgLwKo"
   },
   "outputs": [],
   "source": [
    "# Definimos funciones\n",
    "\n",
    "# esta funcion nos va a servir para ver la historia de la red\n",
    "# como ha ido cambiando el loss y el accuracy\n",
    "\n",
    "def plot_history(history):\n",
    "  hist = pd.DataFrame(history.history)\n",
    "  hist['epoch'] = history.epoch\n",
    "\n",
    "  plt.figure()\n",
    "  plt.xlabel('Epoch')\n",
    "  plt.ylabel('Mean Square Error')\n",
    "  plt.plot(hist['epoch'], hist['loss'],'r--',\n",
    "           label='Training Error')\n",
    "  plt.plot(hist['epoch'], hist['accuracy'],'b',\n",
    "           label = 'accuracy')\n",
    "  #plt.ylim([0,20])\n",
    "  plt.legend()\n",
    "  plt.show() # un €"
   ]
  },
  {
   "cell_type": "code",
   "execution_count": 20,
   "metadata": {
    "id": "rsg2Lpd5HDTQ"
   },
   "outputs": [
    {
     "data": {
      "image/png": "[encoded data removed]",
      "text/plain": [
       "<Figure size 640x480 with 1 Axes>"
      ]
     },
     "metadata": {},
     "output_type": "display_data"
    }
   ],
   "source": [
    "# Los datos ya estan incorporados en Keras, los cargamos con esta función\n",
    "mnist = tf.keras.datasets.mnist\n",
    "(x_train, y_train), (x_test, y_test) = mnist.load_data()\n",
    "\n",
    "# visualizamos la imagen 8\n",
    "plt.imshow(x_test[11])\n",
    "plt.show()\n"
   ]
  },
  {
   "cell_type": "code",
   "execution_count": null,
   "metadata": {},
   "outputs": [],
   "source": []
  },
  {
   "cell_type": "markdown",
   "metadata": {
    "id": "BgluGv1-MHmN"
   },
   "source": [
    "Fíjate que en una única llamada a mnist.load_data() hemos cargado todo, los conjuntos de entrenamiento (x_train, y_train) y los conjuntos de evaluación (x_test, y_test)\n",
    "\n",
    "No te preocupes mucho, simplemente Keras ha definido la carga de esos ficheros de esa manera.\n",
    "\n",
    "La última parte del código sirve para visualizar las imágenes\n",
    "\n",
    "\n",
    "```\n",
    "# visualizamos la imagen 8\n",
    "plt.imshow(x_train[8])\n",
    "plt.show()\n",
    "```\n",
    "Si cambias el número 8 puedes ir viendo otras imágenes, tienes 60000 para elegir. Aunque aparezca en color es por la función usada imshow que las colorea, en realidad son escala de grises"
   ]
  },
  {
   "cell_type": "code",
   "execution_count": 4,
   "metadata": {},
   "outputs": [
    {
     "name": "stdout",
     "output_type": "stream",
     "text": [
      "[[[0 0 0 ... 0 0 0]\n",
      "  [0 0 0 ... 0 0 0]\n",
      "  [0 0 0 ... 0 0 0]\n",
      "  ...\n",
      "  [0 0 0 ... 0 0 0]\n",
      "  [0 0 0 ... 0 0 0]\n",
      "  [0 0 0 ... 0 0 0]]\n",
      "\n",
      " [[0 0 0 ... 0 0 0]\n",
      "  [0 0 0 ... 0 0 0]\n",
      "  [0 0 0 ... 0 0 0]\n",
      "  ...\n",
      "  [0 0 0 ... 0 0 0]\n",
      "  [0 0 0 ... 0 0 0]\n",
      "  [0 0 0 ... 0 0 0]]\n",
      "\n",
      " [[0 0 0 ... 0 0 0]\n",
      "  [0 0 0 ... 0 0 0]\n",
      "  [0 0 0 ... 0 0 0]\n",
      "  ...\n",
      "  [0 0 0 ... 0 0 0]\n",
      "  [0 0 0 ... 0 0 0]\n",
      "  [0 0 0 ... 0 0 0]]\n",
      "\n",
      " ...\n",
      "\n",
      " [[0 0 0 ... 0 0 0]\n",
      "  [0 0 0 ... 0 0 0]\n",
      "  [0 0 0 ... 0 0 0]\n",
      "  ...\n",
      "  [0 0 0 ... 0 0 0]\n",
      "  [0 0 0 ... 0 0 0]\n",
      "  [0 0 0 ... 0 0 0]]\n",
      "\n",
      " [[0 0 0 ... 0 0 0]\n",
      "  [0 0 0 ... 0 0 0]\n",
      "  [0 0 0 ... 0 0 0]\n",
      "  ...\n",
      "  [0 0 0 ... 0 0 0]\n",
      "  [0 0 0 ... 0 0 0]\n",
      "  [0 0 0 ... 0 0 0]]\n",
      "\n",
      " [[0 0 0 ... 0 0 0]\n",
      "  [0 0 0 ... 0 0 0]\n",
      "  [0 0 0 ... 0 0 0]\n",
      "  ...\n",
      "  [0 0 0 ... 0 0 0]\n",
      "  [0 0 0 ... 0 0 0]\n",
      "  [0 0 0 ... 0 0 0]]]\n"
     ]
    }
   ],
   "source": [
    "print(x_train)"
   ]
  },
  {
   "cell_type": "code",
   "execution_count": 5,
   "metadata": {
    "id": "tL6bkamUHn0M"
   },
   "outputs": [
    {
     "name": "stdout",
     "output_type": "stream",
     "text": [
      "3\n",
      "(60000, 28, 28)\n",
      "1\n",
      "(60000,)\n"
     ]
    }
   ],
   "source": [
    "# comprobamos las caracteristicas del set de entrenamiento\n",
    "print(x_train.ndim)\n",
    "print(x_train.shape)\n",
    "print(y_train.ndim)\n",
    "print(y_train.shape)"
   ]
  },
  {
   "cell_type": "markdown",
   "metadata": {
    "id": "ILaGi6JDNxe6"
   },
   "source": [
    "Las dimensiones son las correctas, x es una matriz de 3 dimensiones: 60000x28x28 e y un vector de 600000"
   ]
  },
  {
   "cell_type": "code",
   "execution_count": 6,
   "metadata": {
    "id": "w91wnzxdNnsF"
   },
   "outputs": [
    {
     "name": "stdout",
     "output_type": "stream",
     "text": [
      "dimensiones:  60000 10000 28 28\n"
     ]
    }
   ],
   "source": [
    "# guardamos las dimensiones en variables para hacer la red mas generica\n",
    "# y reutilizable\n",
    "\n",
    "ntrain = x_train.shape[0]\n",
    "ntest  = x_test.shape[0]\n",
    "dimf = x_train.shape[1]\n",
    "dimc = x_train.shape[2]\n",
    "\n",
    "print(\"dimensiones: \", ntrain, ntest, dimf, dimc)"
   ]
  },
  {
   "cell_type": "markdown",
   "metadata": {
    "id": "FLrz7AcWOVJV"
   },
   "source": [
    "##Preprocesado\n",
    "\n",
    "Hay que preparar las imágenes para que entren en la red, vamos a hacer dos cosas:\n",
    "1. Vectorizarlas\n",
    "1. Normalizarlas, haciendo que vayan de 0 a 1 en vez de 0 a 255\n",
    "1. Convertir y en una matriz one hot\n"
   ]
  },
  {
   "cell_type": "code",
   "execution_count": 7,
   "metadata": {
    "id": "EbBtxVf3OmJT"
   },
   "outputs": [
    {
     "name": "stdout",
     "output_type": "stream",
     "text": [
      "(60000, 784)\n"
     ]
    }
   ],
   "source": [
    "# Preprocesamos los datos vectorizando y normalizando las imagenes\n",
    "\n",
    "x_train = x_train.astype('float32')/255.\n",
    "x_train = x_train.reshape(ntrain, dimf*dimc)\n",
    "\n",
    "x_test = x_test.astype('float32')/255.\n",
    "x_test = x_test.reshape(ntest, dimf*dimc)\n",
    "\n",
    "# comprobamos que la dimension de x es correcta\n",
    "print(x_train.shape)"
   ]
  },
  {
   "cell_type": "markdown",
   "metadata": {
    "id": "HF4VZdQPPBuf"
   },
   "source": [
    "Ahora tenemos 60000 vectores de 784 (28x28) píxeles\n",
    "\n",
    "\n",
    "Creamos con y la matriz de onehot"
   ]
  },
  {
   "cell_type": "code",
   "execution_count": 8,
   "metadata": {
    "id": "keQpY6s2PHey"
   },
   "outputs": [
    {
     "name": "stdout",
     "output_type": "stream",
     "text": [
      "(60000, 10)\n"
     ]
    }
   ],
   "source": [
    "y_train = to_categorical(y_train, num_classes=10)\n",
    "y_test = to_categorical(y_test, num_classes=10)\n",
    "\n",
    "print(y_train.shape)"
   ]
  },
  {
   "cell_type": "code",
   "execution_count": 9,
   "metadata": {
    "id": "4oir9PxVPdyr"
   },
   "outputs": [
    {
     "name": "stdout",
     "output_type": "stream",
     "text": [
      "Model: \"sequential\"\n",
      "_________________________________________________________________\n",
      " Layer (type)                Output Shape              Param #   \n",
      "=================================================================\n",
      " dense (Dense)               (None, 10)                7850      \n",
      "                                                                 \n",
      " dense_1 (Dense)             (None, 10)                110       \n",
      "                                                                 \n",
      "=================================================================\n",
      "Total params: 7960 (31.09 KB)\n",
      "Trainable params: 7960 (31.09 KB)\n",
      "Non-trainable params: 0 (0.00 Byte)\n",
      "_________________________________________________________________\n"
     ]
    }
   ],
   "source": [
    "# Especificamos el modelo\n",
    "# Una unica capa oculta con 10 sigmoides\n",
    "# Una capa de salida con 10 softmax, una para cada categoria\n",
    "\n",
    "model = keras.Sequential()\n",
    "model.add(Dense(10, activation='sigmoid', input_shape=(dimf*dimc,)))\n",
    "model.add(Dense(10, activation = 'softmax'))\n",
    "model.summary()\n"
   ]
  },
  {
   "cell_type": "code",
   "execution_count": 10,
   "metadata": {
    "id": "JHmjFJU4RxoE"
   },
   "outputs": [],
   "source": [
    "# compilamos el modelo\n",
    "model.compile(loss=\"categorical_crossentropy\",\n",
    "              optimizer=\"sgd\", # stochastic gradient descent\n",
    "              metrics= ['accuracy'])\n"
   ]
  },
  {
   "cell_type": "code",
   "execution_count": 11,
   "metadata": {
    "id": "bwULGARUY8Zi"
   },
   "outputs": [],
   "source": [
    "# compilamos el modelo\n",
    "\n",
    "\n",
    "model.compile(loss=\"categorical_crossentropy\",\n",
    "              optimizer= tf.keras.optimizers.RMSprop(learning_rate=0.001),\n",
    "              metrics= ['accuracy'])\n"
   ]
  },
  {
   "cell_type": "code",
   "execution_count": 12,
   "metadata": {
    "id": "HrhKIgtGR7NQ"
   },
   "outputs": [
    {
     "name": "stdout",
     "output_type": "stream",
     "text": [
      "Epoch 1/100\n",
      "60/60 [==============================] - 0s 2ms/step - loss: 2.0313 - accuracy: 0.4046\n",
      "Epoch 2/100\n",
      "60/60 [==============================] - 0s 2ms/step - loss: 1.7076 - accuracy: 0.5632\n",
      "Epoch 3/100\n",
      "60/60 [==============================] - 0s 1ms/step - loss: 1.5063 - accuracy: 0.6425\n",
      "Epoch 4/100\n",
      "60/60 [==============================] - 0s 2ms/step - loss: 1.3489 - accuracy: 0.7078\n",
      "Epoch 5/100\n",
      "60/60 [==============================] - 0s 1ms/step - loss: 1.2159 - accuracy: 0.7625\n",
      "Epoch 6/100\n",
      "60/60 [==============================] - 0s 1ms/step - loss: 1.1028 - accuracy: 0.7857\n",
      "Epoch 7/100\n",
      "60/60 [==============================] - 0s 1ms/step - loss: 1.0066 - accuracy: 0.7988\n",
      "Epoch 8/100\n",
      "60/60 [==============================] - 0s 1ms/step - loss: 0.9245 - accuracy: 0.8095\n",
      "Epoch 9/100\n",
      "60/60 [==============================] - 0s 1ms/step - loss: 0.8544 - accuracy: 0.8193\n",
      "Epoch 10/100\n",
      "60/60 [==============================] - 0s 2ms/step - loss: 0.7940 - accuracy: 0.8278\n",
      "Epoch 11/100\n",
      "60/60 [==============================] - 0s 2ms/step - loss: 0.7417 - accuracy: 0.8352\n",
      "Epoch 12/100\n",
      "60/60 [==============================] - 0s 2ms/step - loss: 0.6956 - accuracy: 0.8417\n",
      "Epoch 13/100\n",
      "60/60 [==============================] - 0s 2ms/step - loss: 0.6547 - accuracy: 0.8479\n",
      "Epoch 14/100\n",
      "60/60 [==============================] - 0s 1ms/step - loss: 0.6181 - accuracy: 0.8555\n",
      "Epoch 15/100\n",
      "60/60 [==============================] - 0s 1ms/step - loss: 0.5853 - accuracy: 0.8616\n",
      "Epoch 16/100\n",
      "60/60 [==============================] - 0s 1ms/step - loss: 0.5555 - accuracy: 0.8670\n",
      "Epoch 17/100\n",
      "60/60 [==============================] - 0s 1ms/step - loss: 0.5285 - accuracy: 0.8718\n",
      "Epoch 18/100\n",
      "60/60 [==============================] - 0s 1ms/step - loss: 0.5040 - accuracy: 0.8760\n",
      "Epoch 19/100\n",
      "60/60 [==============================] - 0s 1ms/step - loss: 0.4815 - accuracy: 0.8801\n",
      "Epoch 20/100\n",
      "60/60 [==============================] - 0s 1ms/step - loss: 0.4612 - accuracy: 0.8834\n",
      "Epoch 21/100\n",
      "60/60 [==============================] - 0s 1ms/step - loss: 0.4428 - accuracy: 0.8866\n",
      "Epoch 22/100\n",
      "60/60 [==============================] - 0s 1ms/step - loss: 0.4263 - accuracy: 0.8900\n",
      "Epoch 23/100\n",
      "60/60 [==============================] - 0s 1ms/step - loss: 0.4116 - accuracy: 0.8924\n",
      "Epoch 24/100\n",
      "60/60 [==============================] - 0s 1ms/step - loss: 0.3982 - accuracy: 0.8940\n",
      "Epoch 25/100\n",
      "60/60 [==============================] - 0s 2ms/step - loss: 0.3865 - accuracy: 0.8970\n",
      "Epoch 26/100\n",
      "60/60 [==============================] - 0s 1ms/step - loss: 0.3758 - accuracy: 0.8985\n",
      "Epoch 27/100\n",
      "60/60 [==============================] - 0s 1ms/step - loss: 0.3664 - accuracy: 0.9006\n",
      "Epoch 28/100\n",
      "60/60 [==============================] - 0s 1ms/step - loss: 0.3578 - accuracy: 0.9020\n",
      "Epoch 29/100\n",
      "60/60 [==============================] - 0s 1ms/step - loss: 0.3501 - accuracy: 0.9038\n",
      "Epoch 30/100\n",
      "60/60 [==============================] - 0s 1ms/step - loss: 0.3430 - accuracy: 0.9044\n",
      "Epoch 31/100\n",
      "60/60 [==============================] - 0s 2ms/step - loss: 0.3366 - accuracy: 0.9067\n",
      "Epoch 32/100\n",
      "60/60 [==============================] - 0s 1ms/step - loss: 0.3307 - accuracy: 0.9075\n",
      "Epoch 33/100\n",
      "60/60 [==============================] - 0s 1ms/step - loss: 0.3252 - accuracy: 0.9089\n",
      "Epoch 34/100\n",
      "60/60 [==============================] - 0s 1ms/step - loss: 0.3203 - accuracy: 0.9098\n",
      "Epoch 35/100\n",
      "60/60 [==============================] - 0s 2ms/step - loss: 0.3156 - accuracy: 0.9109\n",
      "Epoch 36/100\n",
      "60/60 [==============================] - 0s 2ms/step - loss: 0.3114 - accuracy: 0.9116\n",
      "Epoch 37/100\n",
      "60/60 [==============================] - 0s 1ms/step - loss: 0.3074 - accuracy: 0.9124\n",
      "Epoch 38/100\n",
      "60/60 [==============================] - 0s 1ms/step - loss: 0.3036 - accuracy: 0.9132\n",
      "Epoch 39/100\n",
      "60/60 [==============================] - 0s 2ms/step - loss: 0.3000 - accuracy: 0.9139\n",
      "Epoch 40/100\n",
      "60/60 [==============================] - 0s 2ms/step - loss: 0.2969 - accuracy: 0.9145\n",
      "Epoch 41/100\n",
      "60/60 [==============================] - 0s 2ms/step - loss: 0.2936 - accuracy: 0.9150\n",
      "Epoch 42/100\n",
      "60/60 [==============================] - 0s 2ms/step - loss: 0.2906 - accuracy: 0.9162\n",
      "Epoch 43/100\n",
      "60/60 [==============================] - 0s 2ms/step - loss: 0.2879 - accuracy: 0.9165\n",
      "Epoch 44/100\n",
      "60/60 [==============================] - 0s 2ms/step - loss: 0.2852 - accuracy: 0.9173\n",
      "Epoch 45/100\n",
      "60/60 [==============================] - 0s 1ms/step - loss: 0.2828 - accuracy: 0.9181\n",
      "Epoch 46/100\n",
      "60/60 [==============================] - 0s 1ms/step - loss: 0.2804 - accuracy: 0.9182\n",
      "Epoch 47/100\n",
      "60/60 [==============================] - 0s 1ms/step - loss: 0.2782 - accuracy: 0.9190\n",
      "Epoch 48/100\n",
      "60/60 [==============================] - 0s 2ms/step - loss: 0.2761 - accuracy: 0.9194\n",
      "Epoch 49/100\n",
      "60/60 [==============================] - 0s 2ms/step - loss: 0.2741 - accuracy: 0.9200\n",
      "Epoch 50/100\n",
      "60/60 [==============================] - 0s 1ms/step - loss: 0.2720 - accuracy: 0.9204\n",
      "Epoch 51/100\n",
      "60/60 [==============================] - 0s 1ms/step - loss: 0.2702 - accuracy: 0.9209\n",
      "Epoch 52/100\n",
      "60/60 [==============================] - 0s 2ms/step - loss: 0.2684 - accuracy: 0.9214\n",
      "Epoch 53/100\n",
      "60/60 [==============================] - 0s 2ms/step - loss: 0.2668 - accuracy: 0.9222\n",
      "Epoch 54/100\n",
      "60/60 [==============================] - 0s 1ms/step - loss: 0.2652 - accuracy: 0.9221\n",
      "Epoch 55/100\n",
      "60/60 [==============================] - 0s 1ms/step - loss: 0.2634 - accuracy: 0.9227\n",
      "Epoch 56/100\n",
      "60/60 [==============================] - 0s 2ms/step - loss: 0.2619 - accuracy: 0.9236\n",
      "Epoch 57/100\n",
      "60/60 [==============================] - 0s 2ms/step - loss: 0.2603 - accuracy: 0.9236\n",
      "Epoch 58/100\n",
      "60/60 [==============================] - 0s 1ms/step - loss: 0.2591 - accuracy: 0.9239\n",
      "Epoch 59/100\n",
      "60/60 [==============================] - 0s 2ms/step - loss: 0.2577 - accuracy: 0.9240\n",
      "Epoch 60/100\n",
      "60/60 [==============================] - 0s 2ms/step - loss: 0.2564 - accuracy: 0.9247\n",
      "Epoch 61/100\n",
      "60/60 [==============================] - 0s 2ms/step - loss: 0.2551 - accuracy: 0.9246\n",
      "Epoch 62/100\n",
      "60/60 [==============================] - 0s 2ms/step - loss: 0.2540 - accuracy: 0.9253\n",
      "Epoch 63/100\n",
      "60/60 [==============================] - 0s 1ms/step - loss: 0.2525 - accuracy: 0.9257\n",
      "Epoch 64/100\n",
      "60/60 [==============================] - 0s 2ms/step - loss: 0.2516 - accuracy: 0.9257\n",
      "Epoch 65/100\n",
      "60/60 [==============================] - 0s 1ms/step - loss: 0.2504 - accuracy: 0.9263\n",
      "Epoch 66/100\n",
      "60/60 [==============================] - 0s 2ms/step - loss: 0.2493 - accuracy: 0.9268\n",
      "Epoch 67/100\n",
      "60/60 [==============================] - 0s 2ms/step - loss: 0.2482 - accuracy: 0.9269\n",
      "Epoch 68/100\n",
      "60/60 [==============================] - 0s 2ms/step - loss: 0.2471 - accuracy: 0.9270\n",
      "Epoch 69/100\n",
      "60/60 [==============================] - 0s 1ms/step - loss: 0.2461 - accuracy: 0.9276\n",
      "Epoch 70/100\n",
      "60/60 [==============================] - 0s 2ms/step - loss: 0.2452 - accuracy: 0.9274\n",
      "Epoch 71/100\n",
      "60/60 [==============================] - 0s 2ms/step - loss: 0.2442 - accuracy: 0.9280\n",
      "Epoch 72/100\n",
      "60/60 [==============================] - 0s 1ms/step - loss: 0.2433 - accuracy: 0.9281\n",
      "Epoch 73/100\n",
      "60/60 [==============================] - 0s 1ms/step - loss: 0.2424 - accuracy: 0.9286\n",
      "Epoch 74/100\n",
      "60/60 [==============================] - 0s 2ms/step - loss: 0.2415 - accuracy: 0.9286\n",
      "Epoch 75/100\n",
      "60/60 [==============================] - 0s 1ms/step - loss: 0.2407 - accuracy: 0.9292\n",
      "Epoch 76/100\n",
      "60/60 [==============================] - 0s 1ms/step - loss: 0.2398 - accuracy: 0.9295\n",
      "Epoch 77/100\n",
      "60/60 [==============================] - 0s 2ms/step - loss: 0.2390 - accuracy: 0.9294\n",
      "Epoch 78/100\n",
      "60/60 [==============================] - 0s 1ms/step - loss: 0.2383 - accuracy: 0.9299\n",
      "Epoch 79/100\n",
      "60/60 [==============================] - 0s 1ms/step - loss: 0.2375 - accuracy: 0.9304\n",
      "Epoch 80/100\n",
      "60/60 [==============================] - 0s 1ms/step - loss: 0.2367 - accuracy: 0.9302\n",
      "Epoch 81/100\n",
      "60/60 [==============================] - 0s 1ms/step - loss: 0.2360 - accuracy: 0.9304\n",
      "Epoch 82/100\n",
      "60/60 [==============================] - 0s 2ms/step - loss: 0.2353 - accuracy: 0.9305\n",
      "Epoch 83/100\n",
      "60/60 [==============================] - 0s 1ms/step - loss: 0.2347 - accuracy: 0.9308\n",
      "Epoch 84/100\n",
      "60/60 [==============================] - 0s 1ms/step - loss: 0.2339 - accuracy: 0.9308\n",
      "Epoch 85/100\n",
      "60/60 [==============================] - 0s 1ms/step - loss: 0.2332 - accuracy: 0.9309\n",
      "Epoch 86/100\n",
      "60/60 [==============================] - 0s 1ms/step - loss: 0.2325 - accuracy: 0.9311\n",
      "Epoch 87/100\n",
      "60/60 [==============================] - 0s 2ms/step - loss: 0.2320 - accuracy: 0.9318\n",
      "Epoch 88/100\n",
      "60/60 [==============================] - 0s 2ms/step - loss: 0.2311 - accuracy: 0.9316\n",
      "Epoch 89/100\n",
      "60/60 [==============================] - 0s 2ms/step - loss: 0.2307 - accuracy: 0.9316\n",
      "Epoch 90/100\n",
      "60/60 [==============================] - 0s 2ms/step - loss: 0.2299 - accuracy: 0.9324\n",
      "Epoch 91/100\n",
      "60/60 [==============================] - 0s 2ms/step - loss: 0.2294 - accuracy: 0.9320\n",
      "Epoch 92/100\n",
      "60/60 [==============================] - 0s 1ms/step - loss: 0.2289 - accuracy: 0.9320\n",
      "Epoch 93/100\n",
      "60/60 [==============================] - 0s 1ms/step - loss: 0.2282 - accuracy: 0.9321\n",
      "Epoch 94/100\n",
      "60/60 [==============================] - 0s 1ms/step - loss: 0.2277 - accuracy: 0.9328\n",
      "Epoch 95/100\n",
      "60/60 [==============================] - 0s 2ms/step - loss: 0.2272 - accuracy: 0.9329\n",
      "Epoch 96/100\n",
      "60/60 [==============================] - 0s 2ms/step - loss: 0.2266 - accuracy: 0.9328\n",
      "Epoch 97/100\n",
      "60/60 [==============================] - 0s 1ms/step - loss: 0.2261 - accuracy: 0.9332\n",
      "Epoch 98/100\n",
      "60/60 [==============================] - 0s 2ms/step - loss: 0.2256 - accuracy: 0.9332\n",
      "Epoch 99/100\n",
      "60/60 [==============================] - 0s 1ms/step - loss: 0.2251 - accuracy: 0.9336\n",
      "Epoch 100/100\n",
      "60/60 [==============================] - 0s 1ms/step - loss: 0.2245 - accuracy: 0.9339\n"
     ]
    }
   ],
   "source": [
    "# hacemos el entrenamiento\n",
    "\n",
    "history = model.fit(x_train, y_train, epochs=100,  batch_size=1000)"
   ]
  },
  {
   "cell_type": "markdown",
   "metadata": {
    "id": "nxYK4VwySE84"
   },
   "source": [
    "El batch_size no ha sido aún explicado, simplemente úsalo así, en esencia lo que estamos haciendo es utilizar lotes de 1000 y hacer el backpropagation, así se entrena la red mucho más rápido.\n",
    "\n"
   ]
  },
  {
   "cell_type": "code",
   "execution_count": 13,
   "metadata": {
    "id": "yFHEcDzhSkdH"
   },
   "outputs": [
    {
     "data": {
      "image/png": "[encoded data removed]",
      "text/plain": [
       "<Figure size 640x480 with 1 Axes>"
      ]
     },
     "metadata": {},
     "output_type": "display_data"
    }
   ],
   "source": [
    "# hacemos un plot para ver si aprende adecuadamente\n",
    "plot_history(history)"
   ]
  },
  {
   "cell_type": "code",
   "execution_count": 14,
   "metadata": {
    "id": "0Bbdw8veTzRG"
   },
   "outputs": [
    {
     "name": "stdout",
     "output_type": "stream",
     "text": [
      "313/313 [==============================] - 0s 471us/step - loss: 0.2542 - accuracy: 0.9250\n",
      "test accuracy:  0.925000011920929\n"
     ]
    }
   ],
   "source": [
    "# evaluacion final con el test_set\n",
    "\n",
    "test_loss, test_acc = model.evaluate(x_test, y_test)\n",
    "print('test accuracy: ', test_acc)"
   ]
  },
  {
   "cell_type": "markdown",
   "metadata": {
    "id": "0Vpwvbz0UHSY"
   },
   "source": [
    "Aproximadamente un 83% de precisión en la clasificación. Está muy bien para ser matrices vectorizadas"
   ]
  },
  {
   "cell_type": "markdown",
   "metadata": {
    "id": "bqUxnBObVZyY"
   },
   "source": [
    "Vamos a ver la salida de la capa de neuronas softmax, la salida de la red."
   ]
  },
  {
   "cell_type": "code",
   "execution_count": 15,
   "metadata": {
    "id": "r_bFixVoVizM"
   },
   "outputs": [
    {
     "name": "stdout",
     "output_type": "stream",
     "text": [
      "313/313 [==============================] - 0s 580us/step\n",
      "[1.6401574e-03 1.3111233e-04 4.2205947e-03 4.8968277e-04 1.1686579e-02\n",
      " 2.1266122e-03 9.7328466e-01 2.3532046e-03 4.0285392e-03 3.8835100e-05]\n",
      "6\n"
     ]
    }
   ],
   "source": [
    "yp = model.predict(x_test)\n",
    "\n",
    "print(yp[11])\n",
    "print(np.argmax(yp[11]))\n"
   ]
  },
  {
   "cell_type": "markdown",
   "metadata": {
    "id": "oIkI-133WCSk"
   },
   "source": [
    "La categoria final es la de la neurona que tenga el valor más alto. En este caso la 6 (en python se empieza a contar en 0)"
   ]
  },
  {
   "cell_type": "markdown",
   "metadata": {
    "id": "8XirSO5SWtWl"
   },
   "source": [
    "# Ejercicio\n",
    "\n",
    "Prueba a modificar los hiperparámetros de la red e incluso su arquitectura para obtener una mejor clasificación. Por ejemplo podrías hacer lo siguiente:\n",
    "\n",
    "1. Prueba a utilizar otros tipos de neuronas (RelU o tanh)\n",
    "1. Prueba a incrementar el número de capas y de neuronas\n",
    "1. Prueba a cambiar el batch_size\n",
    "1. Prueba a utilizar otros optimizadores como adam o RMSprop\n",
    "\n",
    "\n",
    "\n",
    "```\n",
    "model.compile(loss=\"categorical_crossentropy\",\n",
    "              optimizer= tf.keras.optimizers.Adam(lr=0.001),\n",
    "              metrics= ['accuracy'])\n",
    "```\n",
    "\n",
    "\n",
    "\n",
    "```\n",
    "model.compile(loss=\"categorical_crossentropy\",\n",
    "              optimizer= tf.keras.optimizers.RMSprop(lr=0.001),\n",
    "              metrics= ['accuracy'])\n",
    "```\n",
    "\n",
    "\n",
    "Haz las pruebas que consideres interesantes e interpreta los resultados.\n",
    "\n",
    "Pega el código empleado (solo las partes que has cambiado) en la ventana de abajo\n",
    "\n",
    "Para saber cómo modificar la red o cambiar de optimizador simplemente usa google, te aportará miles de ejemplos\n",
    "\n",
    "Recuerda que los resultados tienes que subirlos a un cuestionario de moodle"
   ]
  }
 ],
 "metadata": {
  "colab": {
   "authorship_tag": "ABX9TyMy3u+3gQiuJMi8gYCXYnff",
   "collapsed_sections": [],
   "include_colab_link": true,
   "name": "P03.MLP_mnist_onehot.ipynb",
   "provenance": []
  },
  "kernelspec": {
   "display_name": "Python 3 (ipykernel)",
   "language": "python",
   "name": "python3"
  },
  "language_info": {
   "codemirror_mode": {
    "name": "ipython",
    "version": 3
   },
   "file_extension": ".py",
   "mimetype": "text/x-python",
   "name": "python",
   "nbconvert_exporter": "python",
   "pygments_lexer": "ipython3",
   "version": "3.11.6"
  }
 },
 "nbformat": 4,
 "nbformat_minor": 4
}
