{
 "cells": [
  {
   "cell_type": "markdown",
   "metadata": {
    "id": "-ZzYyPZVHVix"
   },
   "source": [
    "# Perceptron Multicapa con clasificador multicategórico"
   ]
  },
  {
   "cell_type": "code",
   "execution_count": 3,
   "metadata": {
    "id": "7BP6MJ5IG9-e"
   },
   "outputs": [
    {
     "name": "stdout",
     "output_type": "stream",
     "text": [
      "WARNING:tensorflow:From c:\\Users\\Leire\\AppData\\Local\\Programs\\Python\\Python311\\Lib\\site-packages\\keras\\src\\losses.py:2976: The name tf.losses.sparse_softmax_cross_entropy is deprecated. Please use tf.compat.v1.losses.sparse_softmax_cross_entropy instead.\n",
      "\n",
      "2.15.0\n"
     ]
    }
   ],
   "source": [
    "# importamos librerías necesarias\n",
    "import tensorflow as tf\n",
    "from tensorflow import keras\n",
    "import numpy as np\n",
    "import sys\n",
    "import matplotlib.pyplot as plt\n",
    "\n",
    "from keras.utils import to_categorical\n",
    "from keras.layers import Dense\n",
    "\n",
    "import pandas as pd\n",
    "\n",
    "# versiones de los paquetes\n",
    "print(tf.__version__)"
   ]
  },
  {
   "cell_type": "code",
   "execution_count": 4,
   "metadata": {
    "id": "YcxG8ACgLwKo"
   },
   "outputs": [],
   "source": [
    "# Definimos funciones\n",
    "\n",
    "# esta funcion nos va a servir para ver la historia de la red\n",
    "# como ha ido cambiando el loss y el accuracy\n",
    "\n",
    "def plot_history(history):\n",
    "  hist = pd.DataFrame(history.history)\n",
    "  hist['epoch'] = history.epoch\n",
    "\n",
    "  plt.figure()\n",
    "  plt.xlabel('Epoch')\n",
    "  plt.ylabel('Mean Square Error')\n",
    "  plt.plot(hist['epoch'], hist['loss'],'r--',\n",
    "           label='Training Error')\n",
    "  plt.plot(hist['epoch'], hist['accuracy'],'b',\n",
    "           label = 'accuracy')\n",
    "  #plt.ylim([0,20])\n",
    "  plt.legend()\n",
    "  plt.show() # un €"
   ]
  },
  {
   "cell_type": "code",
   "execution_count": 5,
   "metadata": {
    "id": "rsg2Lpd5HDTQ"
   },
   "outputs": [
    {
     "data": {
      "image/png": "[encoded data removed]",
      "text/plain": [
       "<Figure size 640x480 with 1 Axes>"
      ]
     },
     "metadata": {},
     "output_type": "display_data"
    }
   ],
   "source": [
    "# Los datos ya estan incorporados en Keras, los cargamos con esta función\n",
    "mnist = tf.keras.datasets.mnist\n",
    "(x_train, y_train), (x_test, y_test) = mnist.load_data()\n",
    "\n",
    "# visualizamos la imagen 8\n",
    "plt.imshow(x_train[8])\n",
    "plt.show()"
   ]
  },
  {
   "cell_type": "markdown",
   "metadata": {
    "id": "BgluGv1-MHmN"
   },
   "source": [
    "Fíjate que en una única llamada a mnist.load_data() hemos cargado todo, los conjuntos de entrenamiento (x_train, y_train) y los conjuntos de evaluación (x_test, y_test)\n",
    "\n",
    "No te preocupes mucho, simplemente Keras ha definido la carga de esos ficheros de esa manera.\n",
    "\n",
    "La última parte del código sirve para visualizar las imágenes\n",
    "\n",
    "\n",
    "```\n",
    "# visualizamos la imagen 8\n",
    "plt.imshow(x_train[8])\n",
    "plt.show()\n",
    "```\n",
    "Si cambias el número 8 puedes ir viendo otras imágenes, tienes 60000 para elegir. Aunque aparezca en color es por la función usada imshow que las colorea, en realidad son escala de grises"
   ]
  },
  {
   "cell_type": "code",
   "execution_count": 6,
   "metadata": {
    "id": "tL6bkamUHn0M"
   },
   "outputs": [
    {
     "name": "stdout",
     "output_type": "stream",
     "text": [
      "3\n",
      "(60000, 28, 28)\n",
      "1\n",
      "(60000,)\n"
     ]
    }
   ],
   "source": [
    "# comprobamos las caracteristicas del set de entrenamiento\n",
    "print(x_train.ndim)\n",
    "print(x_train.shape)\n",
    "print(y_train.ndim)\n",
    "print(y_train.shape)"
   ]
  },
  {
   "cell_type": "markdown",
   "metadata": {
    "id": "ILaGi6JDNxe6"
   },
   "source": [
    "Las dimensiones son las correctas, x es una matriz de 3 dimensiones: 60000x28x28 e y un vector de 600000"
   ]
  },
  {
   "cell_type": "code",
   "execution_count": 7,
   "metadata": {
    "id": "w91wnzxdNnsF"
   },
   "outputs": [
    {
     "name": "stdout",
     "output_type": "stream",
     "text": [
      "dimensiones:  60000 10000 28 28\n"
     ]
    }
   ],
   "source": [
    "# guardamos las dimensiones en variables para hacer la red mas generica\n",
    "# y reutilizable\n",
    "\n",
    "ntrain = x_train.shape[0]\n",
    "ntest  = x_test.shape[0]\n",
    "dimf = x_train.shape[1]\n",
    "dimc = x_train.shape[2]\n",
    "\n",
    "print(\"dimensiones: \", ntrain, ntest, dimf, dimc)"
   ]
  },
  {
   "cell_type": "markdown",
   "metadata": {
    "id": "FLrz7AcWOVJV"
   },
   "source": [
    "##Preprocesado\n",
    "\n",
    "Hay que preparar las imágenes para que entren en la red, vamos a hacer dos cosas:\n",
    "1. Vectorizarlas\n",
    "1. Normalizarlas, haciendo que vayan de 0 a 1 en vez de 0 a 255\n",
    "1. Convertir y en una matriz one hot\n"
   ]
  },
  {
   "cell_type": "code",
   "execution_count": 8,
   "metadata": {
    "id": "EbBtxVf3OmJT"
   },
   "outputs": [
    {
     "name": "stdout",
     "output_type": "stream",
     "text": [
      "(60000, 784)\n"
     ]
    }
   ],
   "source": [
    "# Preprocesamos los datos vectorizando y normalizando las imagenes\n",
    "\n",
    "x_train = x_train.astype('float32')/255.\n",
    "x_train = x_train.reshape(ntrain, dimf*dimc)\n",
    "\n",
    "x_test = x_test.astype('float32')/255.\n",
    "x_test = x_test.reshape(ntest, dimf*dimc)\n",
    "\n",
    "# comprobamos que la dimension de x es correcta\n",
    "print(x_train.shape)"
   ]
  },
  {
   "cell_type": "markdown",
   "metadata": {
    "id": "HF4VZdQPPBuf"
   },
   "source": [
    "Ahora tenemos 60000 vectores de 784 (28x28) píxeles\n",
    "\n",
    "\n",
    "Creamos con y la matriz de onehot"
   ]
  },
  {
   "cell_type": "code",
   "execution_count": 9,
   "metadata": {
    "id": "keQpY6s2PHey"
   },
   "outputs": [
    {
     "name": "stdout",
     "output_type": "stream",
     "text": [
      "(60000, 10)\n"
     ]
    }
   ],
   "source": [
    "y_train = to_categorical(y_train, num_classes=10)\n",
    "y_test = to_categorical(y_test, num_classes=10)\n",
    "\n",
    "print(y_train.shape)"
   ]
  },
  {
   "cell_type": "code",
   "execution_count": 46,
   "metadata": {
    "id": "4oir9PxVPdyr"
   },
   "outputs": [
    {
     "name": "stdout",
     "output_type": "stream",
     "text": [
      "Model: \"sequential_9\"\n",
      "_________________________________________________________________\n",
      " Layer (type)                Output Shape              Param #   \n",
      "=================================================================\n",
      " dense_20 (Dense)            (None, 100)               78500     \n",
      "                                                                 \n",
      " dense_21 (Dense)            (None, 10)                1010      \n",
      "                                                                 \n",
      "=================================================================\n",
      "Total params: 79510 (310.59 KB)\n",
      "Trainable params: 79510 (310.59 KB)\n",
      "Non-trainable params: 0 (0.00 Byte)\n",
      "_________________________________________________________________\n"
     ]
    }
   ],
   "source": [
    "# Especificamos el modelo\n",
    "# Una unica capa oculta con 10 sigmoides\n",
    "# Una capa de salida con 10 softmax, una para cada categoria\n",
    "\n",
    "model = keras.Sequential()\n",
    "model.add(Dense(100, activation='relu', input_shape=(dimf*dimc,)))\n",
    "model.add(Dense(10, activation = 'softmax'))\n",
    "model.summary()\n"
   ]
  },
  {
   "cell_type": "code",
   "execution_count": 105,
   "metadata": {
    "id": "JHmjFJU4RxoE"
   },
   "outputs": [],
   "source": [
    "# compilamos el modelo\n",
    "model.compile(loss=\"categorical_crossentropy\",\n",
    "              optimizer=\"sgd\", # stochastic gradient descent\n",
    "              metrics= ['accuracy'])\n"
   ]
  },
  {
   "cell_type": "code",
   "execution_count": 47,
   "metadata": {
    "id": "bwULGARUY8Zi"
   },
   "outputs": [
    {
     "name": "stderr",
     "output_type": "stream",
     "text": [
      "WARNING:absl:`lr` is deprecated in Keras optimizer, please use `learning_rate` or use the legacy optimizer, e.g.,tf.keras.optimizers.legacy.RMSprop.\n"
     ]
    }
   ],
   "source": [
    "# compilamos el modelo\n",
    "\n",
    "model.compile(loss=\"categorical_crossentropy\",\n",
    "              optimizer= tf.keras.optimizers.RMSprop(lr=0.001),\n",
    "              metrics= ['accuracy'])\n"
   ]
  },
  {
   "cell_type": "code",
   "execution_count": 48,
   "metadata": {
    "id": "HrhKIgtGR7NQ"
   },
   "outputs": [
    {
     "name": "stdout",
     "output_type": "stream",
     "text": [
      "Epoch 1/100\n",
      "60/60 [==============================] - 1s 6ms/step - loss: 0.7063 - accuracy: 0.8270\n",
      "Epoch 2/100\n",
      "60/60 [==============================] - 0s 6ms/step - loss: 0.3227 - accuracy: 0.9111\n",
      "Epoch 3/100\n",
      "60/60 [==============================] - 0s 6ms/step - loss: 0.2607 - accuracy: 0.9270\n",
      "Epoch 4/100\n",
      "60/60 [==============================] - 0s 8ms/step - loss: 0.2238 - accuracy: 0.9377\n",
      "Epoch 5/100\n",
      "60/60 [==============================] - 1s 9ms/step - loss: 0.1970 - accuracy: 0.9448\n",
      "Epoch 6/100\n",
      "60/60 [==============================] - 0s 7ms/step - loss: 0.1770 - accuracy: 0.9500\n",
      "Epoch 7/100\n",
      "60/60 [==============================] - 0s 8ms/step - loss: 0.1593 - accuracy: 0.9543\n",
      "Epoch 8/100\n",
      "60/60 [==============================] - 0s 8ms/step - loss: 0.1448 - accuracy: 0.9592\n",
      "Epoch 9/100\n",
      "60/60 [==============================] - 0s 7ms/step - loss: 0.1320 - accuracy: 0.9631\n",
      "Epoch 10/100\n",
      "60/60 [==============================] - 0s 8ms/step - loss: 0.1220 - accuracy: 0.9656\n",
      "Epoch 11/100\n",
      "60/60 [==============================] - 0s 8ms/step - loss: 0.1129 - accuracy: 0.9682\n",
      "Epoch 12/100\n",
      "60/60 [==============================] - 1s 9ms/step - loss: 0.1044 - accuracy: 0.9705\n",
      "Epoch 13/100\n",
      "60/60 [==============================] - 1s 9ms/step - loss: 0.0974 - accuracy: 0.9723\n",
      "Epoch 14/100\n",
      "60/60 [==============================] - 0s 7ms/step - loss: 0.0913 - accuracy: 0.9749\n",
      "Epoch 15/100\n",
      "60/60 [==============================] - 0s 8ms/step - loss: 0.0854 - accuracy: 0.9757\n",
      "Epoch 16/100\n",
      "60/60 [==============================] - 0s 8ms/step - loss: 0.0803 - accuracy: 0.9776\n",
      "Epoch 17/100\n",
      "60/60 [==============================] - 0s 8ms/step - loss: 0.0746 - accuracy: 0.9794\n",
      "Epoch 18/100\n",
      "60/60 [==============================] - 0s 7ms/step - loss: 0.0711 - accuracy: 0.9803\n",
      "Epoch 19/100\n",
      "60/60 [==============================] - 1s 9ms/step - loss: 0.0670 - accuracy: 0.9816\n",
      "Epoch 20/100\n",
      "60/60 [==============================] - 0s 8ms/step - loss: 0.0632 - accuracy: 0.9826\n",
      "Epoch 21/100\n",
      "60/60 [==============================] - 0s 7ms/step - loss: 0.0601 - accuracy: 0.9837\n",
      "Epoch 22/100\n",
      "60/60 [==============================] - 0s 7ms/step - loss: 0.0570 - accuracy: 0.9846\n",
      "Epoch 23/100\n",
      "60/60 [==============================] - 1s 8ms/step - loss: 0.0541 - accuracy: 0.9855\n",
      "Epoch 24/100\n",
      "60/60 [==============================] - 0s 8ms/step - loss: 0.0513 - accuracy: 0.9858\n",
      "Epoch 25/100\n",
      "60/60 [==============================] - 0s 8ms/step - loss: 0.0492 - accuracy: 0.9865\n",
      "Epoch 26/100\n",
      "60/60 [==============================] - 0s 7ms/step - loss: 0.0465 - accuracy: 0.9877\n",
      "Epoch 27/100\n",
      "60/60 [==============================] - 0s 8ms/step - loss: 0.0444 - accuracy: 0.9882\n",
      "Epoch 28/100\n",
      "60/60 [==============================] - 0s 7ms/step - loss: 0.0422 - accuracy: 0.9891\n",
      "Epoch 29/100\n",
      "60/60 [==============================] - 0s 6ms/step - loss: 0.0405 - accuracy: 0.9894\n",
      "Epoch 30/100\n",
      "60/60 [==============================] - 0s 6ms/step - loss: 0.0386 - accuracy: 0.9904\n",
      "Epoch 31/100\n",
      "60/60 [==============================] - 0s 8ms/step - loss: 0.0368 - accuracy: 0.9908\n",
      "Epoch 32/100\n",
      "60/60 [==============================] - 0s 8ms/step - loss: 0.0350 - accuracy: 0.9911\n",
      "Epoch 33/100\n",
      "60/60 [==============================] - 0s 6ms/step - loss: 0.0337 - accuracy: 0.9913\n",
      "Epoch 34/100\n",
      "60/60 [==============================] - 0s 7ms/step - loss: 0.0319 - accuracy: 0.9919\n",
      "Epoch 35/100\n",
      "60/60 [==============================] - 0s 7ms/step - loss: 0.0308 - accuracy: 0.9922\n",
      "Epoch 36/100\n",
      "60/60 [==============================] - 1s 9ms/step - loss: 0.0288 - accuracy: 0.9928\n",
      "Epoch 37/100\n",
      "60/60 [==============================] - 1s 9ms/step - loss: 0.0282 - accuracy: 0.9931\n",
      "Epoch 38/100\n",
      "60/60 [==============================] - 1s 9ms/step - loss: 0.0265 - accuracy: 0.9939\n",
      "Epoch 39/100\n",
      "60/60 [==============================] - 1s 9ms/step - loss: 0.0252 - accuracy: 0.9941\n",
      "Epoch 40/100\n",
      "60/60 [==============================] - 1s 9ms/step - loss: 0.0242 - accuracy: 0.9948\n",
      "Epoch 41/100\n",
      "60/60 [==============================] - 1s 9ms/step - loss: 0.0230 - accuracy: 0.9951\n",
      "Epoch 42/100\n",
      "60/60 [==============================] - 0s 8ms/step - loss: 0.0222 - accuracy: 0.9952\n",
      "Epoch 43/100\n",
      "60/60 [==============================] - 0s 7ms/step - loss: 0.0210 - accuracy: 0.9957\n",
      "Epoch 44/100\n",
      "60/60 [==============================] - 0s 8ms/step - loss: 0.0205 - accuracy: 0.9955\n",
      "Epoch 45/100\n",
      "60/60 [==============================] - 1s 9ms/step - loss: 0.0193 - accuracy: 0.9962\n",
      "Epoch 46/100\n",
      "60/60 [==============================] - 1s 9ms/step - loss: 0.0185 - accuracy: 0.9965\n",
      "Epoch 47/100\n",
      "60/60 [==============================] - 0s 6ms/step - loss: 0.0176 - accuracy: 0.9968\n",
      "Epoch 48/100\n",
      "60/60 [==============================] - 0s 7ms/step - loss: 0.0171 - accuracy: 0.9969\n",
      "Epoch 49/100\n",
      "60/60 [==============================] - 0s 8ms/step - loss: 0.0161 - accuracy: 0.9971\n",
      "Epoch 50/100\n",
      "60/60 [==============================] - 0s 8ms/step - loss: 0.0154 - accuracy: 0.9974\n",
      "Epoch 51/100\n",
      "60/60 [==============================] - 0s 8ms/step - loss: 0.0147 - accuracy: 0.9978\n",
      "Epoch 52/100\n",
      "60/60 [==============================] - 0s 7ms/step - loss: 0.0140 - accuracy: 0.9979\n",
      "Epoch 53/100\n",
      "60/60 [==============================] - 1s 8ms/step - loss: 0.0133 - accuracy: 0.9980\n",
      "Epoch 54/100\n",
      "60/60 [==============================] - 1s 9ms/step - loss: 0.0126 - accuracy: 0.9982\n",
      "Epoch 55/100\n",
      "60/60 [==============================] - 0s 8ms/step - loss: 0.0120 - accuracy: 0.9983\n",
      "Epoch 56/100\n",
      "60/60 [==============================] - 0s 6ms/step - loss: 0.0115 - accuracy: 0.9985\n",
      "Epoch 57/100\n",
      "60/60 [==============================] - 0s 6ms/step - loss: 0.0111 - accuracy: 0.9987\n",
      "Epoch 58/100\n",
      "60/60 [==============================] - 0s 7ms/step - loss: 0.0105 - accuracy: 0.9987\n",
      "Epoch 59/100\n",
      "60/60 [==============================] - 0s 8ms/step - loss: 0.0102 - accuracy: 0.9989\n",
      "Epoch 60/100\n",
      "60/60 [==============================] - 0s 7ms/step - loss: 0.0095 - accuracy: 0.9990\n",
      "Epoch 61/100\n",
      "60/60 [==============================] - 1s 8ms/step - loss: 0.0093 - accuracy: 0.9991\n",
      "Epoch 62/100\n",
      "60/60 [==============================] - 0s 7ms/step - loss: 0.0086 - accuracy: 0.9993\n",
      "Epoch 63/100\n",
      "60/60 [==============================] - 0s 6ms/step - loss: 0.0083 - accuracy: 0.9994\n",
      "Epoch 64/100\n",
      "60/60 [==============================] - 0s 8ms/step - loss: 0.0079 - accuracy: 0.9993\n",
      "Epoch 65/100\n",
      "60/60 [==============================] - 0s 7ms/step - loss: 0.0075 - accuracy: 0.9994\n",
      "Epoch 66/100\n",
      "60/60 [==============================] - 0s 8ms/step - loss: 0.0073 - accuracy: 0.9995\n",
      "Epoch 67/100\n",
      "60/60 [==============================] - 0s 8ms/step - loss: 0.0068 - accuracy: 0.9996\n",
      "Epoch 68/100\n",
      "60/60 [==============================] - 0s 7ms/step - loss: 0.0066 - accuracy: 0.9996\n",
      "Epoch 69/100\n",
      "60/60 [==============================] - 0s 8ms/step - loss: 0.0063 - accuracy: 0.9996\n",
      "Epoch 70/100\n",
      "60/60 [==============================] - 0s 8ms/step - loss: 0.0062 - accuracy: 0.9995\n",
      "Epoch 71/100\n",
      "60/60 [==============================] - 0s 8ms/step - loss: 0.0057 - accuracy: 0.9998\n",
      "Epoch 72/100\n",
      "60/60 [==============================] - 0s 6ms/step - loss: 0.0054 - accuracy: 0.9997\n",
      "Epoch 73/100\n",
      "60/60 [==============================] - 0s 7ms/step - loss: 0.0053 - accuracy: 0.9998\n",
      "Epoch 74/100\n",
      "60/60 [==============================] - 0s 6ms/step - loss: 0.0050 - accuracy: 0.9998\n",
      "Epoch 75/100\n",
      "60/60 [==============================] - 0s 6ms/step - loss: 0.0048 - accuracy: 0.9998\n",
      "Epoch 76/100\n",
      "60/60 [==============================] - 0s 5ms/step - loss: 0.0045 - accuracy: 0.9998\n",
      "Epoch 77/100\n",
      "60/60 [==============================] - 0s 6ms/step - loss: 0.0043 - accuracy: 0.9999\n",
      "Epoch 78/100\n",
      "60/60 [==============================] - 0s 7ms/step - loss: 0.0042 - accuracy: 0.9998\n",
      "Epoch 79/100\n",
      "60/60 [==============================] - 0s 8ms/step - loss: 0.0040 - accuracy: 0.9998\n",
      "Epoch 80/100\n",
      "60/60 [==============================] - 1s 9ms/step - loss: 0.0038 - accuracy: 1.0000\n",
      "Epoch 81/100\n",
      "60/60 [==============================] - 1s 9ms/step - loss: 0.0036 - accuracy: 0.9999\n",
      "Epoch 82/100\n",
      "60/60 [==============================] - 1s 9ms/step - loss: 0.0035 - accuracy: 0.9999\n",
      "Epoch 83/100\n",
      "60/60 [==============================] - 1s 9ms/step - loss: 0.0034 - accuracy: 0.9999\n",
      "Epoch 84/100\n",
      "60/60 [==============================] - 1s 9ms/step - loss: 0.0032 - accuracy: 0.9999\n",
      "Epoch 85/100\n",
      "60/60 [==============================] - 1s 9ms/step - loss: 0.0031 - accuracy: 0.9999\n",
      "Epoch 86/100\n",
      "60/60 [==============================] - 1s 8ms/step - loss: 0.0029 - accuracy: 0.9999\n",
      "Epoch 87/100\n",
      "60/60 [==============================] - 0s 8ms/step - loss: 0.0029 - accuracy: 0.9999\n",
      "Epoch 88/100\n",
      "60/60 [==============================] - 0s 8ms/step - loss: 0.0027 - accuracy: 0.9999\n",
      "Epoch 89/100\n",
      "60/60 [==============================] - 0s 8ms/step - loss: 0.0026 - accuracy: 1.0000\n",
      "Epoch 90/100\n",
      "60/60 [==============================] - 0s 6ms/step - loss: 0.0025 - accuracy: 0.9999\n",
      "Epoch 91/100\n",
      "60/60 [==============================] - 0s 7ms/step - loss: 0.0024 - accuracy: 1.0000\n",
      "Epoch 92/100\n",
      "60/60 [==============================] - 0s 7ms/step - loss: 0.0023 - accuracy: 1.0000\n",
      "Epoch 93/100\n",
      "60/60 [==============================] - 0s 5ms/step - loss: 0.0022 - accuracy: 1.0000\n",
      "Epoch 94/100\n",
      "60/60 [==============================] - 0s 7ms/step - loss: 0.0023 - accuracy: 1.0000\n",
      "Epoch 95/100\n",
      "60/60 [==============================] - 1s 9ms/step - loss: 0.0021 - accuracy: 1.0000\n",
      "Epoch 96/100\n",
      "60/60 [==============================] - 0s 8ms/step - loss: 0.0020 - accuracy: 1.0000\n",
      "Epoch 97/100\n",
      "60/60 [==============================] - 1s 9ms/step - loss: 0.0020 - accuracy: 1.0000\n",
      "Epoch 98/100\n",
      "60/60 [==============================] - 1s 9ms/step - loss: 0.0019 - accuracy: 1.0000\n",
      "Epoch 99/100\n",
      "60/60 [==============================] - 1s 9ms/step - loss: 0.0019 - accuracy: 1.0000\n",
      "Epoch 100/100\n",
      "60/60 [==============================] - 1s 9ms/step - loss: 0.0017 - accuracy: 1.0000\n"
     ]
    }
   ],
   "source": [
    "# hacemos el entrenamiento\n",
    "\n",
    "history = model.fit(x_train, y_train, epochs=100,  batch_size=1000)"
   ]
  },
  {
   "cell_type": "markdown",
   "metadata": {
    "id": "nxYK4VwySE84"
   },
   "source": [
    "El batch_size no ha sido aún explicado, simplemente úsalo así, en esencia lo que estamos haciendo es utilizar lotes de 1000 y hacer el backpropagation, así se entrena la red mucho más rápido.\n",
    "\n"
   ]
  },
  {
   "cell_type": "code",
   "execution_count": 33,
   "metadata": {
    "id": "yFHEcDzhSkdH"
   },
   "outputs": [
    {
     "data": {
      "image/png": "[encoded data removed]",
      "text/plain": [
       "<Figure size 640x480 with 1 Axes>"
      ]
     },
     "metadata": {},
     "output_type": "display_data"
    }
   ],
   "source": [
    "# hacemos un plot para ver si aprende adecuadamente\n",
    "plot_history(history)"
   ]
  },
  {
   "cell_type": "code",
   "execution_count": 49,
   "metadata": {
    "id": "0Bbdw8veTzRG"
   },
   "outputs": [
    {
     "name": "stdout",
     "output_type": "stream",
     "text": [
      "313/313 [==============================] - 1s 2ms/step - loss: 0.0860 - accuracy: 0.9793\n",
      "test accuracy:  0.9793000221252441\n"
     ]
    }
   ],
   "source": [
    "# evaluacion final con el test_set\n",
    "\n",
    "test_loss, test_acc = model.evaluate(x_test, y_test)\n",
    "print('test accuracy: ', test_acc)"
   ]
  },
  {
   "cell_type": "markdown",
   "metadata": {
    "id": "0Vpwvbz0UHSY"
   },
   "source": [
    "Aproximadamente un 83% de precisión en la clasificación. Está muy bien para ser matrices vectorizadas"
   ]
  },
  {
   "cell_type": "markdown",
   "metadata": {
    "id": "bqUxnBObVZyY"
   },
   "source": [
    "Vamos a ver la salida de la capa de neuronas softmax, la salida de la red."
   ]
  },
  {
   "cell_type": "code",
   "execution_count": 21,
   "metadata": {
    "id": "r_bFixVoVizM"
   },
   "outputs": [
    {
     "name": "stdout",
     "output_type": "stream",
     "text": [
      "313/313 [==============================] - 1s 1ms/step\n",
      "[1.7949442e-03 7.2706162e-06 5.1162500e-02 7.0075337e-03 3.8208924e-02\n",
      " 3.9845826e-03 7.3918378e-01 4.5145398e-06 1.5826918e-01 3.7685226e-04]\n",
      "6\n"
     ]
    }
   ],
   "source": [
    "yp = model.predict(x_test)\n",
    "\n",
    "print(yp[11])\n",
    "print(np.argmax(yp[11]))\n"
   ]
  },
  {
   "cell_type": "markdown",
   "metadata": {
    "id": "oIkI-133WCSk"
   },
   "source": [
    "La categoria final es la de la neurona que tenga el valor más alto. En este caso la 6 (en python se empieza a contar en 0)"
   ]
  },
  {
   "cell_type": "markdown",
   "metadata": {
    "id": "8XirSO5SWtWl"
   },
   "source": [
    "# Ejercicio\n",
    "\n",
    "Prueba a modificar los hiperparámetros de la red e incluso su arquitectura para obtener una mejor clasificación. Por ejemplo podrías hacer lo siguiente:\n",
    "\n",
    "1. Prueba a utilizar otros tipos de neuronas (RelU o tanh)\n",
    "1. Prueba a incrementar el número de capas y de neuronas\n",
    "1. Prueba a cambiar el batch_size\n",
    "1. Prueba a utilizar otros optimizadores como adam o RMSprop\n",
    "\n",
    "\n",
    "\n",
    "```\n",
    "model.compile(loss=\"categorical_crossentropy\",\n",
    "              optimizer= tf.keras.optimizers.Adam(lr=0.001),\n",
    "              metrics= ['accuracy'])\n",
    "```\n",
    "\n",
    "\n",
    "\n",
    "```\n",
    "model.compile(loss=\"categorical_crossentropy\",\n",
    "              optimizer= tf.keras.optimizers.RMSprop(lr=0.001),\n",
    "              metrics= ['accuracy'])\n",
    "```\n",
    "\n",
    "\n",
    "Haz las pruebas que consideres interesantes e interpreta los resultados.\n",
    "\n",
    "Pega el código empleado (solo las partes que has cambiado) en la ventana de abajo\n",
    "\n",
    "Para saber cómo modificar la red o cambiar de optimizador simplemente usa google, te aportará miles de ejemplos\n",
    "\n",
    "Recuerda que los resultados tienes que subirlos a un cuestionario de moodle"
   ]
  },
  {
   "cell_type": "markdown",
   "metadata": {},
   "source": [
    "### Modificación de las neuronas de activación\n",
    "\n"
   ]
  },
  {
   "cell_type": "markdown",
   "metadata": {},
   "source": [
    "#### Usando ReLU\n",
    "\n"
   ]
  },
  {
   "cell_type": "code",
   "execution_count": 24,
   "metadata": {},
   "outputs": [
    {
     "name": "stdout",
     "output_type": "stream",
     "text": [
      "Model: \"sequential_3\"\n",
      "_________________________________________________________________\n",
      " Layer (type)                Output Shape              Param #   \n",
      "=================================================================\n",
      " dense_6 (Dense)             (None, 10)                7850      \n",
      "                                                                 \n",
      " dense_7 (Dense)             (None, 10)                110       \n",
      "                                                                 \n",
      "=================================================================\n",
      "Total params: 7960 (31.09 KB)\n",
      "Trainable params: 7960 (31.09 KB)\n",
      "Non-trainable params: 0 (0.00 Byte)\n",
      "_________________________________________________________________\n"
     ]
    }
   ],
   "source": [
    "# Una unica capa oculta con 10 ReLU\n",
    "\n",
    "\n",
    "model = keras.Sequential()\n",
    "model.add(Dense(10, activation='relu', input_shape=(dimf*dimc,)))\n",
    "model.add(Dense(10, activation = 'softmax'))\n",
    "model.summary()\n"
   ]
  },
  {
   "cell_type": "code",
   "execution_count": 81,
   "metadata": {},
   "outputs": [
    {
     "name": "stdout",
     "output_type": "stream",
     "text": [
      "313/313 [==============================] - 0s 1ms/step - loss: 0.3071 - accuracy: 0.9139\n",
      "test accuracy:  0.9139000177383423\n"
     ]
    }
   ],
   "source": [
    "# Evaluacion final con el test_set\n",
    "\n",
    "test_loss, test_acc = model.evaluate(x_test, y_test)\n",
    "print('test accuracy: ', test_acc)"
   ]
  },
  {
   "cell_type": "markdown",
   "metadata": {},
   "source": [
    "#### Usando Tanh\n",
    "\n"
   ]
  },
  {
   "cell_type": "markdown",
   "metadata": {},
   "source": [
    "(tu codigo por aquí)"
   ]
  },
  {
   "cell_type": "markdown",
   "metadata": {},
   "source": [
    "Como se puede observar, manteniendo el mismo número de capas y neuronas (una capa y 10 neuronas), mientras que usando sigmoid se obtenía un *test accuracy* de 0.83, usando ReLU se ha obtenido un valor de 0.91 y usando Tanh --."
   ]
  },
  {
   "cell_type": "markdown",
   "metadata": {},
   "source": [
    "### Modificación del número de capas y de neuronas"
   ]
  },
  {
   "cell_type": "markdown",
   "metadata": {},
   "source": [
    "#### Usando ReLU\n",
    "\n"
   ]
  },
  {
   "cell_type": "code",
   "execution_count": null,
   "metadata": {},
   "outputs": [
    {
     "name": "stdout",
     "output_type": "stream",
     "text": [
      "Model: \"sequential_14\"\n",
      "_________________________________________________________________\n",
      " Layer (type)                Output Shape              Param #   \n",
      "=================================================================\n",
      " dense_33 (Dense)            (None, 50)                39250     \n",
      "                                                                 \n",
      " dense_34 (Dense)            (None, 10)                510       \n",
      "                                                                 \n",
      "=================================================================\n",
      "Total params: 39760 (155.31 KB)\n",
      "Trainable params: 39760 (155.31 KB)\n",
      "Non-trainable params: 0 (0.00 Byte)\n",
      "_________________________________________________________________\n"
     ]
    }
   ],
   "source": [
    "# Una unica capa oculta con 50 ReLU\n",
    "\n",
    "\n",
    "model = keras.Sequential()\n",
    "model.add(Dense(50, activation='relu', input_shape=(dimf*dimc,)))\n",
    "model.add(Dense(10, activation = 'softmax'))\n",
    "model.summary()\n"
   ]
  },
  {
   "cell_type": "code",
   "execution_count": null,
   "metadata": {},
   "outputs": [
    {
     "name": "stdout",
     "output_type": "stream",
     "text": [
      "313/313 [==============================] - 1s 2ms/step - loss: 0.2777 - accuracy: 0.9221\n",
      "test accuracy:  0.9221000075340271\n"
     ]
    }
   ],
   "source": [
    "# Evaluacion final con el test_set\n",
    "\n",
    "test_loss, test_acc = model.evaluate(x_test, y_test)\n",
    "print('test accuracy: ', test_acc)"
   ]
  },
  {
   "cell_type": "code",
   "execution_count": null,
   "metadata": {},
   "outputs": [
    {
     "name": "stdout",
     "output_type": "stream",
     "text": [
      "Model: \"sequential_8\"\n",
      "_________________________________________________________________\n",
      " Layer (type)                Output Shape              Param #   \n",
      "=================================================================\n",
      " dense_16 (Dense)            (None, 100)               78500     \n",
      "                                                                 \n",
      " dense_17 (Dense)            (None, 10)                1010      \n",
      "                                                                 \n",
      "=================================================================\n",
      "Total params: 79510 (310.59 KB)\n",
      "Trainable params: 79510 (310.59 KB)\n",
      "Non-trainable params: 0 (0.00 Byte)\n",
      "_________________________________________________________________\n"
     ]
    }
   ],
   "source": [
    "# Una unica capa oculta con 100 ReLU\n",
    "\n",
    "\n",
    "model = keras.Sequential()\n",
    "model.add(Dense(100, activation='relu', input_shape=(dimf*dimc,)))\n",
    "model.add(Dense(10, activation = 'softmax'))\n",
    "model.summary()\n"
   ]
  },
  {
   "cell_type": "code",
   "execution_count": null,
   "metadata": {},
   "outputs": [
    {
     "name": "stdout",
     "output_type": "stream",
     "text": [
      "313/313 [==============================] - 1s 2ms/step - loss: 0.2575 - accuracy: 0.9279\n",
      "test accuracy:  0.9279000163078308\n"
     ]
    }
   ],
   "source": [
    "# Evaluacion final con el test_set\n",
    "\n",
    "test_loss, test_acc = model.evaluate(x_test, y_test)\n",
    "print('test accuracy: ', test_acc)"
   ]
  },
  {
   "cell_type": "code",
   "execution_count": null,
   "metadata": {},
   "outputs": [
    {
     "name": "stdout",
     "output_type": "stream",
     "text": [
      "Model: \"sequential_9\"\n",
      "_________________________________________________________________\n",
      " Layer (type)                Output Shape              Param #   \n",
      "=================================================================\n",
      " dense_18 (Dense)            (None, 10)                7850      \n",
      "                                                                 \n",
      " dense_19 (Dense)            (None, 10)                110       \n"
     ]
    },
    {
     "name": "stdout",
     "output_type": "stream",
     "text": [
      "                                                                 \n",
      " dense_20 (Dense)            (None, 10)                110       \n",
      "                                                                 \n",
      "=================================================================\n",
      "Total params: 8070 (31.52 KB)\n",
      "Trainable params: 8070 (31.52 KB)\n",
      "Non-trainable params: 0 (0.00 Byte)\n",
      "_________________________________________________________________\n"
     ]
    }
   ],
   "source": [
    "# Dos capas ocultas con 10 ReLU cada una\n",
    "\n",
    "\n",
    "model = keras.Sequential()\n",
    "model.add(Dense(10, activation='relu', input_shape=(dimf*dimc,)))\n",
    "model.add(Dense(10, activation='relu', input_shape=(dimf*dimc,)))\n",
    "model.add(Dense(10, activation = 'softmax'))\n",
    "model.summary()\n"
   ]
  },
  {
   "cell_type": "code",
   "execution_count": null,
   "metadata": {},
   "outputs": [
    {
     "name": "stdout",
     "output_type": "stream",
     "text": [
      "313/313 [==============================] - 1s 1ms/step - loss: 0.3594 - accuracy: 0.8940\n",
      "test accuracy:  0.8939999938011169\n"
     ]
    }
   ],
   "source": [
    "# Evaluacion final con el test_set\n",
    "\n",
    "test_loss, test_acc = model.evaluate(x_test, y_test)\n",
    "print('test accuracy: ', test_acc)"
   ]
  },
  {
   "cell_type": "code",
   "execution_count": null,
   "metadata": {},
   "outputs": [
    {
     "name": "stdout",
     "output_type": "stream",
     "text": [
      "Model: \"sequential_11\"\n",
      "_________________________________________________________________\n",
      " Layer (type)                Output Shape              Param #   \n",
      "=================================================================\n",
      " dense_24 (Dense)            (None, 50)                39250     \n",
      "                                                                 \n"
     ]
    },
    {
     "name": "stdout",
     "output_type": "stream",
     "text": [
      " dense_25 (Dense)            (None, 50)                2550      \n",
      "                                                                 \n",
      " dense_26 (Dense)            (None, 10)                510       \n",
      "                                                                 \n",
      "=================================================================\n",
      "Total params: 42310 (165.27 KB)\n",
      "Trainable params: 42310 (165.27 KB)\n",
      "Non-trainable params: 0 (0.00 Byte)\n",
      "_________________________________________________________________\n"
     ]
    }
   ],
   "source": [
    "# Dos capas ocultas con 50 ReLU cada una\n",
    "\n",
    "\n",
    "model = keras.Sequential()\n",
    "model.add(Dense(50, activation='relu', input_shape=(dimf*dimc,)))\n",
    "model.add(Dense(50, activation='relu', input_shape=(dimf*dimc,)))\n",
    "model.add(Dense(10, activation = 'softmax'))\n",
    "model.summary()\n"
   ]
  },
  {
   "cell_type": "code",
   "execution_count": null,
   "metadata": {},
   "outputs": [
    {
     "name": "stdout",
     "output_type": "stream",
     "text": [
      "313/313 [==============================] - 1s 1ms/step - loss: 0.2281 - accuracy: 0.9323\n",
      "test accuracy:  0.9322999715805054\n"
     ]
    }
   ],
   "source": [
    "# Evaluacion final con el test_set\n",
    "\n",
    "test_loss, test_acc = model.evaluate(x_test, y_test)\n",
    "print('test accuracy: ', test_acc)"
   ]
  },
  {
   "cell_type": "code",
   "execution_count": null,
   "metadata": {},
   "outputs": [
    {
     "name": "stdout",
     "output_type": "stream",
     "text": [
      "Model: \"sequential_13\"\n",
      "_________________________________________________________________\n",
      " Layer (type)                Output Shape              Param #   \n",
      "=================================================================\n"
     ]
    },
    {
     "name": "stdout",
     "output_type": "stream",
     "text": [
      " dense_30 (Dense)            (None, 100)               78500     \n",
      "                                                                 \n",
      " dense_31 (Dense)            (None, 100)               10100     \n",
      "                                                                 \n",
      " dense_32 (Dense)            (None, 10)                1010      \n",
      "                                                                 \n",
      "=================================================================\n",
      "Total params: 89610 (350.04 KB)\n",
      "Trainable params: 89610 (350.04 KB)\n",
      "Non-trainable params: 0 (0.00 Byte)\n",
      "_________________________________________________________________\n"
     ]
    }
   ],
   "source": [
    "# Dos capas ocultas con 100 ReLU cada una\n",
    "\n",
    "\n",
    "model = keras.Sequential()\n",
    "model.add(Dense(100, activation='relu', input_shape=(dimf*dimc,)))\n",
    "model.add(Dense(100, activation='relu', input_shape=(dimf*dimc,)))\n",
    "model.add(Dense(10, activation = 'softmax'))\n",
    "model.summary()\n"
   ]
  },
  {
   "cell_type": "code",
   "execution_count": null,
   "metadata": {},
   "outputs": [
    {
     "name": "stdout",
     "output_type": "stream",
     "text": [
      "313/313 [==============================] - 1s 2ms/step - loss: 0.2191 - accuracy: 0.9381\n",
      "test accuracy:  0.9380999803543091\n"
     ]
    }
   ],
   "source": [
    "# Evaluacion final con el test_set\n",
    "\n",
    "test_loss, test_acc = model.evaluate(x_test, y_test)\n",
    "print('test accuracy: ', test_acc)"
   ]
  },
  {
   "cell_type": "code",
   "execution_count": null,
   "metadata": {},
   "outputs": [
    {
     "name": "stdout",
     "output_type": "stream",
     "text": [
      "Model: \"sequential_19\"\n",
      "_________________________________________________________________\n",
      " Layer (type)                Output Shape              Param #   \n",
      "=================================================================\n",
      " dense_49 (Dense)            (None, 100)               78500     \n",
      "                                                                 \n",
      " dense_50 (Dense)            (None, 100)               10100     \n",
      "                                                                 \n",
      " dense_51 (Dense)            (None, 100)               10100     \n",
      "                                                                 \n",
      " dense_52 (Dense)            (None, 100)               10100     \n",
      "                                                                 \n",
      " dense_53 (Dense)            (None, 100)               10100     \n",
      "                                                                 \n",
      " dense_54 (Dense)            (None, 100)               10100     \n",
      "                                                                 \n",
      " dense_55 (Dense)            (None, 10)                1010      \n",
      "                                                                 \n",
      "=================================================================\n",
      "Total params: 130010 (507.85 KB)\n",
      "Trainable params: 130010 (507.85 KB)\n",
      "Non-trainable params: 0 (0.00 Byte)\n",
      "_________________________________________________________________\n"
     ]
    }
   ],
   "source": [
    "# Seis capas ocultas con 100 ReLU cada una\n",
    "\n",
    "\n",
    "model = keras.Sequential()\n",
    "model.add(Dense(100, activation='relu', input_shape=(dimf*dimc,)))\n",
    "model.add(Dense(100, activation='relu', input_shape=(dimf*dimc,)))\n",
    "model.add(Dense(100, activation='relu', input_shape=(dimf*dimc,)))\n",
    "model.add(Dense(100, activation='relu', input_shape=(dimf*dimc,)))\n",
    "model.add(Dense(100, activation='relu', input_shape=(dimf*dimc,)))\n",
    "model.add(Dense(100, activation='relu', input_shape=(dimf*dimc,)))\n",
    "model.add(Dense(10, activation = 'softmax'))\n",
    "model.summary()\n"
   ]
  },
  {
   "cell_type": "code",
   "execution_count": 94,
   "metadata": {},
   "outputs": [
    {
     "name": "stdout",
     "output_type": "stream",
     "text": [
      "313/313 [==============================] - 1s 2ms/step - loss: 0.1394 - accuracy: 0.9568\n",
      "test accuracy:  0.9567999839782715\n"
     ]
    }
   ],
   "source": [
    "# Evaluacion final con el test_set\n",
    "\n",
    "test_loss, test_acc = model.evaluate(x_test, y_test)\n",
    "print('test accuracy: ', test_acc)"
   ]
  },
  {
   "cell_type": "markdown",
   "metadata": {},
   "source": [
    "En lo que respecta a las neuronas ReLU, se puede observar que según aumenta el número de capas y de neuronas por capa, el valor del *test accuray* también aumenta. De hecho, el modelo alcanza su máximo porcentaje con 6 capas y 100 neuronas en cada una."
   ]
  },
  {
   "cell_type": "markdown",
   "metadata": {},
   "source": [
    "#### Usando Tanh\n",
    "\n"
   ]
  },
  {
   "cell_type": "markdown",
   "metadata": {},
   "source": [
    "(tu codigo por aquí)"
   ]
  },
  {
   "cell_type": "markdown",
   "metadata": {},
   "source": [
    "### Modificación del batch_size\n",
    "\n"
   ]
  },
  {
   "cell_type": "markdown",
   "metadata": {},
   "source": [
    "#### Usando ReLU\n",
    "\n"
   ]
  },
  {
   "cell_type": "code",
   "execution_count": null,
   "metadata": {},
   "outputs": [
    {
     "name": "stdout",
     "output_type": "stream",
     "text": [
      "Epoch 1/100\n",
      "600/600 [==============================] - 1s 2ms/step - loss: 1.5873 - accuracy: 0.5271\n",
      "Epoch 2/100\n",
      "600/600 [==============================] - 1s 2ms/step - loss: 0.7832 - accuracy: 0.8012\n",
      "Epoch 3/100\n",
      "600/600 [==============================] - 1s 2ms/step - loss: 0.5841 - accuracy: 0.8432\n",
      "Epoch 4/100\n",
      "600/600 [==============================] - 1s 2ms/step - loss: 0.5022 - accuracy: 0.8622\n",
      "Epoch 5/100\n",
      "600/600 [==============================] - 2s 3ms/step - loss: 0.4569 - accuracy: 0.8734\n",
      "Epoch 6/100\n",
      "600/600 [==============================] - 2s 3ms/step - loss: 0.4271 - accuracy: 0.8814\n",
      "Epoch 7/100\n",
      "600/600 [==============================] - 1s 2ms/step - loss: 0.4054 - accuracy: 0.8867\n",
      "Epoch 8/100\n",
      "600/600 [==============================] - 1s 2ms/step - loss: 0.3888 - accuracy: 0.8910\n",
      "Epoch 9/100\n",
      "600/600 [==============================] - 2s 3ms/step - loss: 0.3756 - accuracy: 0.8946\n",
      "Epoch 10/100\n",
      "600/600 [==============================] - 1s 3ms/step - loss: 0.3649 - accuracy: 0.8977\n",
      "Epoch 11/100\n",
      "600/600 [==============================] - 2s 3ms/step - loss: 0.3561 - accuracy: 0.8999\n",
      "Epoch 12/100\n",
      "600/600 [==============================] - 2s 3ms/step - loss: 0.3485 - accuracy: 0.9018\n",
      "Epoch 13/100\n",
      "600/600 [==============================] - 2s 3ms/step - loss: 0.3420 - accuracy: 0.9040\n",
      "Epoch 14/100\n",
      "600/600 [==============================] - 1s 2ms/step - loss: 0.3364 - accuracy: 0.9052\n",
      "Epoch 15/100\n",
      "600/600 [==============================] - 1s 3ms/step - loss: 0.3316 - accuracy: 0.9067\n",
      "Epoch 16/100\n",
      "600/600 [==============================] - 2s 3ms/step - loss: 0.3272 - accuracy: 0.9079\n",
      "Epoch 17/100\n",
      "600/600 [==============================] - 2s 3ms/step - loss: 0.3233 - accuracy: 0.9088\n",
      "Epoch 18/100\n",
      "600/600 [==============================] - 2s 3ms/step - loss: 0.3197 - accuracy: 0.9100\n",
      "Epoch 19/100\n",
      "600/600 [==============================] - 1s 2ms/step - loss: 0.3163 - accuracy: 0.9110\n",
      "Epoch 20/100\n",
      "600/600 [==============================] - 1s 2ms/step - loss: 0.3134 - accuracy: 0.9115\n",
      "Epoch 21/100\n",
      "600/600 [==============================] - 1s 2ms/step - loss: 0.3106 - accuracy: 0.9126\n",
      "Epoch 22/100\n",
      "600/600 [==============================] - 1s 2ms/step - loss: 0.3078 - accuracy: 0.9132\n",
      "Epoch 23/100\n",
      "600/600 [==============================] - 1s 2ms/step - loss: 0.3055 - accuracy: 0.9135\n",
      "Epoch 24/100\n",
      "600/600 [==============================] - 2s 3ms/step - loss: 0.3031 - accuracy: 0.9142\n",
      "Epoch 25/100\n",
      "600/600 [==============================] - 2s 3ms/step - loss: 0.3007 - accuracy: 0.9145\n",
      "Epoch 26/100\n",
      "600/600 [==============================] - 1s 2ms/step - loss: 0.2987 - accuracy: 0.9158\n",
      "Epoch 27/100\n",
      "600/600 [==============================] - 1s 2ms/step - loss: 0.2966 - accuracy: 0.9160\n",
      "Epoch 28/100\n",
      "600/600 [==============================] - 1s 2ms/step - loss: 0.2946 - accuracy: 0.9167\n",
      "Epoch 29/100\n",
      "600/600 [==============================] - 1s 2ms/step - loss: 0.2928 - accuracy: 0.9175\n",
      "Epoch 30/100\n",
      "600/600 [==============================] - 2s 3ms/step - loss: 0.2909 - accuracy: 0.9176\n",
      "Epoch 31/100\n",
      "600/600 [==============================] - 2s 3ms/step - loss: 0.2891 - accuracy: 0.9184\n",
      "Epoch 32/100\n",
      "600/600 [==============================] - 1s 2ms/step - loss: 0.2874 - accuracy: 0.9188\n",
      "Epoch 33/100\n",
      "600/600 [==============================] - 2s 3ms/step - loss: 0.2857 - accuracy: 0.9193\n",
      "Epoch 34/100\n",
      "600/600 [==============================] - 2s 3ms/step - loss: 0.2841 - accuracy: 0.9198\n",
      "Epoch 35/100\n",
      "600/600 [==============================] - 2s 3ms/step - loss: 0.2826 - accuracy: 0.9203\n",
      "Epoch 36/100\n",
      "600/600 [==============================] - 2s 3ms/step - loss: 0.2812 - accuracy: 0.9207\n",
      "Epoch 37/100\n",
      "600/600 [==============================] - 2s 3ms/step - loss: 0.2796 - accuracy: 0.9209\n",
      "Epoch 38/100\n",
      "600/600 [==============================] - 2s 3ms/step - loss: 0.2782 - accuracy: 0.9212\n",
      "Epoch 39/100\n",
      "600/600 [==============================] - 1s 2ms/step - loss: 0.2768 - accuracy: 0.9213\n",
      "Epoch 40/100\n",
      "600/600 [==============================] - 2s 3ms/step - loss: 0.2754 - accuracy: 0.9222\n",
      "Epoch 41/100\n",
      "600/600 [==============================] - 2s 3ms/step - loss: 0.2741 - accuracy: 0.9228\n",
      "Epoch 42/100\n",
      "600/600 [==============================] - 1s 2ms/step - loss: 0.2728 - accuracy: 0.9228\n",
      "Epoch 43/100\n",
      "600/600 [==============================] - 1s 2ms/step - loss: 0.2715 - accuracy: 0.9232\n",
      "Epoch 44/100\n",
      "600/600 [==============================] - 1s 2ms/step - loss: 0.2700 - accuracy: 0.9236\n",
      "Epoch 45/100\n",
      "600/600 [==============================] - 2s 3ms/step - loss: 0.2688 - accuracy: 0.9239\n",
      "Epoch 46/100\n",
      "600/600 [==============================] - 2s 3ms/step - loss: 0.2675 - accuracy: 0.9249\n",
      "Epoch 47/100\n",
      "600/600 [==============================] - 2s 3ms/step - loss: 0.2664 - accuracy: 0.9240\n",
      "Epoch 48/100\n",
      "600/600 [==============================] - 2s 3ms/step - loss: 0.2653 - accuracy: 0.9254\n",
      "Epoch 49/100\n",
      "600/600 [==============================] - 2s 3ms/step - loss: 0.2641 - accuracy: 0.9250\n",
      "Epoch 50/100\n",
      "600/600 [==============================] - 2s 3ms/step - loss: 0.2627 - accuracy: 0.9261\n",
      "Epoch 51/100\n",
      "600/600 [==============================] - 1s 2ms/step - loss: 0.2618 - accuracy: 0.9260\n",
      "Epoch 52/100\n",
      "600/600 [==============================] - 2s 3ms/step - loss: 0.2606 - accuracy: 0.9264\n",
      "Epoch 53/100\n",
      "600/600 [==============================] - 1s 2ms/step - loss: 0.2596 - accuracy: 0.9265\n",
      "Epoch 54/100\n",
      "600/600 [==============================] - 2s 3ms/step - loss: 0.2584 - accuracy: 0.9272\n",
      "Epoch 55/100\n",
      "600/600 [==============================] - 2s 3ms/step - loss: 0.2576 - accuracy: 0.9273\n",
      "Epoch 56/100\n",
      "600/600 [==============================] - 1s 2ms/step - loss: 0.2565 - accuracy: 0.9275\n",
      "Epoch 57/100\n",
      "600/600 [==============================] - 2s 3ms/step - loss: 0.2554 - accuracy: 0.9280\n",
      "Epoch 58/100\n",
      "600/600 [==============================] - 1s 2ms/step - loss: 0.2544 - accuracy: 0.9280\n",
      "Epoch 59/100\n",
      "600/600 [==============================] - 2s 3ms/step - loss: 0.2534 - accuracy: 0.9283\n",
      "Epoch 60/100\n",
      "600/600 [==============================] - 2s 3ms/step - loss: 0.2524 - accuracy: 0.9289\n",
      "Epoch 61/100\n",
      "600/600 [==============================] - 3s 6ms/step - loss: 0.2515 - accuracy: 0.9287\n",
      "Epoch 62/100\n",
      "600/600 [==============================] - 4s 7ms/step - loss: 0.2504 - accuracy: 0.9293\n",
      "Epoch 63/100\n",
      "600/600 [==============================] - 4s 6ms/step - loss: 0.2494 - accuracy: 0.9293\n",
      "Epoch 64/100\n",
      "600/600 [==============================] - 3s 5ms/step - loss: 0.2485 - accuracy: 0.9296\n",
      "Epoch 65/100\n",
      "600/600 [==============================] - 2s 3ms/step - loss: 0.2475 - accuracy: 0.9300\n",
      "Epoch 66/100\n",
      "600/600 [==============================] - 4s 6ms/step - loss: 0.2466 - accuracy: 0.9310\n",
      "Epoch 67/100\n",
      "600/600 [==============================] - 3s 5ms/step - loss: 0.2457 - accuracy: 0.9308\n",
      "Epoch 68/100\n",
      "600/600 [==============================] - 2s 3ms/step - loss: 0.2445 - accuracy: 0.9312\n",
      "Epoch 69/100\n",
      "600/600 [==============================] - 2s 3ms/step - loss: 0.2437 - accuracy: 0.9315\n",
      "Epoch 70/100\n",
      "600/600 [==============================] - 2s 3ms/step - loss: 0.2427 - accuracy: 0.9315\n",
      "Epoch 71/100\n",
      "600/600 [==============================] - 2s 3ms/step - loss: 0.2418 - accuracy: 0.9319\n",
      "Epoch 72/100\n",
      "600/600 [==============================] - 2s 3ms/step - loss: 0.2409 - accuracy: 0.9318\n",
      "Epoch 73/100\n",
      "600/600 [==============================] - 2s 3ms/step - loss: 0.2397 - accuracy: 0.9323\n",
      "Epoch 74/100\n",
      "600/600 [==============================] - 2s 3ms/step - loss: 0.2390 - accuracy: 0.9324\n",
      "Epoch 75/100\n",
      "600/600 [==============================] - 2s 4ms/step - loss: 0.2379 - accuracy: 0.9329\n",
      "Epoch 76/100\n",
      "600/600 [==============================] - 4s 6ms/step - loss: 0.2370 - accuracy: 0.9329\n",
      "Epoch 77/100\n",
      "600/600 [==============================] - 4s 6ms/step - loss: 0.2360 - accuracy: 0.9337\n",
      "Epoch 78/100\n",
      "600/600 [==============================] - 3s 6ms/step - loss: 0.2353 - accuracy: 0.9333\n",
      "Epoch 79/100\n",
      "600/600 [==============================] - 4s 6ms/step - loss: 0.2343 - accuracy: 0.9339\n",
      "Epoch 80/100\n",
      "600/600 [==============================] - 3s 5ms/step - loss: 0.2334 - accuracy: 0.9340\n",
      "Epoch 81/100\n",
      "600/600 [==============================] - 3s 4ms/step - loss: 0.2325 - accuracy: 0.9345\n",
      "Epoch 82/100\n",
      "600/600 [==============================] - 2s 3ms/step - loss: 0.2314 - accuracy: 0.9348\n",
      "Epoch 83/100\n",
      "600/600 [==============================] - 2s 4ms/step - loss: 0.2306 - accuracy: 0.9350\n",
      "Epoch 84/100\n",
      "600/600 [==============================] - 2s 3ms/step - loss: 0.2297 - accuracy: 0.9353\n",
      "Epoch 85/100\n",
      "600/600 [==============================] - 2s 3ms/step - loss: 0.2288 - accuracy: 0.9352\n",
      "Epoch 86/100\n",
      "600/600 [==============================] - 2s 3ms/step - loss: 0.2279 - accuracy: 0.9358\n",
      "Epoch 87/100\n",
      "600/600 [==============================] - 2s 3ms/step - loss: 0.2270 - accuracy: 0.9363\n",
      "Epoch 88/100\n",
      "600/600 [==============================] - 2s 3ms/step - loss: 0.2262 - accuracy: 0.9366\n",
      "Epoch 89/100\n",
      "600/600 [==============================] - 2s 3ms/step - loss: 0.2253 - accuracy: 0.9364\n",
      "Epoch 90/100\n",
      "600/600 [==============================] - 2s 3ms/step - loss: 0.2244 - accuracy: 0.9365\n",
      "Epoch 91/100\n",
      "600/600 [==============================] - 2s 3ms/step - loss: 0.2236 - accuracy: 0.9369\n",
      "Epoch 92/100\n",
      "600/600 [==============================] - 2s 3ms/step - loss: 0.2228 - accuracy: 0.9374\n",
      "Epoch 93/100\n",
      "600/600 [==============================] - 2s 3ms/step - loss: 0.2219 - accuracy: 0.9376\n",
      "Epoch 94/100\n",
      "600/600 [==============================] - 2s 3ms/step - loss: 0.2211 - accuracy: 0.9378\n",
      "Epoch 95/100\n",
      "600/600 [==============================] - 2s 3ms/step - loss: 0.2204 - accuracy: 0.9378\n",
      "Epoch 96/100\n",
      "600/600 [==============================] - 3s 5ms/step - loss: 0.2196 - accuracy: 0.9380\n",
      "Epoch 97/100\n",
      "600/600 [==============================] - 3s 4ms/step - loss: 0.2190 - accuracy: 0.9382\n",
      "Epoch 98/100\n",
      "600/600 [==============================] - 2s 3ms/step - loss: 0.2183 - accuracy: 0.9389\n",
      "Epoch 99/100\n",
      "600/600 [==============================] - 2s 3ms/step - loss: 0.2174 - accuracy: 0.9388\n",
      "Epoch 100/100\n",
      "600/600 [==============================] - 2s 3ms/step - loss: 0.2170 - accuracy: 0.9388\n"
     ]
    }
   ],
   "source": [
    "# Hacer el entrenamiento con batch_size=100\n",
    "\n",
    "history = model.fit(x_train, y_train, epochs=100,  batch_size=100)"
   ]
  },
  {
   "cell_type": "code",
   "execution_count": null,
   "metadata": {},
   "outputs": [
    {
     "name": "stdout",
     "output_type": "stream",
     "text": [
      "313/313 [==============================] - 1s 2ms/step - loss: 0.2394 - accuracy: 0.9311\n",
      "test accuracy:  0.9311000108718872\n"
     ]
    }
   ],
   "source": [
    "# Evaluacion final con el test_set\n",
    "\n",
    "test_loss, test_acc = model.evaluate(x_test, y_test)\n",
    "print('test accuracy: ', test_acc)"
   ]
  },
  {
   "cell_type": "code",
   "execution_count": null,
   "metadata": {},
   "outputs": [
    {
     "name": "stdout",
     "output_type": "stream",
     "text": [
      "Epoch 1/100\n",
      "20/20 [==============================] - 0s 4ms/step - loss: 2.2320 - accuracy: 0.1546\n",
      "Epoch 2/100\n",
      "20/20 [==============================] - 0s 3ms/step - loss: 2.1564 - accuracy: 0.2131\n",
      "Epoch 3/100\n",
      "20/20 [==============================] - 0s 4ms/step - loss: 2.0833 - accuracy: 0.2693\n",
      "Epoch 4/100\n",
      "20/20 [==============================] - 0s 3ms/step - loss: 2.0090 - accuracy: 0.3222\n",
      "Epoch 5/100\n",
      "20/20 [==============================] - 0s 4ms/step - loss: 1.9348 - accuracy: 0.3742\n",
      "Epoch 6/100\n",
      "20/20 [==============================] - 0s 4ms/step - loss: 1.8635 - accuracy: 0.4265\n",
      "Epoch 7/100\n",
      "20/20 [==============================] - 0s 4ms/step - loss: 1.7953 - accuracy: 0.4794\n",
      "Epoch 8/100\n",
      "20/20 [==============================] - 0s 4ms/step - loss: 1.7294 - accuracy: 0.5249\n",
      "Epoch 9/100\n",
      "20/20 [==============================] - 0s 4ms/step - loss: 1.6653 - accuracy: 0.5650\n",
      "Epoch 10/100\n",
      "20/20 [==============================] - 0s 4ms/step - loss: 1.6025 - accuracy: 0.6002\n",
      "Epoch 11/100\n",
      "20/20 [==============================] - 0s 4ms/step - loss: 1.5411 - accuracy: 0.6320\n",
      "Epoch 12/100\n",
      "20/20 [==============================] - 0s 4ms/step - loss: 1.4811 - accuracy: 0.6575\n",
      "Epoch 13/100\n",
      "20/20 [==============================] - 0s 4ms/step - loss: 1.4229 - accuracy: 0.6778\n",
      "Epoch 14/100\n",
      "20/20 [==============================] - 0s 4ms/step - loss: 1.3668 - accuracy: 0.6944\n",
      "Epoch 15/100\n",
      "20/20 [==============================] - 0s 6ms/step - loss: 1.3130 - accuracy: 0.7084\n",
      "Epoch 16/100\n",
      "20/20 [==============================] - 0s 4ms/step - loss: 1.2619 - accuracy: 0.7193\n",
      "Epoch 17/100\n",
      "20/20 [==============================] - 0s 3ms/step - loss: 1.2135 - accuracy: 0.7283\n",
      "Epoch 18/100\n",
      "20/20 [==============================] - 0s 4ms/step - loss: 1.1680 - accuracy: 0.7367\n",
      "Epoch 19/100\n",
      "20/20 [==============================] - 0s 4ms/step - loss: 1.1255 - accuracy: 0.7447\n",
      "Epoch 20/100\n",
      "20/20 [==============================] - 0s 4ms/step - loss: 1.0858 - accuracy: 0.7511\n",
      "Epoch 21/100\n",
      "20/20 [==============================] - 0s 4ms/step - loss: 1.0489 - accuracy: 0.7563\n",
      "Epoch 22/100\n",
      "20/20 [==============================] - 0s 3ms/step - loss: 1.0147 - accuracy: 0.7620\n",
      "Epoch 23/100\n",
      "20/20 [==============================] - 0s 4ms/step - loss: 0.9830 - accuracy: 0.7672\n",
      "Epoch 24/100\n",
      "20/20 [==============================] - 0s 4ms/step - loss: 0.9536 - accuracy: 0.7720\n",
      "Epoch 25/100\n",
      "20/20 [==============================] - 0s 4ms/step - loss: 0.9262 - accuracy: 0.7765\n",
      "Epoch 26/100\n",
      "20/20 [==============================] - 0s 4ms/step - loss: 0.9008 - accuracy: 0.7815\n",
      "Epoch 27/100\n",
      "20/20 [==============================] - 0s 4ms/step - loss: 0.8772 - accuracy: 0.7859\n",
      "Epoch 28/100\n",
      "20/20 [==============================] - 0s 4ms/step - loss: 0.8552 - accuracy: 0.7900\n",
      "Epoch 29/100\n",
      "20/20 [==============================] - 0s 3ms/step - loss: 0.8346 - accuracy: 0.7944\n",
      "Epoch 30/100\n",
      "20/20 [==============================] - 0s 4ms/step - loss: 0.8154 - accuracy: 0.7983\n",
      "Epoch 31/100\n",
      "20/20 [==============================] - 0s 4ms/step - loss: 0.7974 - accuracy: 0.8023\n",
      "Epoch 32/100\n",
      "20/20 [==============================] - 0s 4ms/step - loss: 0.7805 - accuracy: 0.8049\n",
      "Epoch 33/100\n",
      "20/20 [==============================] - 0s 4ms/step - loss: 0.7646 - accuracy: 0.8089\n",
      "Epoch 34/100\n",
      "20/20 [==============================] - 0s 4ms/step - loss: 0.7496 - accuracy: 0.8120\n",
      "Epoch 35/100\n",
      "20/20 [==============================] - 0s 4ms/step - loss: 0.7355 - accuracy: 0.8148\n",
      "Epoch 36/100\n",
      "20/20 [==============================] - 0s 3ms/step - loss: 0.7222 - accuracy: 0.8178\n",
      "Epoch 37/100\n",
      "20/20 [==============================] - 0s 4ms/step - loss: 0.7096 - accuracy: 0.8205\n",
      "Epoch 38/100\n",
      "20/20 [==============================] - 0s 4ms/step - loss: 0.6976 - accuracy: 0.8230\n",
      "Epoch 39/100\n",
      "20/20 [==============================] - 0s 3ms/step - loss: 0.6863 - accuracy: 0.8255\n",
      "Epoch 40/100\n",
      "20/20 [==============================] - 0s 4ms/step - loss: 0.6755 - accuracy: 0.8278\n",
      "Epoch 41/100\n",
      "20/20 [==============================] - 0s 4ms/step - loss: 0.6652 - accuracy: 0.8296\n",
      "Epoch 42/100\n",
      "20/20 [==============================] - 0s 4ms/step - loss: 0.6555 - accuracy: 0.8317\n",
      "Epoch 43/100\n",
      "20/20 [==============================] - 0s 4ms/step - loss: 0.6462 - accuracy: 0.8341\n",
      "Epoch 44/100\n",
      "20/20 [==============================] - 0s 3ms/step - loss: 0.6373 - accuracy: 0.8357\n",
      "Epoch 45/100\n",
      "20/20 [==============================] - 0s 4ms/step - loss: 0.6288 - accuracy: 0.8383\n",
      "Epoch 46/100\n",
      "20/20 [==============================] - 0s 4ms/step - loss: 0.6207 - accuracy: 0.8397\n",
      "Epoch 47/100\n",
      "20/20 [==============================] - 0s 4ms/step - loss: 0.6129 - accuracy: 0.8416\n",
      "Epoch 48/100\n",
      "20/20 [==============================] - 0s 4ms/step - loss: 0.6055 - accuracy: 0.8429\n",
      "Epoch 49/100\n",
      "20/20 [==============================] - 0s 5ms/step - loss: 0.5983 - accuracy: 0.8447\n",
      "Epoch 50/100\n",
      "20/20 [==============================] - 0s 5ms/step - loss: 0.5915 - accuracy: 0.8458\n",
      "Epoch 51/100\n",
      "20/20 [==============================] - 0s 4ms/step - loss: 0.5849 - accuracy: 0.8478\n",
      "Epoch 52/100\n",
      "20/20 [==============================] - 0s 5ms/step - loss: 0.5786 - accuracy: 0.8494\n",
      "Epoch 53/100\n",
      "20/20 [==============================] - 0s 5ms/step - loss: 0.5725 - accuracy: 0.8506\n",
      "Epoch 54/100\n",
      "20/20 [==============================] - 0s 4ms/step - loss: 0.5667 - accuracy: 0.8522\n",
      "Epoch 55/100\n",
      "20/20 [==============================] - 0s 4ms/step - loss: 0.5610 - accuracy: 0.8533\n",
      "Epoch 56/100\n",
      "20/20 [==============================] - 0s 4ms/step - loss: 0.5556 - accuracy: 0.8544\n",
      "Epoch 57/100\n",
      "20/20 [==============================] - 0s 3ms/step - loss: 0.5504 - accuracy: 0.8558\n",
      "Epoch 58/100\n",
      "20/20 [==============================] - 0s 4ms/step - loss: 0.5453 - accuracy: 0.8567\n",
      "Epoch 59/100\n",
      "20/20 [==============================] - 0s 4ms/step - loss: 0.5405 - accuracy: 0.8579\n",
      "Epoch 60/100\n",
      "20/20 [==============================] - 0s 3ms/step - loss: 0.5358 - accuracy: 0.8590\n",
      "Epoch 61/100\n",
      "20/20 [==============================] - 0s 3ms/step - loss: 0.5312 - accuracy: 0.8598\n",
      "Epoch 62/100\n",
      "20/20 [==============================] - 0s 4ms/step - loss: 0.5268 - accuracy: 0.8605\n",
      "Epoch 63/100\n",
      "20/20 [==============================] - 0s 4ms/step - loss: 0.5226 - accuracy: 0.8617\n",
      "Epoch 64/100\n",
      "20/20 [==============================] - 0s 4ms/step - loss: 0.5185 - accuracy: 0.8622\n",
      "Epoch 65/100\n",
      "20/20 [==============================] - 0s 4ms/step - loss: 0.5145 - accuracy: 0.8630\n",
      "Epoch 66/100\n",
      "20/20 [==============================] - 0s 3ms/step - loss: 0.5106 - accuracy: 0.8638\n",
      "Epoch 67/100\n",
      "20/20 [==============================] - 0s 4ms/step - loss: 0.5069 - accuracy: 0.8650\n",
      "Epoch 68/100\n",
      "20/20 [==============================] - 0s 3ms/step - loss: 0.5033 - accuracy: 0.8655\n",
      "Epoch 69/100\n",
      "20/20 [==============================] - 0s 4ms/step - loss: 0.4998 - accuracy: 0.8662\n",
      "Epoch 70/100\n",
      "20/20 [==============================] - 0s 3ms/step - loss: 0.4964 - accuracy: 0.8672\n",
      "Epoch 71/100\n",
      "20/20 [==============================] - 0s 3ms/step - loss: 0.4930 - accuracy: 0.8678\n",
      "Epoch 72/100\n",
      "20/20 [==============================] - 0s 6ms/step - loss: 0.4898 - accuracy: 0.8686\n",
      "Epoch 73/100\n",
      "20/20 [==============================] - 0s 5ms/step - loss: 0.4867 - accuracy: 0.8692\n",
      "Epoch 74/100\n",
      "20/20 [==============================] - 0s 3ms/step - loss: 0.4837 - accuracy: 0.8698\n",
      "Epoch 75/100\n",
      "20/20 [==============================] - 0s 4ms/step - loss: 0.4807 - accuracy: 0.8704\n",
      "Epoch 76/100\n",
      "20/20 [==============================] - 0s 3ms/step - loss: 0.4779 - accuracy: 0.8711\n",
      "Epoch 77/100\n",
      "20/20 [==============================] - 0s 4ms/step - loss: 0.4751 - accuracy: 0.8719\n",
      "Epoch 78/100\n",
      "20/20 [==============================] - 0s 4ms/step - loss: 0.4723 - accuracy: 0.8724\n",
      "Epoch 79/100\n",
      "20/20 [==============================] - 0s 3ms/step - loss: 0.4697 - accuracy: 0.8729\n",
      "Epoch 80/100\n",
      "20/20 [==============================] - 0s 5ms/step - loss: 0.4671 - accuracy: 0.8737\n",
      "Epoch 81/100\n",
      "20/20 [==============================] - 0s 4ms/step - loss: 0.4646 - accuracy: 0.8743\n",
      "Epoch 82/100\n",
      "20/20 [==============================] - 0s 3ms/step - loss: 0.4622 - accuracy: 0.8747\n",
      "Epoch 83/100\n",
      "20/20 [==============================] - 0s 5ms/step - loss: 0.4598 - accuracy: 0.8752\n",
      "Epoch 84/100\n",
      "20/20 [==============================] - 0s 3ms/step - loss: 0.4575 - accuracy: 0.8758\n",
      "Epoch 85/100\n",
      "20/20 [==============================] - 0s 4ms/step - loss: 0.4552 - accuracy: 0.8762\n",
      "Epoch 86/100\n",
      "20/20 [==============================] - 0s 7ms/step - loss: 0.4530 - accuracy: 0.8768\n",
      "Epoch 87/100\n",
      "20/20 [==============================] - 0s 8ms/step - loss: 0.4509 - accuracy: 0.8774\n",
      "Epoch 88/100\n",
      "20/20 [==============================] - 0s 7ms/step - loss: 0.4487 - accuracy: 0.8780\n",
      "Epoch 89/100\n",
      "20/20 [==============================] - 0s 7ms/step - loss: 0.4467 - accuracy: 0.8783\n",
      "Epoch 90/100\n",
      "20/20 [==============================] - 0s 8ms/step - loss: 0.4447 - accuracy: 0.8788\n",
      "Epoch 91/100\n",
      "20/20 [==============================] - 0s 5ms/step - loss: 0.4427 - accuracy: 0.8790\n",
      "Epoch 92/100\n",
      "20/20 [==============================] - 0s 7ms/step - loss: 0.4408 - accuracy: 0.8793\n",
      "Epoch 93/100\n",
      "20/20 [==============================] - 0s 7ms/step - loss: 0.4389 - accuracy: 0.8799\n",
      "Epoch 94/100\n",
      "20/20 [==============================] - 0s 7ms/step - loss: 0.4371 - accuracy: 0.8803\n",
      "Epoch 95/100\n",
      "20/20 [==============================] - 0s 7ms/step - loss: 0.4353 - accuracy: 0.8807\n",
      "Epoch 96/100\n",
      "20/20 [==============================] - 0s 8ms/step - loss: 0.4336 - accuracy: 0.8810\n",
      "Epoch 97/100\n",
      "20/20 [==============================] - 0s 5ms/step - loss: 0.4319 - accuracy: 0.8815\n",
      "Epoch 98/100\n",
      "20/20 [==============================] - 0s 6ms/step - loss: 0.4302 - accuracy: 0.8816\n",
      "Epoch 99/100\n",
      "20/20 [==============================] - 0s 7ms/step - loss: 0.4286 - accuracy: 0.8820\n",
      "Epoch 100/100\n",
      "20/20 [==============================] - 0s 8ms/step - loss: 0.4269 - accuracy: 0.8824\n"
     ]
    }
   ],
   "source": [
    "# Hacer el entrenamiento con batch_size=3000\n",
    "\n",
    "history = model.fit(x_train, y_train, epochs=100,  batch_size=3000)"
   ]
  },
  {
   "cell_type": "code",
   "execution_count": null,
   "metadata": {},
   "outputs": [
    {
     "name": "stdout",
     "output_type": "stream",
     "text": [
      "313/313 [==============================] - 1s 2ms/step - loss: 0.4072 - accuracy: 0.8879\n",
      "test accuracy:  0.8878999948501587\n"
     ]
    }
   ],
   "source": [
    "# Evaluacion final con el test_set\n",
    "\n",
    "test_loss, test_acc = model.evaluate(x_test, y_test)\n",
    "print('test accuracy: ', test_acc)"
   ]
  },
  {
   "cell_type": "code",
   "execution_count": null,
   "metadata": {},
   "outputs": [
    {
     "name": "stdout",
     "output_type": "stream",
     "text": [
      "Epoch 1/100\n",
      "12/12 [==============================] - 0s 6ms/step - loss: 2.2892 - accuracy: 0.1432\n",
      "Epoch 2/100\n",
      "12/12 [==============================] - 0s 6ms/step - loss: 2.2305 - accuracy: 0.1770\n",
      "Epoch 3/100\n",
      "12/12 [==============================] - 0s 5ms/step - loss: 2.1899 - accuracy: 0.2015\n",
      "Epoch 4/100\n",
      "12/12 [==============================] - 0s 6ms/step - loss: 2.1558 - accuracy: 0.2196\n",
      "Epoch 5/100\n",
      "12/12 [==============================] - 0s 6ms/step - loss: 2.1244 - accuracy: 0.2351\n",
      "Epoch 6/100\n",
      "12/12 [==============================] - 0s 6ms/step - loss: 2.0943 - accuracy: 0.2503\n",
      "Epoch 7/100\n",
      "12/12 [==============================] - 0s 6ms/step - loss: 2.0649 - accuracy: 0.2648\n",
      "Epoch 8/100\n",
      "12/12 [==============================] - 0s 6ms/step - loss: 2.0357 - accuracy: 0.2795\n",
      "Epoch 9/100\n",
      "12/12 [==============================] - 0s 5ms/step - loss: 2.0062 - accuracy: 0.2948\n",
      "Epoch 10/100\n",
      "12/12 [==============================] - 0s 5ms/step - loss: 1.9758 - accuracy: 0.3090\n",
      "Epoch 11/100\n",
      "12/12 [==============================] - 0s 5ms/step - loss: 1.9438 - accuracy: 0.3239\n",
      "Epoch 12/100\n",
      "12/12 [==============================] - 0s 5ms/step - loss: 1.9096 - accuracy: 0.3386\n",
      "Epoch 13/100\n",
      "12/12 [==============================] - 0s 4ms/step - loss: 1.8742 - accuracy: 0.3528\n",
      "Epoch 14/100\n",
      "12/12 [==============================] - 0s 5ms/step - loss: 1.8384 - accuracy: 0.3709\n",
      "Epoch 15/100\n",
      "12/12 [==============================] - 0s 5ms/step - loss: 1.8029 - accuracy: 0.3901\n",
      "Epoch 16/100\n",
      "12/12 [==============================] - 0s 5ms/step - loss: 1.7676 - accuracy: 0.4127\n",
      "Epoch 17/100\n",
      "12/12 [==============================] - 0s 5ms/step - loss: 1.7328 - accuracy: 0.4358\n",
      "Epoch 18/100\n",
      "12/12 [==============================] - 0s 7ms/step - loss: 1.6985 - accuracy: 0.4613\n",
      "Epoch 19/100\n",
      "12/12 [==============================] - 0s 6ms/step - loss: 1.6647 - accuracy: 0.4844\n",
      "Epoch 20/100\n",
      "12/12 [==============================] - 0s 6ms/step - loss: 1.6313 - accuracy: 0.5079\n",
      "Epoch 21/100\n",
      "12/12 [==============================] - 0s 12ms/step - loss: 1.5985 - accuracy: 0.5300\n",
      "Epoch 22/100\n",
      "12/12 [==============================] - 0s 6ms/step - loss: 1.5664 - accuracy: 0.5488\n",
      "Epoch 23/100\n",
      "12/12 [==============================] - 0s 6ms/step - loss: 1.5350 - accuracy: 0.5688\n",
      "Epoch 24/100\n",
      "12/12 [==============================] - 0s 6ms/step - loss: 1.5042 - accuracy: 0.5850\n",
      "Epoch 25/100\n",
      "12/12 [==============================] - 0s 5ms/step - loss: 1.4743 - accuracy: 0.6010\n",
      "Epoch 26/100\n",
      "12/12 [==============================] - 0s 5ms/step - loss: 1.4451 - accuracy: 0.6147\n",
      "Epoch 27/100\n",
      "12/12 [==============================] - 0s 5ms/step - loss: 1.4167 - accuracy: 0.6292\n",
      "Epoch 28/100\n",
      "12/12 [==============================] - 0s 5ms/step - loss: 1.3891 - accuracy: 0.6424\n",
      "Epoch 29/100\n",
      "12/12 [==============================] - 0s 5ms/step - loss: 1.3623 - accuracy: 0.6538\n",
      "Epoch 30/100\n",
      "12/12 [==============================] - 0s 5ms/step - loss: 1.3363 - accuracy: 0.6641\n",
      "Epoch 31/100\n",
      "12/12 [==============================] - 0s 6ms/step - loss: 1.3110 - accuracy: 0.6748\n",
      "Epoch 32/100\n",
      "12/12 [==============================] - 0s 5ms/step - loss: 1.2864 - accuracy: 0.6845\n",
      "Epoch 33/100\n",
      "12/12 [==============================] - 0s 5ms/step - loss: 1.2626 - accuracy: 0.6931\n",
      "Epoch 34/100\n",
      "12/12 [==============================] - 0s 5ms/step - loss: 1.2395 - accuracy: 0.7015\n",
      "Epoch 35/100\n",
      "12/12 [==============================] - 0s 4ms/step - loss: 1.2171 - accuracy: 0.7094\n",
      "Epoch 36/100\n",
      "12/12 [==============================] - 0s 5ms/step - loss: 1.1952 - accuracy: 0.7163\n",
      "Epoch 37/100\n",
      "12/12 [==============================] - 0s 5ms/step - loss: 1.1740 - accuracy: 0.7227\n",
      "Epoch 38/100\n",
      "12/12 [==============================] - 0s 6ms/step - loss: 1.1534 - accuracy: 0.7287\n",
      "Epoch 39/100\n",
      "12/12 [==============================] - 0s 6ms/step - loss: 1.1334 - accuracy: 0.7341\n",
      "Epoch 40/100\n",
      "12/12 [==============================] - 0s 4ms/step - loss: 1.1138 - accuracy: 0.7398\n",
      "Epoch 41/100\n",
      "12/12 [==============================] - 0s 5ms/step - loss: 1.0948 - accuracy: 0.7450\n",
      "Epoch 42/100\n",
      "12/12 [==============================] - 0s 6ms/step - loss: 1.0761 - accuracy: 0.7495\n",
      "Epoch 43/100\n",
      "12/12 [==============================] - 0s 6ms/step - loss: 1.0578 - accuracy: 0.7544\n",
      "Epoch 44/100\n",
      "12/12 [==============================] - 0s 5ms/step - loss: 1.0399 - accuracy: 0.7586\n",
      "Epoch 45/100\n",
      "12/12 [==============================] - 0s 5ms/step - loss: 1.0223 - accuracy: 0.7625\n",
      "Epoch 46/100\n",
      "12/12 [==============================] - 0s 5ms/step - loss: 1.0049 - accuracy: 0.7671\n",
      "Epoch 47/100\n",
      "12/12 [==============================] - 0s 5ms/step - loss: 0.9879 - accuracy: 0.7707\n",
      "Epoch 48/100\n",
      "12/12 [==============================] - 0s 7ms/step - loss: 0.9713 - accuracy: 0.7739\n",
      "Epoch 49/100\n",
      "12/12 [==============================] - 0s 5ms/step - loss: 0.9552 - accuracy: 0.7775\n",
      "Epoch 50/100\n",
      "12/12 [==============================] - 0s 6ms/step - loss: 0.9394 - accuracy: 0.7810\n",
      "Epoch 51/100\n",
      "12/12 [==============================] - 0s 6ms/step - loss: 0.9242 - accuracy: 0.7843\n",
      "Epoch 52/100\n",
      "12/12 [==============================] - 0s 4ms/step - loss: 0.9094 - accuracy: 0.7875\n",
      "Epoch 53/100\n",
      "12/12 [==============================] - 0s 5ms/step - loss: 0.8952 - accuracy: 0.7910\n",
      "Epoch 54/100\n",
      "12/12 [==============================] - 0s 6ms/step - loss: 0.8814 - accuracy: 0.7937\n",
      "Epoch 55/100\n",
      "12/12 [==============================] - 0s 5ms/step - loss: 0.8681 - accuracy: 0.7964\n",
      "Epoch 56/100\n",
      "12/12 [==============================] - 0s 5ms/step - loss: 0.8552 - accuracy: 0.7989\n",
      "Epoch 57/100\n",
      "12/12 [==============================] - 0s 6ms/step - loss: 0.8428 - accuracy: 0.8017\n",
      "Epoch 58/100\n",
      "12/12 [==============================] - 0s 6ms/step - loss: 0.8308 - accuracy: 0.8039\n",
      "Epoch 59/100\n",
      "12/12 [==============================] - 0s 5ms/step - loss: 0.8193 - accuracy: 0.8063\n",
      "Epoch 60/100\n",
      "12/12 [==============================] - 0s 5ms/step - loss: 0.8081 - accuracy: 0.8085\n",
      "Epoch 61/100\n",
      "12/12 [==============================] - 0s 5ms/step - loss: 0.7973 - accuracy: 0.8108\n",
      "Epoch 62/100\n",
      "12/12 [==============================] - 0s 5ms/step - loss: 0.7869 - accuracy: 0.8129\n",
      "Epoch 63/100\n",
      "12/12 [==============================] - 0s 11ms/step - loss: 0.7769 - accuracy: 0.8147\n",
      "Epoch 64/100\n",
      "12/12 [==============================] - 0s 5ms/step - loss: 0.7672 - accuracy: 0.8166\n",
      "Epoch 65/100\n",
      "12/12 [==============================] - 0s 5ms/step - loss: 0.7578 - accuracy: 0.8184\n",
      "Epoch 66/100\n",
      "12/12 [==============================] - 0s 6ms/step - loss: 0.7488 - accuracy: 0.8199\n",
      "Epoch 67/100\n",
      "12/12 [==============================] - 0s 5ms/step - loss: 0.7400 - accuracy: 0.8217\n",
      "Epoch 68/100\n",
      "12/12 [==============================] - 0s 4ms/step - loss: 0.7315 - accuracy: 0.8233\n",
      "Epoch 69/100\n",
      "12/12 [==============================] - 0s 5ms/step - loss: 0.7233 - accuracy: 0.8248\n",
      "Epoch 70/100\n",
      "12/12 [==============================] - 0s 5ms/step - loss: 0.7154 - accuracy: 0.8261\n",
      "Epoch 71/100\n",
      "12/12 [==============================] - 0s 5ms/step - loss: 0.7077 - accuracy: 0.8275\n",
      "Epoch 72/100\n",
      "12/12 [==============================] - 0s 6ms/step - loss: 0.7003 - accuracy: 0.8290\n",
      "Epoch 73/100\n",
      "12/12 [==============================] - 0s 5ms/step - loss: 0.6931 - accuracy: 0.8302\n",
      "Epoch 74/100\n",
      "12/12 [==============================] - 0s 5ms/step - loss: 0.6861 - accuracy: 0.8314\n",
      "Epoch 75/100\n",
      "12/12 [==============================] - 0s 5ms/step - loss: 0.6794 - accuracy: 0.8328\n",
      "Epoch 76/100\n",
      "12/12 [==============================] - 0s 6ms/step - loss: 0.6728 - accuracy: 0.8337\n",
      "Epoch 77/100\n",
      "12/12 [==============================] - 0s 4ms/step - loss: 0.6665 - accuracy: 0.8350\n",
      "Epoch 78/100\n",
      "12/12 [==============================] - 0s 5ms/step - loss: 0.6603 - accuracy: 0.8359\n",
      "Epoch 79/100\n",
      "12/12 [==============================] - 0s 5ms/step - loss: 0.6543 - accuracy: 0.8373\n",
      "Epoch 80/100\n",
      "12/12 [==============================] - 0s 6ms/step - loss: 0.6485 - accuracy: 0.8384\n",
      "Epoch 81/100\n",
      "12/12 [==============================] - 0s 5ms/step - loss: 0.6428 - accuracy: 0.8396\n",
      "Epoch 82/100\n",
      "12/12 [==============================] - 0s 4ms/step - loss: 0.6374 - accuracy: 0.8404\n",
      "Epoch 83/100\n",
      "12/12 [==============================] - 0s 6ms/step - loss: 0.6320 - accuracy: 0.8413\n",
      "Epoch 84/100\n",
      "12/12 [==============================] - 0s 6ms/step - loss: 0.6269 - accuracy: 0.8424\n",
      "Epoch 85/100\n",
      "12/12 [==============================] - 0s 5ms/step - loss: 0.6218 - accuracy: 0.8430\n",
      "Epoch 86/100\n",
      "12/12 [==============================] - 0s 5ms/step - loss: 0.6169 - accuracy: 0.8441\n",
      "Epoch 87/100\n",
      "12/12 [==============================] - 0s 5ms/step - loss: 0.6122 - accuracy: 0.8449\n",
      "Epoch 88/100\n",
      "12/12 [==============================] - 0s 5ms/step - loss: 0.6075 - accuracy: 0.8457\n",
      "Epoch 89/100\n",
      "12/12 [==============================] - 0s 5ms/step - loss: 0.6030 - accuracy: 0.8462\n",
      "Epoch 90/100\n",
      "12/12 [==============================] - 0s 5ms/step - loss: 0.5986 - accuracy: 0.8470\n",
      "Epoch 91/100\n",
      "12/12 [==============================] - 0s 5ms/step - loss: 0.5943 - accuracy: 0.8476\n",
      "Epoch 92/100\n",
      "12/12 [==============================] - 0s 5ms/step - loss: 0.5901 - accuracy: 0.8486\n",
      "Epoch 93/100\n",
      "12/12 [==============================] - 0s 5ms/step - loss: 0.5861 - accuracy: 0.8493\n",
      "Epoch 94/100\n",
      "12/12 [==============================] - 0s 5ms/step - loss: 0.5821 - accuracy: 0.8498\n",
      "Epoch 95/100\n",
      "12/12 [==============================] - 0s 5ms/step - loss: 0.5782 - accuracy: 0.8504\n",
      "Epoch 96/100\n",
      "12/12 [==============================] - 0s 8ms/step - loss: 0.5744 - accuracy: 0.8509\n",
      "Epoch 97/100\n",
      "12/12 [==============================] - 0s 5ms/step - loss: 0.5708 - accuracy: 0.8518\n",
      "Epoch 98/100\n",
      "12/12 [==============================] - 0s 5ms/step - loss: 0.5672 - accuracy: 0.8523\n",
      "Epoch 99/100\n",
      "12/12 [==============================] - 0s 5ms/step - loss: 0.5636 - accuracy: 0.8530\n",
      "Epoch 100/100\n",
      "12/12 [==============================] - 0s 5ms/step - loss: 0.5602 - accuracy: 0.8536\n"
     ]
    }
   ],
   "source": [
    "# Hacer el entrenamiento con batch_size=5000\n",
    "\n",
    "history = model.fit(x_train, y_train, epochs=100,  batch_size=5000)"
   ]
  },
  {
   "cell_type": "code",
   "execution_count": null,
   "metadata": {},
   "outputs": [
    {
     "name": "stdout",
     "output_type": "stream",
     "text": [
      "313/313 [==============================] - 1s 1ms/step - loss: 0.5350 - accuracy: 0.8598\n",
      "test accuracy:  0.8597999811172485\n"
     ]
    }
   ],
   "source": [
    "# Evaluacion final con el test_set\n",
    "\n",
    "test_loss, test_acc = model.evaluate(x_test, y_test)\n",
    "print('test accuracy: ', test_acc)"
   ]
  },
  {
   "cell_type": "markdown",
   "metadata": {},
   "source": [
    "Continuando con la modificación del batch_size en la función ReLU usando una capa con 10 neuronas, se puede observar cómo, a medida que aumenta este, disminuye el *test accuracy*."
   ]
  },
  {
   "cell_type": "markdown",
   "metadata": {},
   "source": [
    "#### Usando Tanh\n",
    "\n"
   ]
  },
  {
   "cell_type": "markdown",
   "metadata": {},
   "source": [
    "(tu codigo por aquí)"
   ]
  },
  {
   "cell_type": "markdown",
   "metadata": {},
   "source": [
    "### Modificación de los optimizadores como adam o RMSprop\n",
    "\n"
   ]
  },
  {
   "cell_type": "markdown",
   "metadata": {},
   "source": [
    "#### Usando ReLU\n",
    "\n"
   ]
  },
  {
   "cell_type": "code",
   "execution_count": null,
   "metadata": {},
   "outputs": [
    {
     "name": "stderr",
     "output_type": "stream",
     "text": [
      "WARNING:absl:`lr` is deprecated in Keras optimizer, please use `learning_rate` or use the legacy optimizer, e.g.,tf.keras.optimizers.legacy.RMSprop.\n"
     ]
    }
   ],
   "source": [
    "# Compilar el modelo usando RMSprop\n",
    "\n",
    "model.compile(loss=\"categorical_crossentropy\",\n",
    "              optimizer= tf.keras.optimizers.RMSprop(lr=0.001),\n",
    "              metrics= ['accuracy'])\n"
   ]
  },
  {
   "cell_type": "code",
   "execution_count": null,
   "metadata": {},
   "outputs": [
    {
     "name": "stdout",
     "output_type": "stream",
     "text": [
      "313/313 [==============================] - 1s 1ms/step - loss: 0.2510 - accuracy: 0.9307\n",
      "test accuracy:  0.9307000041007996\n"
     ]
    }
   ],
   "source": [
    "# Evaluacion final con el test_set\n",
    "\n",
    "test_loss, test_acc = model.evaluate(x_test, y_test)\n",
    "print('test accuracy: ', test_acc)"
   ]
  },
  {
   "cell_type": "code",
   "execution_count": null,
   "metadata": {},
   "outputs": [
    {
     "name": "stderr",
     "output_type": "stream",
     "text": [
      "WARNING:absl:`lr` is deprecated in Keras optimizer, please use `learning_rate` or use the legacy optimizer, e.g.,tf.keras.optimizers.legacy.Adam.\n"
     ]
    }
   ],
   "source": [
    "# Compilar el modelo usando Adam\n",
    "\n",
    "model.compile(loss=\"categorical_crossentropy\",\n",
    "              optimizer= tf.keras.optimizers.Adam(lr=0.001),\n",
    "              metrics= ['accuracy'])\n"
   ]
  },
  {
   "cell_type": "code",
   "execution_count": 21,
   "metadata": {},
   "outputs": [
    {
     "name": "stdout",
     "output_type": "stream",
     "text": [
      "313/313 [==============================] - 0s 1ms/step - loss: 0.2311 - accuracy: 0.9373\n",
      "test accuracy:  0.9373000264167786\n"
     ]
    }
   ],
   "source": [
    "# Evaluacion final con el test_set\n",
    "\n",
    "test_loss, test_acc = model.evaluate(x_test, y_test)\n",
    "print('test accuracy: ', test_acc)"
   ]
  },
  {
   "cell_type": "markdown",
   "metadata": {},
   "source": [
    "Por último, en lo que respecta al uso de distintos optimizadores, si se emplean las mismas configuraciones que en el apartado anterior (una capa con 10 neuronas) y un batch_size de 1000, se puede observar cómo Adam es ligeramente más preciso que RMSprop, no obstante no es una diferencia importante. De hecho, cabe destacar que tras probar con varias configuaraciones (modificando el número de capas y neuronas) hemos visto que no hay diferencias entre usar uno u otro optimizador. "
   ]
  },
  {
   "cell_type": "markdown",
   "metadata": {},
   "source": [
    "Adicionalmente, el valor de *test accuracy* máximo que se ha podido conseguir ha sido de 0.9793 usando una única capa con 100 neuronas, el optimizador RMSprop y un batch_size de 1000."
   ]
  },
  {
   "cell_type": "markdown",
   "metadata": {},
   "source": [
    "#### Usando Tanh\n",
    "\n"
   ]
  },
  {
   "cell_type": "markdown",
   "metadata": {},
   "source": [
    "(tu codigo por aquí)"
   ]
  }
 ],
 "metadata": {
  "colab": {
   "authorship_tag": "ABX9TyMy3u+3gQiuJMi8gYCXYnff",
   "collapsed_sections": [],
   "name": "P03.MLP_mnist_onehot.ipynb",
   "provenance": []
  },
  "kernelspec": {
   "display_name": "Python 3 (ipykernel)",
   "language": "python",
   "name": "python3"
  },
  "language_info": {
   "codemirror_mode": {
    "name": "ipython",
    "version": 3
   },
   "file_extension": ".py",
   "mimetype": "text/x-python",
   "name": "python",
   "nbconvert_exporter": "python",
   "pygments_lexer": "ipython3",
   "version": "3.11.6"
  }
 },
 "nbformat": 4,
 "nbformat_minor": 4
}
