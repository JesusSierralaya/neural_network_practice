{
 "cells": [
  {
   "cell_type": "markdown",
   "id": "62a5c273-299f-4369-802b-c426f63eac61",
   "metadata": {},
   "source": [
    "Leire Yining Santos Gil (leirey01@ucm.es)\\\n",
    "Jesus Sierralaya (jsierral@ucm.es)"
   ]
  },
  {
   "cell_type": "markdown",
   "id": "b316b8de-c798-4b94-b63f-db8138302599",
   "metadata": {},
   "source": [
    "Importamos librerias:"
   ]
  },
  {
   "cell_type": "code",
   "execution_count": 1,
   "id": "0e2d9aef-fc3a-49df-8f0c-23835c4e3507",
   "metadata": {},
   "outputs": [
    {
     "name": "stdout",
     "output_type": "stream",
     "text": [
      "2.13.0\n"
     ]
    }
   ],
   "source": [
    "# Supress info messages\n",
    "import os; os.environ['TF_CPP_MIN_LOG_LEVEL'] = '2'\n",
    "# Import libraries\n",
    "import tensorflow as tf\n",
    "from tensorflow import keras\n",
    "import numpy as np\n",
    "import sys\n",
    "import matplotlib.pyplot as plt\n",
    "\n",
    "from tensorflow.keras.utils import to_categorical\n",
    "from tensorflow.keras.layers import Dense\n",
    "\n",
    "import pandas as pd\n",
    "import time\n",
    "\n",
    "print(tf.__version__)"
   ]
  },
  {
   "cell_type": "markdown",
   "id": "d9f6f8c8-8973-442a-ae60-5181ac41cb89",
   "metadata": {},
   "source": [
    "Definimos función que dibuja el plot del historial de precisión y de error en el entrenamiento:"
   ]
  },
  {
   "cell_type": "code",
   "execution_count": 2,
   "id": "f39ab2e1-ee6a-40e5-8812-971f706c53c8",
   "metadata": {},
   "outputs": [],
   "source": [
    "def plot_history(history):\n",
    "  hist = pd.DataFrame(history.history)\n",
    "  hist['epoch'] = history.epoch\n",
    "  \n",
    "  plt.figure(figsize=(3,2))\n",
    "  plt.xlabel('Epoch')\n",
    "  plt.ylabel('Mean Square Error')\n",
    "  plt.plot(hist['epoch'], hist['loss'],'r--',\n",
    "           label='Training Error')\n",
    "  plt.plot(hist['epoch'], hist['accuracy'],'b',\n",
    "           label = 'accuracy')\n",
    "  plt.legend()\n",
    "  plt.tight_layout()\n",
    "  plt.show() "
   ]
  },
  {
   "cell_type": "markdown",
   "id": "333a2d98-cd4d-40d9-b8e3-88d034533ecf",
   "metadata": {},
   "source": [
    "Cargamos los datos de Keras, guardamos dimensiones y preprocesamos los datos:"
   ]
  },
  {
   "cell_type": "code",
   "execution_count": 3,
   "id": "c49709fa-451e-4b47-be31-712cab965d36",
   "metadata": {},
   "outputs": [],
   "source": [
    "mnist = tf.keras.datasets.mnist\n",
    "(x_train, y_train), (x_test, y_test) = mnist.load_data()\n",
    "# Guardamos las dimensiones\n",
    "ntrain = x_train.shape[0]\n",
    "ntest  = x_test.shape[0]\n",
    "dimf = x_train.shape[1]\n",
    "dimc = x_train.shape[2]\n",
    "# preproceso\n",
    "x_train = x_train.astype('float32')/255.\n",
    "x_train = x_train.reshape(ntrain, dimf*dimc)\n",
    "x_test = x_test.astype('float32')/255.\n",
    "x_test = x_test.reshape(ntest, dimf*dimc)"
   ]
  },
  {
   "cell_type": "markdown",
   "id": "6418f616-b1d2-438a-a5a1-e01c96844707",
   "metadata": {},
   "source": [
    "Creamos la matriz onehot:"
   ]
  },
  {
   "cell_type": "code",
   "execution_count": 4,
   "id": "b6a3af91-4a16-4dec-86cb-2e6236128c43",
   "metadata": {},
   "outputs": [],
   "source": [
    "y_train = to_categorical(y_train, num_classes=10)\n",
    "y_test = to_categorical(y_test, num_classes=10)"
   ]
  },
  {
   "cell_type": "markdown",
   "id": "98d57be7-2970-451f-b6f9-c0979816f880",
   "metadata": {},
   "source": [
    "# Modelo de referencia"
   ]
  },
  {
   "cell_type": "code",
   "execution_count": 5,
   "id": "fe3cbf46-efaa-4983-9e1c-3fcf89a10e75",
   "metadata": {},
   "outputs": [],
   "source": [
    "model = keras.Sequential()\n",
    "model.add(Dense(10, activation='sigmoid', input_shape=(dimf*dimc,)))\n",
    "model.add(Dense(10, activation = 'softmax'))"
   ]
  },
  {
   "cell_type": "markdown",
   "id": "1a4b469e-d4ce-406e-a1ae-2da6e7525a0a",
   "metadata": {},
   "source": [
    "Compilamos el modelo de referencia:"
   ]
  },
  {
   "cell_type": "code",
   "execution_count": 6,
   "id": "fecc6733-dc6b-4c9e-8efb-a8b0cae194ad",
   "metadata": {},
   "outputs": [],
   "source": [
    "model.compile(loss=\"categorical_crossentropy\",\n",
    "              optimizer=\"sgd\", # stochastic gradient descent\n",
    "              metrics= ['accuracy'])"
   ]
  },
  {
   "cell_type": "markdown",
   "id": "d02a542b-76eb-4461-85a6-c816e40df866",
   "metadata": {},
   "source": [
    "Entrenamiento y revisión del historial:"
   ]
  },
  {
   "cell_type": "code",
   "execution_count": 7,
   "id": "b18bfe94-2d72-4e09-b344-bf9a954ba8ec",
   "metadata": {},
   "outputs": [
    {
     "name": "stdout",
     "output_type": "stream",
     "text": [
      "313/313 [==============================] - 0s 481us/step - loss: 0.8337 - accuracy: 0.8138\n",
      "test accuracy:  0.8137999773025513\n"
     ]
    },
    {
     "data": {
      "image/png": "[encoded data removed]",
      "text/plain": [
       "<Figure size 300x200 with 1 Axes>"
      ]
     },
     "metadata": {},
     "output_type": "display_data"
    },
    {
     "name": "stdout",
     "output_type": "stream",
     "text": [
      "The training took 7.32980751991272 seconds\n"
     ]
    }
   ],
   "source": [
    "start_time = time.time()\n",
    "history = model.fit(x_train, y_train, epochs=100,  batch_size=1000, verbose=False)\n",
    "end_time = time.time()\n",
    "# Calculate the duration\n",
    "duration = end_time - start_time\n",
    "test_loss, test_acc = model.evaluate(x_test, y_test)\n",
    "print('test accuracy: ', test_acc)\n",
    "plot_history(history)\n",
    "print('The training took', duration, 'seconds')"
   ]
  },
  {
   "cell_type": "markdown",
   "id": "b7f21f47-30c4-42a6-9a81-f7f090a844ef",
   "metadata": {},
   "source": [
    "# Tareas "
   ]
  },
  {
   "cell_type": "markdown",
   "id": "ddfea9d6-f98c-4954-a989-0daf28e4800c",
   "metadata": {},
   "source": [
    "## Utilizar otras neuronas con función de activación RelU"
   ]
  },
  {
   "cell_type": "code",
   "execution_count": 8,
   "id": "d0f8bdc0-228b-4797-bda7-2f0bb5d41df2",
   "metadata": {},
   "outputs": [],
   "source": [
    "model = keras.Sequential()\n",
    "model.add(Dense(10, activation='relu', input_shape=(dimf*dimc,)))\n",
    "model.add(Dense(10, activation = 'softmax'))"
   ]
  },
  {
   "cell_type": "markdown",
   "id": "97f8ce4b-7516-4c95-9a10-6ec489dd002e",
   "metadata": {},
   "source": [
    "Compilación del modelo, entrenamiento y revisión del historial de precisión."
   ]
  },
  {
   "cell_type": "code",
   "execution_count": 9,
   "id": "660d3f80-f79e-4df1-942b-5584b1bc4ec8",
   "metadata": {},
   "outputs": [
    {
     "name": "stdout",
     "output_type": "stream",
     "text": [
      "313/313 [==============================] - 0s 517us/step - loss: 0.3218 - accuracy: 0.9068\n",
      "test accuracy:  0.9067999720573425\n"
     ]
    },
    {
     "data": {
      "image/png": "[encoded data removed]",
      "text/plain": [
       "<Figure size 300x200 with 1 Axes>"
      ]
     },
     "metadata": {},
     "output_type": "display_data"
    }
   ],
   "source": [
    "model.compile(loss=\"categorical_crossentropy\",\n",
    "              optimizer=\"sgd\", # stochastic gradient descent\n",
    "              metrics= ['accuracy'])\n",
    "history = model.fit(x_train, y_train, epochs=100,  batch_size=1000, verbose=False)\n",
    "test_loss, test_acc = model.evaluate(x_test, y_test)\n",
    "print('test accuracy: ', test_acc)\n",
    "plot_history(history)"
   ]
  },
  {
   "cell_type": "markdown",
   "id": "c314990d-3003-4cf9-a366-93dc814330ed",
   "metadata": {},
   "source": [
    "Empleando la función de activación RelU aumenta la precisión, además de hacerlo en un menor número de epocas."
   ]
  },
  {
   "cell_type": "markdown",
   "id": "d442dfdf-5816-4208-b9b7-3e70e55b86e5",
   "metadata": {},
   "source": [
    "## Incrementar neuronas y capas"
   ]
  },
  {
   "cell_type": "markdown",
   "id": "0b8f9edd-e981-469b-ac74-aaa3f5fa1265",
   "metadata": {},
   "source": [
    "### 30 neuronas una sola capa"
   ]
  },
  {
   "cell_type": "code",
   "execution_count": 10,
   "id": "8862cb6a-576c-4c7a-ac7b-d4dc0032fbca",
   "metadata": {},
   "outputs": [],
   "source": [
    "model = keras.Sequential()\n",
    "model.add(Dense(30, activation='relu', input_shape=(dimf*dimc,)))\n",
    "model.add(Dense(10, activation = 'softmax'))"
   ]
  },
  {
   "cell_type": "markdown",
   "id": "814d0d0d-610f-4cb0-b819-b3d02f5058b5",
   "metadata": {},
   "source": [
    "Compilación del modelo, entrenamiento y revisión del historial de precisión."
   ]
  },
  {
   "cell_type": "code",
   "execution_count": 11,
   "id": "2710f27b-2838-4a6f-b645-e838c44601cb",
   "metadata": {},
   "outputs": [
    {
     "name": "stdout",
     "output_type": "stream",
     "text": [
      "313/313 [==============================] - 0s 492us/step - loss: 0.2792 - accuracy: 0.9224\n",
      "test accuracy:  0.9223999977111816\n"
     ]
    },
    {
     "data": {
      "image/png": "[encoded data removed]",
      "text/plain": [
       "<Figure size 300x200 with 1 Axes>"
      ]
     },
     "metadata": {},
     "output_type": "display_data"
    }
   ],
   "source": [
    "model.compile(loss=\"categorical_crossentropy\",\n",
    "              optimizer=\"sgd\", # stochastic gradient descent\n",
    "              metrics= ['accuracy'])\n",
    "history = model.fit(x_train, y_train, epochs=100,  batch_size=1000, verbose=False)\n",
    "test_loss, test_acc = model.evaluate(x_test, y_test)\n",
    "print('test accuracy: ', test_acc)\n",
    "plot_history(history)"
   ]
  },
  {
   "cell_type": "markdown",
   "id": "c41329a2-f067-49de-9f3a-c5c9ef5e0fa6",
   "metadata": {},
   "source": [
    "Empleando 30 neuronas la precisión ha aumentado ligeramente comparado con 10 neuronas."
   ]
  },
  {
   "cell_type": "markdown",
   "id": "eb805a08-e16e-402f-a1ad-ef381ebf4a88",
   "metadata": {},
   "source": [
    "### 30 neuronas, 10 en cada capa"
   ]
  },
  {
   "cell_type": "code",
   "execution_count": 12,
   "id": "e6d1821f-1918-4e1c-bc38-8e58f3614993",
   "metadata": {},
   "outputs": [],
   "source": [
    "model = keras.Sequential()\n",
    "model.add(Dense(10, activation='relu', input_shape=(dimf*dimc,)))\n",
    "model.add(Dense(10, activation='relu'))\n",
    "model.add(Dense(10, activation='relu'))\n",
    "model.add(Dense(10, activation = 'softmax'))"
   ]
  },
  {
   "cell_type": "markdown",
   "id": "236f384c-ef84-40de-b48c-5c1653b3161c",
   "metadata": {},
   "source": [
    "Compilación del modelo, entrenamiento y revisión del historial de precisión."
   ]
  },
  {
   "cell_type": "code",
   "execution_count": 13,
   "id": "5f8b172d-2510-4519-bfd5-34fde3bb3694",
   "metadata": {},
   "outputs": [
    {
     "name": "stdout",
     "output_type": "stream",
     "text": [
      "313/313 [==============================] - 0s 454us/step - loss: 0.3242 - accuracy: 0.9066\n",
      "test accuracy:  0.9065999984741211\n"
     ]
    },
    {
     "data": {
      "image/png": "[encoded data removed]",
      "text/plain": [
       "<Figure size 300x200 with 1 Axes>"
      ]
     },
     "metadata": {},
     "output_type": "display_data"
    }
   ],
   "source": [
    "model.compile(loss=\"categorical_crossentropy\",\n",
    "              optimizer=\"sgd\", # stochastic gradient descent\n",
    "              metrics= ['accuracy'])\n",
    "history = model.fit(x_train, y_train, epochs=100,  batch_size=1000, verbose=False)\n",
    "test_loss, test_acc = model.evaluate(x_test, y_test)\n",
    "print('test accuracy: ', test_acc)\n",
    "plot_history(history)"
   ]
  },
  {
   "cell_type": "markdown",
   "id": "7b41d6c9-a21c-4d98-a3f3-191e41767457",
   "metadata": {},
   "source": [
    "La precisión es menor y toma un mayor número de epocas. Se podría concluir que más vale tener muchas neuronas en una sola capa que distribuidas en varias capas."
   ]
  },
  {
   "cell_type": "markdown",
   "id": "273432c5-9864-44eb-8ae6-d0f8a991b85e",
   "metadata": {},
   "source": [
    "## Cambiando el tamaño del Batch"
   ]
  },
  {
   "cell_type": "markdown",
   "id": "1e9dbed9-f966-4e5f-9407-c6e6ed52fc5e",
   "metadata": {},
   "source": [
    "### Batch tamaño 100"
   ]
  },
  {
   "cell_type": "code",
   "execution_count": 14,
   "id": "6d865160-45e4-45f5-8529-59304579b2f5",
   "metadata": {},
   "outputs": [],
   "source": [
    "model = keras.Sequential()\n",
    "model.add(Dense(10, activation='sigmoid', input_shape=(dimf*dimc,)))\n",
    "model.add(Dense(10, activation = 'softmax'))"
   ]
  },
  {
   "cell_type": "code",
   "execution_count": 15,
   "id": "ec452663-b558-42a8-96ba-7c71d5b4659b",
   "metadata": {},
   "outputs": [],
   "source": [
    "model.compile(loss=\"categorical_crossentropy\",\n",
    "              optimizer=\"sgd\", # stochastic gradient descent\n",
    "              metrics= ['accuracy'])"
   ]
  },
  {
   "cell_type": "code",
   "execution_count": 16,
   "id": "ddc0a0d4-403f-49af-8721-492116660433",
   "metadata": {},
   "outputs": [
    {
     "name": "stdout",
     "output_type": "stream",
     "text": [
      "313/313 [==============================] - 0s 452us/step - loss: 0.3004 - accuracy: 0.9158\n",
      "test accuracy:  0.9157999753952026\n"
     ]
    },
    {
     "data": {
      "image/png": "[encoded data removed]",
      "text/plain": [
       "<Figure size 300x200 with 1 Axes>"
      ]
     },
     "metadata": {},
     "output_type": "display_data"
    },
    {
     "name": "stdout",
     "output_type": "stream",
     "text": [
      "The training took 26.183234930038452 seconds\n"
     ]
    }
   ],
   "source": [
    "start_time = time.time()\n",
    "history = model.fit(x_train, y_train, epochs=100,  batch_size=100, verbose=False)\n",
    "end_time = time.time()\n",
    "duration = end_time - start_time\n",
    "test_loss, test_acc = model.evaluate(x_test, y_test)\n",
    "print('test accuracy: ', test_acc)\n",
    "plot_history(history)\n",
    "print('The training took', duration, 'seconds')"
   ]
  },
  {
   "cell_type": "markdown",
   "id": "f8f0f932-40b8-4ddb-9c9a-935ef471479f",
   "metadata": {},
   "source": [
    "### Batch tamaño 1000"
   ]
  },
  {
   "cell_type": "markdown",
   "id": "f5eda514-5549-478e-8cde-af833c9b82f4",
   "metadata": {},
   "source": [
    "Ver [Modelo de referencia](#modelo-de-referencia)."
   ]
  },
  {
   "cell_type": "markdown",
   "id": "c62e8adc-ea14-4bf9-b7b9-53c3b7e66370",
   "metadata": {},
   "source": [
    "### Batch tamaño 10000"
   ]
  },
  {
   "cell_type": "code",
   "execution_count": 17,
   "id": "12cf530b-0124-402c-aaef-41b54f23ef25",
   "metadata": {},
   "outputs": [],
   "source": [
    "model = keras.Sequential()\n",
    "model.add(Dense(10, activation='sigmoid', input_shape=(dimf*dimc,)))\n",
    "model.add(Dense(10, activation = 'softmax'))"
   ]
  },
  {
   "cell_type": "code",
   "execution_count": 18,
   "id": "3c05b04e-5e77-4923-a4bf-679892e3a451",
   "metadata": {},
   "outputs": [],
   "source": [
    "model.compile(loss=\"categorical_crossentropy\",\n",
    "              optimizer=\"sgd\", # stochastic gradient descent\n",
    "              metrics= ['accuracy'])"
   ]
  },
  {
   "cell_type": "code",
   "execution_count": 19,
   "id": "543a5eff-0132-4f02-922e-870dcc44123b",
   "metadata": {},
   "outputs": [
    {
     "name": "stdout",
     "output_type": "stream",
     "text": [
      "313/313 [==============================] - 0s 476us/step - loss: 2.0297 - accuracy: 0.5070\n",
      "test accuracy:  0.5070000290870667\n"
     ]
    },
    {
     "data": {
      "image/png": "[encoded data removed]",
      "text/plain": [
       "<Figure size 300x200 with 1 Axes>"
      ]
     },
     "metadata": {},
     "output_type": "display_data"
    },
    {
     "name": "stdout",
     "output_type": "stream",
     "text": [
      "The training took 4.143632173538208 seconds\n"
     ]
    }
   ],
   "source": [
    "start_time = time.time()\n",
    "history = model.fit(x_train, y_train, epochs=100,  batch_size=10000, verbose=False)\n",
    "end_time = time.time()\n",
    "duration = end_time - start_time\n",
    "test_loss, test_acc = model.evaluate(x_test, y_test)\n",
    "print('test accuracy: ', test_acc)\n",
    "plot_history(history)\n",
    "print('The training took', duration, 'seconds')"
   ]
  },
  {
   "cell_type": "markdown",
   "id": "203e278e-3150-4d6f-9937-4cba17229794",
   "metadata": {},
   "source": [
    "A mayor es el tamaño del Batch menor es el tiempo que se toma el entrenamiento pero como se observa va perdiendo precisión hasta el punto en el que no es capaz de subir del 0.5.\\\n",
    "En la tabla se puede ver un aproximado de los segundos que toma el entrenamiento si se elige un número determinado de Batchs:"
   ]
  },
  {
   "cell_type": "raw",
   "id": "25487cc0-03eb-4a70-8089-317f21573c26",
   "metadata": {},
   "source": [
    "\\begin{table}[h]\n",
    "\\centering\n",
    "\\begin{tabular}{|l|c|}\n",
    "\\hline\n",
    "\\textbf{Batch size} & \\textbf{Seconds} \\\\ \\hline\n",
    "100 & 26 \\\\ \\hline\n",
    "1000 & 7 \\\\ \\hline\n",
    "10000 & 4 \\\\ \\hline\n",
    "\\end{tabular}\n",
    "\\caption{Batch size vs. Processing time}\n",
    "\\label{table:batch_size}\n",
    "\\end{table}"
   ]
  },
  {
   "cell_type": "markdown",
   "id": "160593c7-00d4-4449-a5a5-f8a5f3337520",
   "metadata": {},
   "source": [
    "## Prueba a utilizar otros optimizadores como adam o RMSprop"
   ]
  },
  {
   "cell_type": "markdown",
   "id": "a0216791-2365-4482-b733-290600fe3502",
   "metadata": {},
   "source": [
    "### Optimizador Adam"
   ]
  },
  {
   "cell_type": "code",
   "execution_count": 20,
   "id": "913cb36a-fa5b-4274-8432-9379a0c431b1",
   "metadata": {},
   "outputs": [],
   "source": [
    "model = keras.Sequential()\n",
    "model.add(Dense(10, activation='sigmoid', input_shape=(dimf*dimc,)))\n",
    "model.add(Dense(10, activation = 'softmax'))"
   ]
  },
  {
   "cell_type": "code",
   "execution_count": 21,
   "id": "a7e93dec-87e0-451b-a83e-b6b9f098717d",
   "metadata": {},
   "outputs": [],
   "source": [
    "model.compile(loss=\"categorical_crossentropy\",\n",
    "              optimizer= tf.keras.optimizers.Adam(learning_rate=0.001),\n",
    "              metrics= ['accuracy'])"
   ]
  },
  {
   "cell_type": "code",
   "execution_count": 22,
   "id": "1de7d5f8-ee97-43a4-b128-d25e0e618dc6",
   "metadata": {},
   "outputs": [
    {
     "name": "stdout",
     "output_type": "stream",
     "text": [
      "313/313 [==============================] - 0s 414us/step - loss: 0.2524 - accuracy: 0.9276\n",
      "test accuracy:  0.9276000261306763\n"
     ]
    },
    {
     "data": {
      "image/png": "[encoded data removed]",
      "text/plain": [
       "<Figure size 300x200 with 1 Axes>"
      ]
     },
     "metadata": {},
     "output_type": "display_data"
    }
   ],
   "source": [
    "history = model.fit(x_train, y_train, epochs=100,  batch_size=1000, verbose=False)\n",
    "test_loss, test_acc = model.evaluate(x_test, y_test)\n",
    "print('test accuracy: ', test_acc)\n",
    "plot_history(history)"
   ]
  },
  {
   "cell_type": "markdown",
   "id": "4b3e3753-d796-4651-9ad7-e14c0d635294",
   "metadata": {},
   "source": [
    "### Optimizador RMSprop"
   ]
  },
  {
   "cell_type": "code",
   "execution_count": 23,
   "id": "517e60b6-afb2-4646-b7be-cd467f2e095b",
   "metadata": {},
   "outputs": [],
   "source": [
    "model = keras.Sequential()\n",
    "model.add(Dense(10, activation='sigmoid', input_shape=(dimf*dimc,)))\n",
    "model.add(Dense(10, activation = 'softmax'))"
   ]
  },
  {
   "cell_type": "code",
   "execution_count": 24,
   "id": "361aeb61-d272-4180-a1a1-8fe633fc4ea9",
   "metadata": {},
   "outputs": [],
   "source": [
    "model.compile(loss=\"categorical_crossentropy\",\n",
    "              optimizer= tf.keras.optimizers.RMSprop(learning_rate=0.001),\n",
    "              metrics= ['accuracy'])"
   ]
  },
  {
   "cell_type": "code",
   "execution_count": 25,
   "id": "59aa52a9-5427-41f9-b024-1eec37be903d",
   "metadata": {},
   "outputs": [
    {
     "name": "stdout",
     "output_type": "stream",
     "text": [
      "313/313 [==============================] - 0s 442us/step - loss: 0.2367 - accuracy: 0.9294\n",
      "test accuracy:  0.9294000267982483\n"
     ]
    },
    {
     "data": {
      "image/png": "[encoded data removed]",
      "text/plain": [
       "<Figure size 300x200 with 1 Axes>"
      ]
     },
     "metadata": {},
     "output_type": "display_data"
    }
   ],
   "source": [
    "history = model.fit(x_train, y_train, epochs=100,  batch_size=1000, verbose=False)\n",
    "test_loss, test_acc = model.evaluate(x_test, y_test)\n",
    "print('test accuracy: ', test_acc)\n",
    "plot_history(history)"
   ]
  },
  {
   "cell_type": "markdown",
   "id": "2a17f5be-f63d-4435-96e2-bbfe6d6981cc",
   "metadata": {},
   "source": [
    "Ambos, Adam y RMSprop, alcanzan una mayor precisión y en un menor número de épocas a diferencia del optimizador estocástico de gradiente descendente \"sgd\"."
   ]
  }
 ],
 "metadata": {
  "kernelspec": {
   "display_name": "Python 3 (ipykernel)",
   "language": "python",
   "name": "python3"
  },
  "language_info": {
   "codemirror_mode": {
    "name": "ipython",
    "version": 3
   },
   "file_extension": ".py",
   "mimetype": "text/x-python",
   "name": "python",
   "nbconvert_exporter": "python",
   "pygments_lexer": "ipython3",
   "version": "3.11.6"
  }
 },
 "nbformat": 4,
 "nbformat_minor": 5
}
