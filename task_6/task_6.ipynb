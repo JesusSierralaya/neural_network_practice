{
 "cells": [
  {
   "cell_type": "code",
   "execution_count": null,
   "id": "3c8df6c7-dd60-4faa-8499-661baf8d7f2d",
   "metadata": {},
   "outputs": [],
   "source": [
    "# Supress info messages\n",
    "import os; os.environ['TF_CPP_MIN_LOG_LEVEL'] = '2'\n",
    "# Import libraries\n",
    "import tensorflow as tf\n",
    "from tensorflow import keras\n",
    "import numpy as np"
   ]
  },
  {
   "cell_type": "markdown",
   "id": "6b74d870-18b3-4609-97c3-dcc4adde6cb2",
   "metadata": {},
   "source": [
    "Load csv from price "
   ]
  }
 ],
 "metadata": {
  "kernelspec": {
   "display_name": "Python 3 (ipykernel)",
   "language": "python",
   "name": "python3"
  },
  "language_info": {
   "codemirror_mode": {
    "name": "ipython",
    "version": 3
   },
   "file_extension": ".py",
   "mimetype": "text/x-python",
   "name": "python",
   "nbconvert_exporter": "python",
   "pygments_lexer": "ipython3",
   "version": "3.11.6"
  }
 },
 "nbformat": 4,
 "nbformat_minor": 5
}
