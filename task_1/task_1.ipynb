{
 "cells": [
  {
   "cell_type": "markdown",
   "id": "8c229a23-2406-4bea-80cb-676a506940c5",
   "metadata": {},
   "source": [
    "# What effects does manipulating the learning rate and activation function seem to have?"
   ]
  },
  {
   "cell_type": "markdown",
   "id": "36b673f0-0205-474f-9af9-adb4cafef29b",
   "metadata": {},
   "source": [
    "## Manipulating the learning rate\n",
    "A smaller learning rate requires more time, in other words, many epochs or iterations, but it allows for more precise adjustments to the weights. \n",
    "Instead, a higher learning rate results in less precise changes to the weights, enabling faster training but making it difficult to achieve optimal results due to its inherent instability. "
   ]
  },
  {
   "cell_type": "markdown",
   "id": "717da07d-bbb5-4847-bd00-ffffd486364b",
   "metadata": {},
   "source": [
    "## Activation functions\n",
    "### Linear\n",
    "This function limits our ability to learn more complex data patterns compared to other functions. It is more suitable for predicting continuous values rather than classifying complex data sets.\n",
    "### Sigmoid \n",
    "Learning with the sigmoid function can be relatively slow, but it excels at separating data into two distinct groups. Its characteristic curve, which approaches 0 or 1 as input values become large, can lead to a loss of precision due to saturation.\n",
    "## Tanh\n",
    "Tanh encounters similar issues with saturation for high input values as the sigmoid function. However, its symmetric curve allows for faster learning compared to sigmoid, by better handling negative inputs.\n",
    "## ReLU\n",
    "ReLU (Rectified Linear Unit) is faster than both Sigmoid and Tanh, thanks to its non-saturating form. It activates only positive inputs, which simplifies and accelerates the learning process."
   ]
  }
 ],
 "metadata": {
  "kernelspec": {
   "display_name": "Python 3 (ipykernel)",
   "language": "python",
   "name": "python3"
  },
  "language_info": {
   "codemirror_mode": {
    "name": "ipython",
    "version": 3
   },
   "file_extension": ".py",
   "mimetype": "text/x-python",
   "name": "python",
   "nbconvert_exporter": "python",
   "pygments_lexer": "ipython3",
   "version": "3.11.6"
  }
 },
 "nbformat": 4,
 "nbformat_minor": 5
}
