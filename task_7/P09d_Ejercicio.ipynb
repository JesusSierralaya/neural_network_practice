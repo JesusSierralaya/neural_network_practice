{
 "cells": [
  {
   "cell_type": "markdown",
   "metadata": {
    "colab_type": "text",
    "id": "view-in-github"
   },
   "source": [
    "<a href=\"https://colab.research.google.com/github/mcstllns/DeepLearning/blob/main/P09d_Ejercicio.ipynb\" target=\"_parent\"><img src=\"https://colab.research.google.com/assets/colab-badge.svg\" alt=\"Open In Colab\"/></a>"
   ]
  },
  {
   "cell_type": "markdown",
   "metadata": {
    "id": "KbQMegZfUJ9W"
   },
   "source": [
    "# Ejercicio\n",
    "\n",
    "Crea una serie temporal con una regla y comprueba si una red RNN o LSTM pueden aprenderla"
   ]
  },
  {
   "cell_type": "code",
   "execution_count": 1,
   "metadata": {
    "id": "ObOzL86tKvtG"
   },
   "outputs": [
    {
     "name": "stdout",
     "output_type": "stream",
     "text": [
      "[[8 3 7]\n",
      " [6 5 4]\n",
      " [7 0 0]\n",
      " [9 1 7]\n",
      " [7 9 6]\n",
      " [1 5 2]\n",
      " [9 9 7]\n",
      " [7 2 8]\n",
      " [0 7 2]\n",
      " [5 4 0]\n",
      " [5 4 9]\n",
      " [6 6 8]\n",
      " [3 6 7]\n",
      " [1 9 0]\n",
      " [2 7 4]\n",
      " [0 0 7]\n",
      " [4 6 6]\n",
      " [6 1 8]\n",
      " [1 5 7]\n",
      " [2 7 6]\n",
      " [4 2 3]\n",
      " [1 9 4]\n",
      " [7 0 8]\n",
      " [6 4 1]\n",
      " [1 6 7]\n",
      " [5 7 1]\n",
      " [2 5 1]\n",
      " [2 9 0]\n",
      " [6 5 9]\n",
      " [3 5 8]\n",
      " [3 8 7]\n",
      " [7 6 5]\n",
      " [3 0 2]\n",
      " [1 5 6]\n",
      " [8 5 1]\n",
      " [8 2 8]\n",
      " [3 0 1]\n",
      " [9 1 2]\n",
      " [6 3 8]\n",
      " [6 4 4]\n",
      " [3 5 0]\n",
      " [1 5 0]\n",
      " [0 1 7]\n",
      " [1 5 9]\n",
      " [1 7 9]\n",
      " [3 1 6]\n",
      " [5 0 2]\n",
      " [6 5 7]\n",
      " [0 3 9]\n",
      " [3 6 3]\n",
      " [7 9 2]\n",
      " [9 1 9]\n",
      " [6 4 1]\n",
      " [9 9 4]\n",
      " [6 2 1]\n",
      " [3 2 3]\n",
      " [7 2 4]\n",
      " [9 1 4]\n",
      " [6 5 3]\n",
      " [0 4 8]\n",
      " [7 3 4]\n",
      " [8 6 8]\n",
      " [3 4 9]\n",
      " [7 9 4]\n",
      " [3 2 3]\n",
      " [7 3 0]\n",
      " [7 0 2]\n",
      " [6 1 2]\n",
      " [5 1 5]\n",
      " [0 9 1]\n",
      " [3 6 2]\n",
      " [5 0 5]\n",
      " [0 5 0]\n",
      " [8 2 5]\n",
      " [3 9 0]\n",
      " [9 2 3]\n",
      " [5 1 5]\n",
      " [1 5 6]\n",
      " [4 6 1]\n",
      " [7 3 6]\n",
      " [3 0 4]\n",
      " [8 1 6]\n",
      " [1 0 5]\n",
      " [1 8 8]\n",
      " [9 9 5]\n",
      " [5 3 3]\n",
      " [8 6 2]\n",
      " [3 2 6]\n",
      " [4 8 6]\n",
      " [6 9 8]\n",
      " [4 9 2]\n",
      " [6 1 7]\n",
      " [2 7 1]\n",
      " [3 9 3]\n",
      " [4 0 7]\n",
      " [1 7 3]\n",
      " [6 3 4]\n",
      " [5 4 5]\n",
      " [5 3 2]\n",
      " [4 3 8]]\n"
     ]
    }
   ],
   "source": [
    "import numpy as np\n",
    "\n",
    "# random is a function, doing random sampling in numpy.\n",
    "X = np.random.randint(10, size=(100,3))\n",
    "\n",
    "# the array will be having 20 elements.\n",
    "print(X)"
   ]
  },
  {
   "cell_type": "code",
   "execution_count": 2,
   "metadata": {
    "colab": {
     "base_uri": "https://localhost:8080/"
    },
    "id": "l0Ti1FhlLAJf",
    "outputId": "b602cac0-c366-4a2c-9641-e65d6a80a9ae"
   },
   "outputs": [
    {
     "name": "stdout",
     "output_type": "stream",
     "text": [
      "[1 1 1 1 1 0 1 1 0 1 1 1 0 0 0 0 0 1 0 0 0 0 1 1 0 1 0 0 1 0 0 1 0 0 1 1 0\n",
      " 1 1 1 0 0 0 0 0 0 1 1 0 0 1 1 1 1 1 0 1 1 1 0 1 1 0 1 0 1 1 1 1 0 0 1 0 1\n",
      " 0 1 1 0 0 1 0 1 0 0 1 1 1 0 0 1 0 1 0 0 0 0 1 1 1 0]\n"
     ]
    }
   ],
   "source": [
    "Y = np.where(X[:,0] < 5, 0, 1)\n",
    "print(Y)"
   ]
  },
  {
   "cell_type": "code",
   "execution_count": 3,
   "metadata": {
    "id": "nVOxjS4fOvM9"
   },
   "outputs": [
    {
     "name": "stdout",
     "output_type": "stream",
     "text": [
      "[[2 9 0]\n",
      " [8 5 1]\n",
      " [6 3 8]\n",
      " [0 0 7]\n",
      " [6 4 4]\n",
      " [9 2 3]\n",
      " [9 1 2]\n",
      " [8 2 5]\n",
      " [8 1 6]\n",
      " [0 5 0]\n",
      " [2 5 1]\n",
      " [3 0 1]\n",
      " [3 5 0]\n",
      " [6 6 8]\n",
      " [3 6 7]\n",
      " [9 9 5]\n",
      " [7 3 4]\n",
      " [6 5 7]\n",
      " [4 8 6]\n",
      " [5 4 0]\n",
      " [2 7 4]\n",
      " [1 7 3]\n",
      " [6 1 2]\n",
      " [4 3 8]\n",
      " [9 1 9]\n",
      " [6 3 4]\n",
      " [6 9 8]\n",
      " [7 0 8]\n",
      " [3 8 7]\n",
      " [5 3 2]\n",
      " [1 9 4]\n",
      " [3 9 3]\n",
      " [4 6 6]\n",
      " [4 2 3]\n",
      " [1 5 2]\n",
      " [0 9 1]\n",
      " [3 4 9]\n",
      " [8 6 2]\n",
      " [3 6 2]\n",
      " [5 4 5]\n",
      " [0 4 8]\n",
      " [1 5 6]\n",
      " [5 0 2]\n",
      " [5 0 5]\n",
      " [3 1 6]\n",
      " [4 0 7]\n",
      " [0 1 7]\n",
      " [7 3 6]\n",
      " [6 4 1]\n",
      " [1 5 7]\n",
      " [7 9 6]\n",
      " [6 1 8]\n",
      " [6 5 3]\n",
      " [7 0 0]\n",
      " [1 8 8]\n",
      " [5 3 3]\n",
      " [6 2 1]\n",
      " [5 4 9]\n",
      " [3 2 3]\n",
      " [3 0 4]\n",
      " [7 3 0]\n",
      " [5 1 5]\n",
      " [2 7 1]\n",
      " [9 1 4]\n",
      " [6 5 4]\n",
      " [6 5 9]\n",
      " [7 9 4]\n",
      " [7 9 2]\n",
      " [8 2 8]\n",
      " [1 5 0]\n",
      " [9 1 7]\n",
      " [8 6 8]\n",
      " [1 5 9]\n",
      " [4 6 1]\n",
      " [7 2 8]\n",
      " [5 7 1]\n",
      " [3 5 8]\n",
      " [1 5 6]\n",
      " [3 6 3]\n",
      " [2 7 6]] [0 1 1 0 1 1 1 1 1 0 0 0 0 1 0 1 1 1 0 1 0 0 1 0 1 1 1 1 0 1 0 0 0 0 0 0 0\n",
      " 1 0 1 0 0 1 1 0 0 0 1 1 0 1 1 1 1 0 1 1 1 0 0 1 1 0 1 1 1 1 1 1 0 1 1 0 0\n",
      " 1 1 0 0 0 0]\n"
     ]
    }
   ],
   "source": [
    "# determinamos el numero de casos para train y test\n",
    "ratio = 0.8\n",
    "n = int(ratio*X.shape[0])\n",
    "\n",
    "# aleatorizamos los indices de las filas y elegimos los n primeros indices para train y los restantes para test\n",
    "idx = np.random.permutation(X.shape[0])\n",
    "training_idx, test_idx = idx[:n,], idx[n:]\n",
    "\n",
    "# creamos las matrices de train y test\n",
    "trainX = X[training_idx,:]\n",
    "trainY = Y[training_idx]\n",
    "\n",
    "testX = X[test_idx,:]\n",
    "testY = Y[test_idx]\n",
    "\n",
    "\n",
    "print(trainX, trainY)"
   ]
  }
 ],
 "metadata": {
  "colab": {
   "authorship_tag": "ABX9TyOD6eIMRjAzKl0zSktt9bug",
   "include_colab_link": true,
   "provenance": []
  },
  "kernelspec": {
   "display_name": "Python 3 (ipykernel)",
   "language": "python",
   "name": "python3"
  },
  "language_info": {
   "codemirror_mode": {
    "name": "ipython",
    "version": 3
   },
   "file_extension": ".py",
   "mimetype": "text/x-python",
   "name": "python",
   "nbconvert_exporter": "python",
   "pygments_lexer": "ipython3",
   "version": "3.11.6"
  }
 },
 "nbformat": 4,
 "nbformat_minor": 4
}
