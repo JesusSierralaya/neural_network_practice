{
 "cells": [
  {
   "cell_type": "markdown",
   "metadata": {
    "id": "tNGQuprOkc18"
   },
   "source": [
    "# Perceptron Multicapa para una regresión lineal\n",
    "\n",
    "En este ejercicio vamos a crear una red para pronosticar el consumo de gasolina de los coches. Los datos provienen de la universidad de California y son ampliamente utilizados en los curos de Deep Learning.\n",
    "\n",
    "La información de los datos la tienes en este enlace, y son un conjunto de datos que contiene las siguientes variables:\n",
    "\n",
    "1. mpg: continuous\n",
    "2. cylinders: multi-valued discrete\n",
    "3. displacement: continuous\n",
    "4. horsepower: continuous\n",
    "5. weight: continuous\n",
    "6. acceleration: continuous\n",
    "7. model year: multi-valued discrete\n",
    "8. origin: multi-valued discrete\n",
    "9. car name: string (unique for each instance)\n",
    "\n",
    "El objetivo es pronosticar mpg que es el consumo de gasolina de los coches (millas por galón) basándose en las otras variables.\n",
    "\n",
    "La variable origin esta compuesta por tres valores:\n",
    "\n",
    "- 1: USA\n",
    "- 2: Europe\n",
    "- 3: Japan\n",
    "\n",
    "\n",
    "Así que lo mejor es hacer un one hot con ella.\n",
    "\n",
    "Como la variable MPG es continua vamos a utilizar un capa final lineal y como función de pérdida el mse.\n",
    "\n",
    "Además vamos a separar el conjunto de datos en tres: train, dev y test como se ha visto en la teoría y haremos unos gráficos para ver la evolución del aprendizaje y el ajuste final.\n",
    "\n"
   ]
  },
  {
   "cell_type": "code",
   "execution_count": 14,
   "metadata": {
    "id": "-iIQA8AmlxNa"
   },
   "outputs": [
    {
     "name": "stdout",
     "output_type": "stream",
     "text": [
      "2.15.0\n"
     ]
    }
   ],
   "source": [
    "# paquetes y librerías que vamos a necesitar\n",
    "\n",
    "import tensorflow as tf\n",
    "\n",
    "print(tf.__version__)\n",
    "\n",
    "import numpy as np\n",
    "import matplotlib.pyplot as plt\n",
    "import pandas as pd\n",
    "\n",
    "from keras import Sequential\n",
    "from keras.layers import Dense\n",
    "from sklearn.metrics import r2_score\n",
    "\n",
    "import time\n"
   ]
  },
  {
   "cell_type": "code",
   "execution_count": 15,
   "metadata": {
    "id": "tB05ZtT6smG5"
   },
   "outputs": [],
   "source": [
    "# funciones que nos van a ayudar\n",
    "\n",
    "# normaliza un conjunto de datos\n",
    "def norm(x, st):\n",
    "    return((x - st['mean'])/st['std'])\n",
    "\n",
    "# un plot de la historia del ajuste\n",
    "def plot_history(history):\n",
    "  hist = pd.DataFrame(history.history)\n",
    "  hist['epoch'] = history.epoch\n",
    "\n",
    "  plt.figure()\n",
    "  plt.xlabel('Epoch')\n",
    "  plt.ylabel('Mean Square Error')\n",
    "  plt.plot(hist['epoch'], hist['mse'],'r--',\n",
    "           label='Training Error')\n",
    "  plt.plot(hist['epoch'], hist['val_mse'],'b',\n",
    "           label = 'Validation Error')\n",
    "  plt.ylim([0,20])\n",
    "  plt.legend()\n",
    "  plt.show() # un €\n",
    "\n"
   ]
  },
  {
   "cell_type": "code",
   "execution_count": 16,
   "metadata": {
    "id": "1YO9pfC2kRzK"
   },
   "outputs": [],
   "source": [
    "# Cargamos los datos\n",
    "# Keras nos permite cargar directamente un fichero que este en internet \n",
    "\n",
    "# Especificamos la direccion donde esta el fichero y su nombre y como lo queremos guardar\n",
    "dataset_path = tf.keras.utils.get_file(\"auto-mpg.data\",\n",
    "                                       \"https://archive.ics.uci.edu/ml/machine-learning-databases/auto-mpg/auto-mpg.data\")\n",
    "\n",
    "# El csv viene sin ninguna cabezera estos son los nombres de las variables\n",
    "column_names = ['MPG', 'Cylinders','Displacement','Horsepower','Weight','Acceleration','Model year','Origin']\n",
    "\n",
    "# se lee el fichero\n",
    "data = pd.read_csv(dataset_path, names=column_names, na_values=\"?\",\n",
    "                          comment='\\t', sep=\" \", skipinitialspace=True)"
   ]
  },
  {
   "cell_type": "code",
   "execution_count": 4,
   "metadata": {
    "id": "3WrtGd6kncam"
   },
   "outputs": [
    {
     "data": {
      "text/html": [
       "<div>\n",
       "<style scoped>\n",
       "    .dataframe tbody tr th:only-of-type {\n",
       "        vertical-align: middle;\n",
       "    }\n",
       "\n",
       "    .dataframe tbody tr th {\n",
       "        vertical-align: top;\n",
       "    }\n",
       "\n",
       "    .dataframe thead th {\n",
       "        text-align: right;\n",
       "    }\n",
       "</style>\n",
       "<table border=\"1\" class=\"dataframe\">\n",
       "  <thead>\n",
       "    <tr style=\"text-align: right;\">\n",
       "      <th></th>\n",
       "      <th>MPG</th>\n",
       "      <th>Cylinders</th>\n",
       "      <th>Displacement</th>\n",
       "      <th>Horsepower</th>\n",
       "      <th>Weight</th>\n",
       "      <th>Acceleration</th>\n",
       "      <th>Model year</th>\n",
       "      <th>Origin</th>\n",
       "    </tr>\n",
       "  </thead>\n",
       "  <tbody>\n",
       "    <tr>\n",
       "      <th>0</th>\n",
       "      <td>18.0</td>\n",
       "      <td>8</td>\n",
       "      <td>307.0</td>\n",
       "      <td>130.0</td>\n",
       "      <td>3504.0</td>\n",
       "      <td>12.0</td>\n",
       "      <td>70</td>\n",
       "      <td>1</td>\n",
       "    </tr>\n",
       "    <tr>\n",
       "      <th>1</th>\n",
       "      <td>15.0</td>\n",
       "      <td>8</td>\n",
       "      <td>350.0</td>\n",
       "      <td>165.0</td>\n",
       "      <td>3693.0</td>\n",
       "      <td>11.5</td>\n",
       "      <td>70</td>\n",
       "      <td>1</td>\n",
       "    </tr>\n",
       "    <tr>\n",
       "      <th>2</th>\n",
       "      <td>18.0</td>\n",
       "      <td>8</td>\n",
       "      <td>318.0</td>\n",
       "      <td>150.0</td>\n",
       "      <td>3436.0</td>\n",
       "      <td>11.0</td>\n",
       "      <td>70</td>\n",
       "      <td>1</td>\n",
       "    </tr>\n",
       "    <tr>\n",
       "      <th>3</th>\n",
       "      <td>16.0</td>\n",
       "      <td>8</td>\n",
       "      <td>304.0</td>\n",
       "      <td>150.0</td>\n",
       "      <td>3433.0</td>\n",
       "      <td>12.0</td>\n",
       "      <td>70</td>\n",
       "      <td>1</td>\n",
       "    </tr>\n",
       "    <tr>\n",
       "      <th>4</th>\n",
       "      <td>17.0</td>\n",
       "      <td>8</td>\n",
       "      <td>302.0</td>\n",
       "      <td>140.0</td>\n",
       "      <td>3449.0</td>\n",
       "      <td>10.5</td>\n",
       "      <td>70</td>\n",
       "      <td>1</td>\n",
       "    </tr>\n",
       "  </tbody>\n",
       "</table>\n",
       "</div>"
      ],
      "text/plain": [
       "    MPG  Cylinders  Displacement  Horsepower  Weight  Acceleration  \\\n",
       "0  18.0          8         307.0       130.0  3504.0          12.0   \n",
       "1  15.0          8         350.0       165.0  3693.0          11.5   \n",
       "2  18.0          8         318.0       150.0  3436.0          11.0   \n",
       "3  16.0          8         304.0       150.0  3433.0          12.0   \n",
       "4  17.0          8         302.0       140.0  3449.0          10.5   \n",
       "\n",
       "   Model year  Origin  \n",
       "0          70       1  \n",
       "1          70       1  \n",
       "2          70       1  \n",
       "3          70       1  \n",
       "4          70       1  "
      ]
     },
     "execution_count": 4,
     "metadata": {},
     "output_type": "execute_result"
    }
   ],
   "source": [
    "# vemos las primeras filas de los datos\n",
    "data.head()"
   ]
  },
  {
   "cell_type": "code",
   "execution_count": 17,
   "metadata": {
    "id": "yMhaO1OnnlQZ"
   },
   "outputs": [
    {
     "data": {
      "text/html": [
       "<div>\n",
       "<style scoped>\n",
       "    .dataframe tbody tr th:only-of-type {\n",
       "        vertical-align: middle;\n",
       "    }\n",
       "\n",
       "    .dataframe tbody tr th {\n",
       "        vertical-align: top;\n",
       "    }\n",
       "\n",
       "    .dataframe thead th {\n",
       "        text-align: right;\n",
       "    }\n",
       "</style>\n",
       "<table border=\"1\" class=\"dataframe\">\n",
       "  <thead>\n",
       "    <tr style=\"text-align: right;\">\n",
       "      <th></th>\n",
       "      <th>MPG</th>\n",
       "      <th>Cylinders</th>\n",
       "      <th>Displacement</th>\n",
       "      <th>Horsepower</th>\n",
       "      <th>Weight</th>\n",
       "      <th>Acceleration</th>\n",
       "      <th>Model year</th>\n",
       "      <th>USA</th>\n",
       "      <th>Europe</th>\n",
       "      <th>Japan</th>\n",
       "    </tr>\n",
       "  </thead>\n",
       "  <tbody>\n",
       "    <tr>\n",
       "      <th>0</th>\n",
       "      <td>18.0</td>\n",
       "      <td>8</td>\n",
       "      <td>307.0</td>\n",
       "      <td>130.0</td>\n",
       "      <td>3504.0</td>\n",
       "      <td>12.0</td>\n",
       "      <td>70</td>\n",
       "      <td>1.0</td>\n",
       "      <td>0.0</td>\n",
       "      <td>0.0</td>\n",
       "    </tr>\n",
       "    <tr>\n",
       "      <th>1</th>\n",
       "      <td>15.0</td>\n",
       "      <td>8</td>\n",
       "      <td>350.0</td>\n",
       "      <td>165.0</td>\n",
       "      <td>3693.0</td>\n",
       "      <td>11.5</td>\n",
       "      <td>70</td>\n",
       "      <td>1.0</td>\n",
       "      <td>0.0</td>\n",
       "      <td>0.0</td>\n",
       "    </tr>\n",
       "    <tr>\n",
       "      <th>2</th>\n",
       "      <td>18.0</td>\n",
       "      <td>8</td>\n",
       "      <td>318.0</td>\n",
       "      <td>150.0</td>\n",
       "      <td>3436.0</td>\n",
       "      <td>11.0</td>\n",
       "      <td>70</td>\n",
       "      <td>1.0</td>\n",
       "      <td>0.0</td>\n",
       "      <td>0.0</td>\n",
       "    </tr>\n",
       "    <tr>\n",
       "      <th>3</th>\n",
       "      <td>16.0</td>\n",
       "      <td>8</td>\n",
       "      <td>304.0</td>\n",
       "      <td>150.0</td>\n",
       "      <td>3433.0</td>\n",
       "      <td>12.0</td>\n",
       "      <td>70</td>\n",
       "      <td>1.0</td>\n",
       "      <td>0.0</td>\n",
       "      <td>0.0</td>\n",
       "    </tr>\n",
       "    <tr>\n",
       "      <th>4</th>\n",
       "      <td>17.0</td>\n",
       "      <td>8</td>\n",
       "      <td>302.0</td>\n",
       "      <td>140.0</td>\n",
       "      <td>3449.0</td>\n",
       "      <td>10.5</td>\n",
       "      <td>70</td>\n",
       "      <td>1.0</td>\n",
       "      <td>0.0</td>\n",
       "      <td>0.0</td>\n",
       "    </tr>\n",
       "  </tbody>\n",
       "</table>\n",
       "</div>"
      ],
      "text/plain": [
       "    MPG  Cylinders  Displacement  Horsepower  Weight  Acceleration  \\\n",
       "0  18.0          8         307.0       130.0  3504.0          12.0   \n",
       "1  15.0          8         350.0       165.0  3693.0          11.5   \n",
       "2  18.0          8         318.0       150.0  3436.0          11.0   \n",
       "3  16.0          8         304.0       150.0  3433.0          12.0   \n",
       "4  17.0          8         302.0       140.0  3449.0          10.5   \n",
       "\n",
       "   Model year  USA  Europe  Japan  \n",
       "0          70  1.0     0.0    0.0  \n",
       "1          70  1.0     0.0    0.0  \n",
       "2          70  1.0     0.0    0.0  \n",
       "3          70  1.0     0.0    0.0  \n",
       "4          70  1.0     0.0    0.0  "
      ]
     },
     "execution_count": 17,
     "metadata": {},
     "output_type": "execute_result"
    }
   ],
   "source": [
    "# PREPROCESAMIENTO --------------------\n",
    "\n",
    "# El fichero tiene datos perdidos y hay que eliminar las filas donde estan\n",
    "data = data.dropna() \n",
    "\n",
    "\n",
    "\n",
    "# La variable origin viene codificada de forma numerica pero la pasamos a un one hot\n",
    "\n",
    "# no te preocupes por este codigo, cosas de python\n",
    "o = data.pop('Origin')\n",
    "data['USA'] = (o == 1)*1.0\n",
    "data['Europe'] = (o == 2)*2.0\n",
    "data['Japan'] = (o == 3)*3.0\n",
    "\n",
    "# comprobamos que ahora tenemos una variable para cada pais de origen\n",
    "data.head()\n"
   ]
  },
  {
   "cell_type": "code",
   "execution_count": 18,
   "metadata": {
    "id": "uB99EjZ-okr0"
   },
   "outputs": [],
   "source": [
    "# Como el train y test sets no estan creados los creamos ahora aleatoriamente\n",
    "\n",
    "x_train = data.sample(frac=0.8, random_state=0)\n",
    "x_test = data.drop(x_train.index)\n",
    "\n",
    "y_train = x_train.pop('MPG')\n",
    "y_test = x_test.pop('MPG')\n"
   ]
  },
  {
   "cell_type": "code",
   "execution_count": 7,
   "metadata": {
    "id": "tOXrxSwbqAKx"
   },
   "outputs": [
    {
     "data": {
      "text/html": [
       "<div>\n",
       "<style scoped>\n",
       "    .dataframe tbody tr th:only-of-type {\n",
       "        vertical-align: middle;\n",
       "    }\n",
       "\n",
       "    .dataframe tbody tr th {\n",
       "        vertical-align: top;\n",
       "    }\n",
       "\n",
       "    .dataframe thead th {\n",
       "        text-align: right;\n",
       "    }\n",
       "</style>\n",
       "<table border=\"1\" class=\"dataframe\">\n",
       "  <thead>\n",
       "    <tr style=\"text-align: right;\">\n",
       "      <th></th>\n",
       "      <th>Cylinders</th>\n",
       "      <th>Displacement</th>\n",
       "      <th>Horsepower</th>\n",
       "      <th>Weight</th>\n",
       "      <th>Acceleration</th>\n",
       "      <th>Model year</th>\n",
       "      <th>USA</th>\n",
       "      <th>Europe</th>\n",
       "      <th>Japan</th>\n",
       "    </tr>\n",
       "  </thead>\n",
       "  <tbody>\n",
       "    <tr>\n",
       "      <th>146</th>\n",
       "      <td>4</td>\n",
       "      <td>90.0</td>\n",
       "      <td>75.0</td>\n",
       "      <td>2125.0</td>\n",
       "      <td>14.5</td>\n",
       "      <td>74</td>\n",
       "      <td>1.0</td>\n",
       "      <td>0.0</td>\n",
       "      <td>0.0</td>\n",
       "    </tr>\n",
       "    <tr>\n",
       "      <th>282</th>\n",
       "      <td>4</td>\n",
       "      <td>140.0</td>\n",
       "      <td>88.0</td>\n",
       "      <td>2890.0</td>\n",
       "      <td>17.3</td>\n",
       "      <td>79</td>\n",
       "      <td>1.0</td>\n",
       "      <td>0.0</td>\n",
       "      <td>0.0</td>\n",
       "    </tr>\n",
       "    <tr>\n",
       "      <th>69</th>\n",
       "      <td>8</td>\n",
       "      <td>350.0</td>\n",
       "      <td>160.0</td>\n",
       "      <td>4456.0</td>\n",
       "      <td>13.5</td>\n",
       "      <td>72</td>\n",
       "      <td>1.0</td>\n",
       "      <td>0.0</td>\n",
       "      <td>0.0</td>\n",
       "    </tr>\n",
       "    <tr>\n",
       "      <th>378</th>\n",
       "      <td>4</td>\n",
       "      <td>105.0</td>\n",
       "      <td>63.0</td>\n",
       "      <td>2125.0</td>\n",
       "      <td>14.7</td>\n",
       "      <td>82</td>\n",
       "      <td>1.0</td>\n",
       "      <td>0.0</td>\n",
       "      <td>0.0</td>\n",
       "    </tr>\n",
       "    <tr>\n",
       "      <th>331</th>\n",
       "      <td>4</td>\n",
       "      <td>97.0</td>\n",
       "      <td>67.0</td>\n",
       "      <td>2145.0</td>\n",
       "      <td>18.0</td>\n",
       "      <td>80</td>\n",
       "      <td>0.0</td>\n",
       "      <td>0.0</td>\n",
       "      <td>3.0</td>\n",
       "    </tr>\n",
       "  </tbody>\n",
       "</table>\n",
       "</div>"
      ],
      "text/plain": [
       "     Cylinders  Displacement  Horsepower  Weight  Acceleration  Model year  \\\n",
       "146          4          90.0        75.0  2125.0          14.5          74   \n",
       "282          4         140.0        88.0  2890.0          17.3          79   \n",
       "69           8         350.0       160.0  4456.0          13.5          72   \n",
       "378          4         105.0        63.0  2125.0          14.7          82   \n",
       "331          4          97.0        67.0  2145.0          18.0          80   \n",
       "\n",
       "     USA  Europe  Japan  \n",
       "146  1.0     0.0    0.0  \n",
       "282  1.0     0.0    0.0  \n",
       "69   1.0     0.0    0.0  \n",
       "378  1.0     0.0    0.0  \n",
       "331  0.0     0.0    3.0  "
      ]
     },
     "execution_count": 7,
     "metadata": {},
     "output_type": "execute_result"
    }
   ],
   "source": [
    "x_train.head()"
   ]
  },
  {
   "cell_type": "code",
   "execution_count": 8,
   "metadata": {
    "id": "9omt6MSEqBRv"
   },
   "outputs": [
    {
     "data": {
      "text/plain": [
       "146    28.0\n",
       "282    22.3\n",
       "69     12.0\n",
       "378    38.0\n",
       "331    33.8\n",
       "Name: MPG, dtype: float64"
      ]
     },
     "execution_count": 8,
     "metadata": {},
     "output_type": "execute_result"
    }
   ],
   "source": [
    "y_train.head()"
   ]
  },
  {
   "cell_type": "markdown",
   "metadata": {
    "id": "x9QyycczpDv9"
   },
   "source": [
    "Si quieres investiga un poco el código anterior para aprender un poco de python o si prefieres déjalo como está. Lo que hemos hecho es:\n",
    "1. x_train se crea eligiendo aleatoriamente el 80% de las filas de data\n",
    "1. x_test son simplemente las que no han sido elegidas\n",
    "1. y_train e y_test son solo la variable MPG de los conjuntos de datos anteriores\n"
   ]
  },
  {
   "cell_type": "code",
   "execution_count": 9,
   "metadata": {
    "id": "PSbUrZEfrFUj"
   },
   "outputs": [],
   "source": [
    "# como vemos las variables en x tienen valores muy dispares, vamos a normalizarlas\n",
    "# para que funcione adecuadamente el optimizador y no haya problemas de\n",
    "# exploding gradient\n",
    "\n",
    "# No es necesario normalizar y porque es la que intentamos predecir y queremos ver\n",
    "# cuanto nos estamos equivocando en la escala real"
   ]
  },
  {
   "cell_type": "code",
   "execution_count": 19,
   "metadata": {
    "id": "NotKIrFwqbjn"
   },
   "outputs": [
    {
     "data": {
      "text/html": [
       "<div>\n",
       "<style scoped>\n",
       "    .dataframe tbody tr th:only-of-type {\n",
       "        vertical-align: middle;\n",
       "    }\n",
       "\n",
       "    .dataframe tbody tr th {\n",
       "        vertical-align: top;\n",
       "    }\n",
       "\n",
       "    .dataframe thead th {\n",
       "        text-align: right;\n",
       "    }\n",
       "</style>\n",
       "<table border=\"1\" class=\"dataframe\">\n",
       "  <thead>\n",
       "    <tr style=\"text-align: right;\">\n",
       "      <th></th>\n",
       "      <th>count</th>\n",
       "      <th>mean</th>\n",
       "      <th>std</th>\n",
       "      <th>min</th>\n",
       "      <th>25%</th>\n",
       "      <th>50%</th>\n",
       "      <th>75%</th>\n",
       "      <th>max</th>\n",
       "    </tr>\n",
       "  </thead>\n",
       "  <tbody>\n",
       "    <tr>\n",
       "      <th>Cylinders</th>\n",
       "      <td>314.0</td>\n",
       "      <td>5.477707</td>\n",
       "      <td>1.699788</td>\n",
       "      <td>3.0</td>\n",
       "      <td>4.00</td>\n",
       "      <td>4.0</td>\n",
       "      <td>8.00</td>\n",
       "      <td>8.0</td>\n",
       "    </tr>\n",
       "    <tr>\n",
       "      <th>Displacement</th>\n",
       "      <td>314.0</td>\n",
       "      <td>195.318471</td>\n",
       "      <td>104.331589</td>\n",
       "      <td>68.0</td>\n",
       "      <td>105.50</td>\n",
       "      <td>151.0</td>\n",
       "      <td>265.75</td>\n",
       "      <td>455.0</td>\n",
       "    </tr>\n",
       "    <tr>\n",
       "      <th>Horsepower</th>\n",
       "      <td>314.0</td>\n",
       "      <td>104.869427</td>\n",
       "      <td>38.096214</td>\n",
       "      <td>46.0</td>\n",
       "      <td>76.25</td>\n",
       "      <td>94.5</td>\n",
       "      <td>128.00</td>\n",
       "      <td>225.0</td>\n",
       "    </tr>\n",
       "    <tr>\n",
       "      <th>Weight</th>\n",
       "      <td>314.0</td>\n",
       "      <td>2990.251592</td>\n",
       "      <td>843.898596</td>\n",
       "      <td>1649.0</td>\n",
       "      <td>2256.50</td>\n",
       "      <td>2822.5</td>\n",
       "      <td>3608.00</td>\n",
       "      <td>5140.0</td>\n",
       "    </tr>\n",
       "    <tr>\n",
       "      <th>Acceleration</th>\n",
       "      <td>314.0</td>\n",
       "      <td>15.559236</td>\n",
       "      <td>2.789230</td>\n",
       "      <td>8.0</td>\n",
       "      <td>13.80</td>\n",
       "      <td>15.5</td>\n",
       "      <td>17.20</td>\n",
       "      <td>24.8</td>\n",
       "    </tr>\n",
       "  </tbody>\n",
       "</table>\n",
       "</div>"
      ],
      "text/plain": [
       "              count         mean         std     min      25%     50%  \\\n",
       "Cylinders     314.0     5.477707    1.699788     3.0     4.00     4.0   \n",
       "Displacement  314.0   195.318471  104.331589    68.0   105.50   151.0   \n",
       "Horsepower    314.0   104.869427   38.096214    46.0    76.25    94.5   \n",
       "Weight        314.0  2990.251592  843.898596  1649.0  2256.50  2822.5   \n",
       "Acceleration  314.0    15.559236    2.789230     8.0    13.80    15.5   \n",
       "\n",
       "                  75%     max  \n",
       "Cylinders        8.00     8.0  \n",
       "Displacement   265.75   455.0  \n",
       "Horsepower     128.00   225.0  \n",
       "Weight        3608.00  5140.0  \n",
       "Acceleration    17.20    24.8  "
      ]
     },
     "execution_count": 19,
     "metadata": {},
     "output_type": "execute_result"
    }
   ],
   "source": [
    "# calculamos los estadisticos descriptivos para x_train\n",
    "x_train_stats = x_train.describe().transpose()\n",
    "x_train_stats.head()"
   ]
  },
  {
   "cell_type": "code",
   "execution_count": 20,
   "metadata": {
    "id": "PjjBQk66q18v"
   },
   "outputs": [
    {
     "data": {
      "text/html": [
       "<div>\n",
       "<style scoped>\n",
       "    .dataframe tbody tr th:only-of-type {\n",
       "        vertical-align: middle;\n",
       "    }\n",
       "\n",
       "    .dataframe tbody tr th {\n",
       "        vertical-align: top;\n",
       "    }\n",
       "\n",
       "    .dataframe thead th {\n",
       "        text-align: right;\n",
       "    }\n",
       "</style>\n",
       "<table border=\"1\" class=\"dataframe\">\n",
       "  <thead>\n",
       "    <tr style=\"text-align: right;\">\n",
       "      <th></th>\n",
       "      <th>count</th>\n",
       "      <th>mean</th>\n",
       "      <th>std</th>\n",
       "      <th>min</th>\n",
       "      <th>25%</th>\n",
       "      <th>50%</th>\n",
       "      <th>75%</th>\n",
       "      <th>max</th>\n",
       "    </tr>\n",
       "  </thead>\n",
       "  <tbody>\n",
       "    <tr>\n",
       "      <th>Cylinders</th>\n",
       "      <td>78.0</td>\n",
       "      <td>5.448718</td>\n",
       "      <td>1.740633</td>\n",
       "      <td>3.0</td>\n",
       "      <td>4.00</td>\n",
       "      <td>4.00</td>\n",
       "      <td>8.00</td>\n",
       "      <td>8.0</td>\n",
       "    </tr>\n",
       "    <tr>\n",
       "      <th>Displacement</th>\n",
       "      <td>78.0</td>\n",
       "      <td>190.762821</td>\n",
       "      <td>106.494733</td>\n",
       "      <td>70.0</td>\n",
       "      <td>98.00</td>\n",
       "      <td>138.00</td>\n",
       "      <td>292.00</td>\n",
       "      <td>400.0</td>\n",
       "    </tr>\n",
       "    <tr>\n",
       "      <th>Horsepower</th>\n",
       "      <td>78.0</td>\n",
       "      <td>102.858974</td>\n",
       "      <td>40.255265</td>\n",
       "      <td>48.0</td>\n",
       "      <td>74.25</td>\n",
       "      <td>90.00</td>\n",
       "      <td>121.75</td>\n",
       "      <td>230.0</td>\n",
       "    </tr>\n",
       "    <tr>\n",
       "      <th>Weight</th>\n",
       "      <td>78.0</td>\n",
       "      <td>2926.589744</td>\n",
       "      <td>874.900416</td>\n",
       "      <td>1613.0</td>\n",
       "      <td>2159.50</td>\n",
       "      <td>2692.50</td>\n",
       "      <td>3706.50</td>\n",
       "      <td>4746.0</td>\n",
       "    </tr>\n",
       "    <tr>\n",
       "      <th>Acceleration</th>\n",
       "      <td>78.0</td>\n",
       "      <td>15.469231</td>\n",
       "      <td>2.649298</td>\n",
       "      <td>8.5</td>\n",
       "      <td>13.70</td>\n",
       "      <td>15.25</td>\n",
       "      <td>17.00</td>\n",
       "      <td>22.2</td>\n",
       "    </tr>\n",
       "  </tbody>\n",
       "</table>\n",
       "</div>"
      ],
      "text/plain": [
       "              count         mean         std     min      25%      50%  \\\n",
       "Cylinders      78.0     5.448718    1.740633     3.0     4.00     4.00   \n",
       "Displacement   78.0   190.762821  106.494733    70.0    98.00   138.00   \n",
       "Horsepower     78.0   102.858974   40.255265    48.0    74.25    90.00   \n",
       "Weight         78.0  2926.589744  874.900416  1613.0  2159.50  2692.50   \n",
       "Acceleration   78.0    15.469231    2.649298     8.5    13.70    15.25   \n",
       "\n",
       "                  75%     max  \n",
       "Cylinders        8.00     8.0  \n",
       "Displacement   292.00   400.0  \n",
       "Horsepower     121.75   230.0  \n",
       "Weight        3706.50  4746.0  \n",
       "Acceleration    17.00    22.2  "
      ]
     },
     "execution_count": 20,
     "metadata": {},
     "output_type": "execute_result"
    }
   ],
   "source": [
    "# calculamos los estadisticos descriptivos para x_test\n",
    "x_test_stats = x_test.describe().transpose()\n",
    "x_test_stats.head()"
   ]
  },
  {
   "cell_type": "code",
   "execution_count": 21,
   "metadata": {
    "id": "qf0Ulb-LsPmO"
   },
   "outputs": [
    {
     "data": {
      "text/html": [
       "<div>\n",
       "<style scoped>\n",
       "    .dataframe tbody tr th:only-of-type {\n",
       "        vertical-align: middle;\n",
       "    }\n",
       "\n",
       "    .dataframe tbody tr th {\n",
       "        vertical-align: top;\n",
       "    }\n",
       "\n",
       "    .dataframe thead th {\n",
       "        text-align: right;\n",
       "    }\n",
       "</style>\n",
       "<table border=\"1\" class=\"dataframe\">\n",
       "  <thead>\n",
       "    <tr style=\"text-align: right;\">\n",
       "      <th></th>\n",
       "      <th>Cylinders</th>\n",
       "      <th>Displacement</th>\n",
       "      <th>Horsepower</th>\n",
       "      <th>Weight</th>\n",
       "      <th>Acceleration</th>\n",
       "      <th>Model year</th>\n",
       "      <th>USA</th>\n",
       "      <th>Europe</th>\n",
       "      <th>Japan</th>\n",
       "    </tr>\n",
       "  </thead>\n",
       "  <tbody>\n",
       "    <tr>\n",
       "      <th>146</th>\n",
       "      <td>-0.869348</td>\n",
       "      <td>-1.009459</td>\n",
       "      <td>-0.784052</td>\n",
       "      <td>-1.025303</td>\n",
       "      <td>-0.379759</td>\n",
       "      <td>-0.516397</td>\n",
       "      <td>0.774676</td>\n",
       "      <td>-0.465148</td>\n",
       "      <td>-0.495225</td>\n",
       "    </tr>\n",
       "    <tr>\n",
       "      <th>282</th>\n",
       "      <td>-0.869348</td>\n",
       "      <td>-0.530218</td>\n",
       "      <td>-0.442811</td>\n",
       "      <td>-0.118796</td>\n",
       "      <td>0.624102</td>\n",
       "      <td>0.843910</td>\n",
       "      <td>0.774676</td>\n",
       "      <td>-0.465148</td>\n",
       "      <td>-0.495225</td>\n",
       "    </tr>\n",
       "    <tr>\n",
       "      <th>69</th>\n",
       "      <td>1.483887</td>\n",
       "      <td>1.482595</td>\n",
       "      <td>1.447140</td>\n",
       "      <td>1.736877</td>\n",
       "      <td>-0.738281</td>\n",
       "      <td>-1.060519</td>\n",
       "      <td>0.774676</td>\n",
       "      <td>-0.465148</td>\n",
       "      <td>-0.495225</td>\n",
       "    </tr>\n",
       "    <tr>\n",
       "      <th>378</th>\n",
       "      <td>-0.869348</td>\n",
       "      <td>-0.865687</td>\n",
       "      <td>-1.099044</td>\n",
       "      <td>-1.025303</td>\n",
       "      <td>-0.308055</td>\n",
       "      <td>1.660094</td>\n",
       "      <td>0.774676</td>\n",
       "      <td>-0.465148</td>\n",
       "      <td>-0.495225</td>\n",
       "    </tr>\n",
       "    <tr>\n",
       "      <th>331</th>\n",
       "      <td>-0.869348</td>\n",
       "      <td>-0.942365</td>\n",
       "      <td>-0.994047</td>\n",
       "      <td>-1.001603</td>\n",
       "      <td>0.875068</td>\n",
       "      <td>1.115971</td>\n",
       "      <td>-1.286751</td>\n",
       "      <td>-0.465148</td>\n",
       "      <td>2.012852</td>\n",
       "    </tr>\n",
       "  </tbody>\n",
       "</table>\n",
       "</div>"
      ],
      "text/plain": [
       "     Cylinders  Displacement  Horsepower    Weight  Acceleration  Model year  \\\n",
       "146  -0.869348     -1.009459   -0.784052 -1.025303     -0.379759   -0.516397   \n",
       "282  -0.869348     -0.530218   -0.442811 -0.118796      0.624102    0.843910   \n",
       "69    1.483887      1.482595    1.447140  1.736877     -0.738281   -1.060519   \n",
       "378  -0.869348     -0.865687   -1.099044 -1.025303     -0.308055    1.660094   \n",
       "331  -0.869348     -0.942365   -0.994047 -1.001603      0.875068    1.115971   \n",
       "\n",
       "          USA    Europe     Japan  \n",
       "146  0.774676 -0.465148 -0.495225  \n",
       "282  0.774676 -0.465148 -0.495225  \n",
       "69   0.774676 -0.465148 -0.495225  \n",
       "378  0.774676 -0.465148 -0.495225  \n",
       "331 -1.286751 -0.465148  2.012852  "
      ]
     },
     "execution_count": 21,
     "metadata": {},
     "output_type": "execute_result"
    }
   ],
   "source": [
    "# normalizamos x_train y x_test\n",
    "\n",
    "x_train_norm = norm(x_train, x_train_stats)\n",
    "x_train_norm.head()"
   ]
  },
  {
   "cell_type": "code",
   "execution_count": 22,
   "metadata": {
    "id": "e2BCEcprtFSv"
   },
   "outputs": [
    {
     "data": {
      "text/html": [
       "<div>\n",
       "<style scoped>\n",
       "    .dataframe tbody tr th:only-of-type {\n",
       "        vertical-align: middle;\n",
       "    }\n",
       "\n",
       "    .dataframe tbody tr th {\n",
       "        vertical-align: top;\n",
       "    }\n",
       "\n",
       "    .dataframe thead th {\n",
       "        text-align: right;\n",
       "    }\n",
       "</style>\n",
       "<table border=\"1\" class=\"dataframe\">\n",
       "  <thead>\n",
       "    <tr style=\"text-align: right;\">\n",
       "      <th></th>\n",
       "      <th>Cylinders</th>\n",
       "      <th>Displacement</th>\n",
       "      <th>Horsepower</th>\n",
       "      <th>Weight</th>\n",
       "      <th>Acceleration</th>\n",
       "      <th>Model year</th>\n",
       "      <th>USA</th>\n",
       "      <th>Europe</th>\n",
       "      <th>Japan</th>\n",
       "    </tr>\n",
       "  </thead>\n",
       "  <tbody>\n",
       "    <tr>\n",
       "      <th>9</th>\n",
       "      <td>1.465721</td>\n",
       "      <td>1.870864</td>\n",
       "      <td>2.164711</td>\n",
       "      <td>1.055446</td>\n",
       "      <td>-2.630595</td>\n",
       "      <td>-1.694775</td>\n",
       "      <td>0.764362</td>\n",
       "      <td>-0.423659</td>\n",
       "      <td>-0.524515</td>\n",
       "    </tr>\n",
       "    <tr>\n",
       "      <th>25</th>\n",
       "      <td>1.465721</td>\n",
       "      <td>1.589160</td>\n",
       "      <td>2.785748</td>\n",
       "      <td>1.929831</td>\n",
       "      <td>-0.554574</td>\n",
       "      <td>-1.694775</td>\n",
       "      <td>0.764362</td>\n",
       "      <td>-0.423659</td>\n",
       "      <td>-0.524515</td>\n",
       "    </tr>\n",
       "    <tr>\n",
       "      <th>28</th>\n",
       "      <td>1.465721</td>\n",
       "      <td>1.063312</td>\n",
       "      <td>2.239236</td>\n",
       "      <td>2.063561</td>\n",
       "      <td>1.143989</td>\n",
       "      <td>-1.694775</td>\n",
       "      <td>0.764362</td>\n",
       "      <td>-0.423659</td>\n",
       "      <td>-0.524515</td>\n",
       "    </tr>\n",
       "    <tr>\n",
       "      <th>31</th>\n",
       "      <td>-0.832294</td>\n",
       "      <td>-0.730203</td>\n",
       "      <td>-0.195228</td>\n",
       "      <td>-0.798479</td>\n",
       "      <td>-0.554574</td>\n",
       "      <td>-1.426091</td>\n",
       "      <td>-1.291508</td>\n",
       "      <td>-0.423659</td>\n",
       "      <td>1.882082</td>\n",
       "    </tr>\n",
       "    <tr>\n",
       "      <th>33</th>\n",
       "      <td>0.316714</td>\n",
       "      <td>0.387223</td>\n",
       "      <td>-0.071021</td>\n",
       "      <td>-0.334426</td>\n",
       "      <td>-0.932032</td>\n",
       "      <td>-1.426091</td>\n",
       "      <td>0.764362</td>\n",
       "      <td>-0.423659</td>\n",
       "      <td>-0.524515</td>\n",
       "    </tr>\n",
       "  </tbody>\n",
       "</table>\n",
       "</div>"
      ],
      "text/plain": [
       "    Cylinders  Displacement  Horsepower    Weight  Acceleration  Model year  \\\n",
       "9    1.465721      1.870864    2.164711  1.055446     -2.630595   -1.694775   \n",
       "25   1.465721      1.589160    2.785748  1.929831     -0.554574   -1.694775   \n",
       "28   1.465721      1.063312    2.239236  2.063561      1.143989   -1.694775   \n",
       "31  -0.832294     -0.730203   -0.195228 -0.798479     -0.554574   -1.426091   \n",
       "33   0.316714      0.387223   -0.071021 -0.334426     -0.932032   -1.426091   \n",
       "\n",
       "         USA    Europe     Japan  \n",
       "9   0.764362 -0.423659 -0.524515  \n",
       "25  0.764362 -0.423659 -0.524515  \n",
       "28  0.764362 -0.423659 -0.524515  \n",
       "31 -1.291508 -0.423659  1.882082  \n",
       "33  0.764362 -0.423659 -0.524515  "
      ]
     },
     "execution_count": 22,
     "metadata": {},
     "output_type": "execute_result"
    }
   ],
   "source": [
    "x_test_norm = norm(x_test, x_test_stats)\n",
    "x_test_norm.head()"
   ]
  },
  {
   "cell_type": "code",
   "execution_count": 23,
   "metadata": {
    "id": "QoqOZMLItgN3"
   },
   "outputs": [
    {
     "data": {
      "text/html": [
       "<div>\n",
       "<style scoped>\n",
       "    .dataframe tbody tr th:only-of-type {\n",
       "        vertical-align: middle;\n",
       "    }\n",
       "\n",
       "    .dataframe tbody tr th {\n",
       "        vertical-align: top;\n",
       "    }\n",
       "\n",
       "    .dataframe thead th {\n",
       "        text-align: right;\n",
       "    }\n",
       "</style>\n",
       "<table border=\"1\" class=\"dataframe\">\n",
       "  <thead>\n",
       "    <tr style=\"text-align: right;\">\n",
       "      <th></th>\n",
       "      <th>count</th>\n",
       "      <th>mean</th>\n",
       "      <th>std</th>\n",
       "      <th>min</th>\n",
       "      <th>25%</th>\n",
       "      <th>50%</th>\n",
       "      <th>75%</th>\n",
       "      <th>max</th>\n",
       "    </tr>\n",
       "  </thead>\n",
       "  <tbody>\n",
       "    <tr>\n",
       "      <th>Cylinders</th>\n",
       "      <td>314.0</td>\n",
       "      <td>1.824443e-16</td>\n",
       "      <td>1.0</td>\n",
       "      <td>-1.457657</td>\n",
       "      <td>-0.869348</td>\n",
       "      <td>-0.869348</td>\n",
       "      <td>1.483887</td>\n",
       "      <td>1.483887</td>\n",
       "    </tr>\n",
       "    <tr>\n",
       "      <th>Displacement</th>\n",
       "      <td>314.0</td>\n",
       "      <td>8.627211e-17</td>\n",
       "      <td>1.0</td>\n",
       "      <td>-1.220325</td>\n",
       "      <td>-0.860894</td>\n",
       "      <td>-0.424785</td>\n",
       "      <td>0.675074</td>\n",
       "      <td>2.489002</td>\n",
       "    </tr>\n",
       "    <tr>\n",
       "      <th>Horsepower</th>\n",
       "      <td>314.0</td>\n",
       "      <td>-9.900078e-18</td>\n",
       "      <td>1.0</td>\n",
       "      <td>-1.545283</td>\n",
       "      <td>-0.751241</td>\n",
       "      <td>-0.272190</td>\n",
       "      <td>0.607162</td>\n",
       "      <td>3.153347</td>\n",
       "    </tr>\n",
       "    <tr>\n",
       "      <th>Weight</th>\n",
       "      <td>314.0</td>\n",
       "      <td>-8.485781e-17</td>\n",
       "      <td>1.0</td>\n",
       "      <td>-1.589352</td>\n",
       "      <td>-0.869478</td>\n",
       "      <td>-0.198782</td>\n",
       "      <td>0.732017</td>\n",
       "      <td>2.547401</td>\n",
       "    </tr>\n",
       "    <tr>\n",
       "      <th>Acceleration</th>\n",
       "      <td>314.0</td>\n",
       "      <td>-5.148041e-16</td>\n",
       "      <td>1.0</td>\n",
       "      <td>-2.710152</td>\n",
       "      <td>-0.630725</td>\n",
       "      <td>-0.021237</td>\n",
       "      <td>0.588250</td>\n",
       "      <td>3.313017</td>\n",
       "    </tr>\n",
       "    <tr>\n",
       "      <th>Model year</th>\n",
       "      <td>314.0</td>\n",
       "      <td>9.772791e-16</td>\n",
       "      <td>1.0</td>\n",
       "      <td>-1.604642</td>\n",
       "      <td>-0.788458</td>\n",
       "      <td>0.027726</td>\n",
       "      <td>0.843910</td>\n",
       "      <td>1.660094</td>\n",
       "    </tr>\n",
       "    <tr>\n",
       "      <th>USA</th>\n",
       "      <td>314.0</td>\n",
       "      <td>7.920062e-17</td>\n",
       "      <td>1.0</td>\n",
       "      <td>-1.286751</td>\n",
       "      <td>-1.286751</td>\n",
       "      <td>0.774676</td>\n",
       "      <td>0.774676</td>\n",
       "      <td>0.774676</td>\n",
       "    </tr>\n",
       "    <tr>\n",
       "      <th>Europe</th>\n",
       "      <td>314.0</td>\n",
       "      <td>1.980016e-17</td>\n",
       "      <td>1.0</td>\n",
       "      <td>-0.465148</td>\n",
       "      <td>-0.465148</td>\n",
       "      <td>-0.465148</td>\n",
       "      <td>-0.465148</td>\n",
       "      <td>2.143005</td>\n",
       "    </tr>\n",
       "    <tr>\n",
       "      <th>Japan</th>\n",
       "      <td>314.0</td>\n",
       "      <td>-2.262875e-17</td>\n",
       "      <td>1.0</td>\n",
       "      <td>-0.495225</td>\n",
       "      <td>-0.495225</td>\n",
       "      <td>-0.495225</td>\n",
       "      <td>-0.495225</td>\n",
       "      <td>2.012852</td>\n",
       "    </tr>\n",
       "  </tbody>\n",
       "</table>\n",
       "</div>"
      ],
      "text/plain": [
       "              count          mean  std       min       25%       50%  \\\n",
       "Cylinders     314.0  1.824443e-16  1.0 -1.457657 -0.869348 -0.869348   \n",
       "Displacement  314.0  8.627211e-17  1.0 -1.220325 -0.860894 -0.424785   \n",
       "Horsepower    314.0 -9.900078e-18  1.0 -1.545283 -0.751241 -0.272190   \n",
       "Weight        314.0 -8.485781e-17  1.0 -1.589352 -0.869478 -0.198782   \n",
       "Acceleration  314.0 -5.148041e-16  1.0 -2.710152 -0.630725 -0.021237   \n",
       "Model year    314.0  9.772791e-16  1.0 -1.604642 -0.788458  0.027726   \n",
       "USA           314.0  7.920062e-17  1.0 -1.286751 -1.286751  0.774676   \n",
       "Europe        314.0  1.980016e-17  1.0 -0.465148 -0.465148 -0.465148   \n",
       "Japan         314.0 -2.262875e-17  1.0 -0.495225 -0.495225 -0.495225   \n",
       "\n",
       "                   75%       max  \n",
       "Cylinders     1.483887  1.483887  \n",
       "Displacement  0.675074  2.489002  \n",
       "Horsepower    0.607162  3.153347  \n",
       "Weight        0.732017  2.547401  \n",
       "Acceleration  0.588250  3.313017  \n",
       "Model year    0.843910  1.660094  \n",
       "USA           0.774676  0.774676  \n",
       "Europe       -0.465148  2.143005  \n",
       "Japan        -0.495225  2.012852  "
      ]
     },
     "execution_count": 23,
     "metadata": {},
     "output_type": "execute_result"
    }
   ],
   "source": [
    "# comprobamos que lo hemos hecho bien\n",
    "\n",
    "x_train_norm.describe().transpose()"
   ]
  },
  {
   "cell_type": "markdown",
   "metadata": {
    "id": "mylOdGfAtsAk"
   },
   "source": [
    "Está perfecto, las medias cercanas a cero (2.093159e-16) y las sd en 1.0"
   ]
  },
  {
   "cell_type": "code",
   "execution_count": 49,
   "metadata": {
    "id": "JCC-HBkBt0MA"
   },
   "outputs": [
    {
     "name": "stdout",
     "output_type": "stream",
     "text": [
      "Model: \"sequential_5\"\n",
      "_________________________________________________________________\n",
      " Layer (type)                Output Shape              Param #   \n",
      "=================================================================\n",
      " dense_18 (Dense)            (None, 10)                100       \n",
      "                                                                 \n",
      " dense_19 (Dense)            (None, 1)                 11        \n",
      "                                                                 \n",
      "=================================================================\n",
      "Total params: 111 (444.00 Byte)\n",
      "Trainable params: 111 (444.00 Byte)\n",
      "Non-trainable params: 0 (0.00 Byte)\n",
      "_________________________________________________________________\n"
     ]
    }
   ],
   "source": [
    "# Modelo --------------------------\n",
    "\n",
    "\n",
    "# Configuramos la topología\n",
    "\n",
    "model = Sequential()\n",
    "model.add(Dense(10, activation = 'relu', input_shape=[( len(x_train_norm.keys()) )]))\n",
    "model.add(Dense(5, activation = 'relu'))\n",
    "model.add(Dense(5, activation = 'relu'))\n",
    "model.add(Dense(1, activation = 'linear'))\n",
    "\n",
    "model.summary()"
   ]
  },
  {
   "cell_type": "code",
   "execution_count": 50,
   "metadata": {
    "id": "J0DGZ9_Euc2V"
   },
   "outputs": [],
   "source": [
    "# compilamos\n",
    "\n",
    "model.compile(loss='mse',\n",
    "              optimizer = tf.keras.optimizers.RMSprop(learning_rate = 0.003),\n",
    "              metrics = ['mse','mae'])"
   ]
  },
  {
   "cell_type": "code",
   "execution_count": 51,
   "metadata": {
    "id": "HeBm4d1Zuk-r"
   },
   "outputs": [
    {
     "name": "stdout",
     "output_type": "stream",
     "text": [
      "Tiempo de ejecución: 13.585203409194946\n"
     ]
    }
   ],
   "source": [
    "# entrenamos\n",
    "start = time.time()\n",
    "history = model.fit(x_train_norm, y_train,\n",
    "                    epochs = 300,\n",
    "                    validation_split = 0.2,  # divide automaticamente el train\n",
    "                                             # en train (80%) y dev (20%)\n",
    "                    verbose = 0) # para evitar que se llene toda la pantalla\n",
    "\n",
    "end = time.time()\n",
    "print('Tiempo de ejecución:', end - start)"
   ]
  },
  {
   "cell_type": "code",
   "execution_count": 52,
   "metadata": {
    "id": "v8yyCmNRvFLA"
   },
   "outputs": [
    {
     "data": {
      "image/png": "[encoded data removed]",
      "text/plain": [
       "<Figure size 640x480 with 1 Axes>"
      ]
     },
     "metadata": {},
     "output_type": "display_data"
    }
   ],
   "source": [
    "# Un grafico para ver el ajuste en los dos sets\n",
    "\n",
    "plot_history(history)"
   ]
  },
  {
   "cell_type": "code",
   "execution_count": 53,
   "metadata": {
    "id": "ABOgAymyx9tx"
   },
   "outputs": [
    {
     "name": "stdout",
     "output_type": "stream",
     "text": [
      "3/3 [==============================] - 0s 5ms/step - loss: 6.2696 - mse: 6.2696 - mae: 1.8045\n"
     ]
    },
    {
     "data": {
      "text/plain": [
       "[6.269641876220703, 6.269641876220703, 1.8044662475585938]"
      ]
     },
     "execution_count": 53,
     "metadata": {},
     "output_type": "execute_result"
    }
   ],
   "source": [
    "# Evaluamos el modelo con el conjunto de validacion\n",
    "model.evaluate(x_test_norm, y_test)"
   ]
  },
  {
   "cell_type": "code",
   "execution_count": 54,
   "metadata": {
    "id": "ZOYfUGHnyYKF"
   },
   "outputs": [
    {
     "name": "stdout",
     "output_type": "stream",
     "text": [
      "3/3 [==============================] - 0s 0s/step\n"
     ]
    },
    {
     "data": {
      "image/png": "[encoded data removed]",
      "text/plain": [
       "<Figure size 640x480 with 1 Axes>"
      ]
     },
     "metadata": {},
     "output_type": "display_data"
    },
    {
     "name": "stdout",
     "output_type": "stream",
     "text": [
      "R² del modelo: 0.9040\n"
     ]
    }
   ],
   "source": [
    "# Como las variables son cuantitativas un grafico de dispersion podría estar perfecto\n",
    "\n",
    "yp = model.predict(x_test_norm)\n",
    "\n",
    "\n",
    "df = pd.DataFrame({'y': y_test, 'yp': yp.flatten()})\n",
    "df.plot.scatter(x='y', y='yp')\n",
    "plt.show()\n",
    "\n",
    "\n",
    "\n",
    "r2 = r2_score(df['y'], df['yp'])\n",
    "print(f\"R² del modelo: {r2:.4f}\")"
   ]
  },
  {
   "cell_type": "markdown",
   "metadata": {
    "id": "8XirSO5SWtWl"
   },
   "source": [
    "# Ejercicio\n",
    "\n",
    "Prueba a modificar los hiperparámetros de la red e incluso su arquitectura para obtener una mayor velocidad en la red. Por ejemplo podrías hacer lo siguiente:\n",
    "\n",
    "1. Prueba a utilizar otros tipos de neuronas (RelU o tanh) y otros optimizadores para mejorar el tiempo de aprendizaje\n",
    "1. Simplifica al máximo la red pero sin una pérdida significativa de predicción\n",
    "\n",
    "--- \n",
    "\n",
    "Haz las pruebas que consideres interesantes e interpreta los resultados.\n",
    "\n",
    "Pega el código empleado (solo las partes que has cambiado) en la ventana de abajo\n",
    "\n",
    "Para ayudarte en las tareas simplemente usa google, te aportará miles de ejemplos\n",
    "\n",
    "Recuerda que los resultados tienes que subirlos a un cuestionario de moodle\n",
    "\n",
    "---\n",
    "\n",
    "__Opcional__: aprovechando que tenemos en df los valores de y_test y de yp (los pronosticados) calcula el R2 de esta recta que nos indicará la calidad del pronóstico usando un lenguaje más estadístico."
   ]
  },
  {
   "cell_type": "markdown",
   "metadata": {},
   "source": [
    "### Modificación de las neuronas de activación"
   ]
  },
  {
   "cell_type": "markdown",
   "metadata": {},
   "source": [
    "#### Usando ReLU\n",
    "\n"
   ]
  },
  {
   "cell_type": "code",
   "execution_count": null,
   "metadata": {},
   "outputs": [
    {
     "name": "stdout",
     "output_type": "stream",
     "text": [
      "Model: \"sequential_12\"\n",
      "_________________________________________________________________\n",
      " Layer (type)                Output Shape              Param #   \n",
      "=================================================================\n",
      " dense_34 (Dense)            (None, 1)                 10        \n",
      "                                                                 \n",
      " dense_35 (Dense)            (None, 1)                 2         \n",
      "                                                                 \n",
      " dense_36 (Dense)            (None, 1)                 2         \n",
      "                                                                 \n",
      " dense_37 (Dense)            (None, 1)                 2         \n",
      "                                                                 \n",
      "=================================================================\n",
      "Total params: 16 (64.00 Byte)\n",
      "Trainable params: 16 (64.00 Byte)\n",
      "Non-trainable params: 0 (0.00 Byte)\n",
      "_________________________________________________________________\n"
     ]
    }
   ],
   "source": [
    "# Modelo con pocas neuronas en cada capa\n",
    "\n",
    "\n",
    "model = Sequential()\n",
    "model.add(Dense(1, activation = 'relu', input_shape=[( len(x_train_norm.keys()) )]))\n",
    "model.add(Dense(1, activation = 'relu'))\n",
    "model.add(Dense(1, activation = 'relu'))\n",
    "model.add(Dense(1, activation = 'linear'))\n",
    "\n",
    "model.summary()"
   ]
  },
  {
   "cell_type": "code",
   "execution_count": 118,
   "metadata": {},
   "outputs": [
    {
     "name": "stdout",
     "output_type": "stream",
     "text": [
      "3/3 [==============================] - 0s 4ms/step - loss: 8.3851 - mse: 8.3851 - mae: 2.1239\n"
     ]
    },
    {
     "data": {
      "text/plain": [
       "[8.38509464263916, 8.38509464263916, 2.1239407062530518]"
      ]
     },
     "execution_count": 118,
     "metadata": {},
     "output_type": "execute_result"
    }
   ],
   "source": [
    "# Evaluar el modelo con el conjunto de validación\n",
    "model.evaluate(x_test_norm, y_test)"
   ]
  },
  {
   "cell_type": "code",
   "execution_count": 119,
   "metadata": {},
   "outputs": [
    {
     "name": "stdout",
     "output_type": "stream",
     "text": [
      "3/3 [==============================] - 0s 3ms/step\n"
     ]
    },
    {
     "data": {
      "image/png": "[encoded data removed]",
      "text/plain": [
       "<Figure size 640x480 with 1 Axes>"
      ]
     },
     "metadata": {},
     "output_type": "display_data"
    },
    {
     "name": "stdout",
     "output_type": "stream",
     "text": [
      "R² del modelo: 0.8716\n"
     ]
    }
   ],
   "source": [
    "# Gráfico de dispersión\n",
    "\n",
    "yp = model.predict(x_test_norm)\n",
    "\n",
    "\n",
    "df = pd.DataFrame({'y': y_test, 'yp': yp.flatten()})\n",
    "df.plot.scatter(x='y', y='yp')\n",
    "plt.show()\n",
    "\n",
    "\n",
    "# Cálculo del R²\n",
    "\n",
    "r2 = r2_score(df['y'], df['yp'])\n",
    "print(f\"R² del modelo: {r2:.4f}\")"
   ]
  },
  {
   "cell_type": "markdown",
   "metadata": {},
   "source": [
    "Como se puede observar, usando una cantidad reducida de neuronas (tres capas con 1 neuronas en cada una), con el optimizador RMSprop y 300 épocas, la pérdida entre la muestra de entrenamiento y la de validación es 8.3851 y el R² del modelo es de 0.8716."
   ]
  },
  {
   "cell_type": "code",
   "execution_count": 159,
   "metadata": {},
   "outputs": [
    {
     "name": "stdout",
     "output_type": "stream",
     "text": [
      "Model: \"sequential_20\"\n",
      "_________________________________________________________________\n",
      " Layer (type)                Output Shape              Param #   \n",
      "=================================================================\n",
      " dense_66 (Dense)            (None, 10)                100       \n",
      "                                                                 \n",
      " dense_67 (Dense)            (None, 5)                 55        \n",
      "                                                                 \n",
      " dense_68 (Dense)            (None, 5)                 30        \n",
      "                                                                 \n",
      " dense_69 (Dense)            (None, 1)                 6         \n",
      "                                                                 \n",
      "=================================================================\n",
      "Total params: 191 (764.00 Byte)\n",
      "Trainable params: 191 (764.00 Byte)\n",
      "Non-trainable params: 0 (0.00 Byte)\n",
      "_________________________________________________________________\n"
     ]
    }
   ],
   "source": [
    "# Modelo mejor ajustado\n",
    "\n",
    "\n",
    "model = Sequential()\n",
    "model.add(Dense(10, activation = 'relu', input_shape=[( len(x_train_norm.keys()) )]))\n",
    "model.add(Dense(5, activation = 'relu'))\n",
    "model.add(Dense(5, activation = 'relu'))\n",
    "model.add(Dense(1, activation = 'linear'))\n",
    "\n",
    "model.summary()"
   ]
  },
  {
   "cell_type": "code",
   "execution_count": 179,
   "metadata": {},
   "outputs": [
    {
     "name": "stdout",
     "output_type": "stream",
     "text": [
      "3/3 [==============================] - 0s 3ms/step - loss: 5.8864 - mse: 5.8864 - mae: 1.8032\n"
     ]
    },
    {
     "data": {
      "text/plain": [
       "[5.886383533477783, 5.886383533477783, 1.8032453060150146]"
      ]
     },
     "execution_count": 179,
     "metadata": {},
     "output_type": "execute_result"
    }
   ],
   "source": [
    "# Evaluar el modelo con el conjunto de validación\n",
    "model.evaluate(x_test_norm, y_test)"
   ]
  },
  {
   "cell_type": "code",
   "execution_count": 180,
   "metadata": {},
   "outputs": [
    {
     "name": "stdout",
     "output_type": "stream",
     "text": [
      "3/3 [==============================] - 0s 3ms/step\n"
     ]
    },
    {
     "data": {
      "image/png": "[encoded data removed]",
      "text/plain": [
       "<Figure size 640x480 with 1 Axes>"
      ]
     },
     "metadata": {},
     "output_type": "display_data"
    },
    {
     "name": "stdout",
     "output_type": "stream",
     "text": [
      "R² del modelo: 0.9099\n"
     ]
    }
   ],
   "source": [
    "# Gráfico de dispersión\n",
    "\n",
    "yp = model.predict(x_test_norm)\n",
    "\n",
    "\n",
    "df = pd.DataFrame({'y': y_test, 'yp': yp.flatten()})\n",
    "df.plot.scatter(x='y', y='yp')\n",
    "plt.show()\n",
    "\n",
    "\n",
    "# Calculo del R²\n",
    "\n",
    "r2 = r2_score(df['y'], df['yp'])\n",
    "print(f\"R² del modelo: {r2:.4f}\")"
   ]
  },
  {
   "cell_type": "markdown",
   "metadata": {},
   "source": [
    "En segundo lugar, cabe destacar que el mejor ajuste que hemos conseguido ha sido usando tres capas con 10, 5 y 5 neuronas en cada capa respectivamente; el optimizador RMSprop; y 300 épocas. Como se puede observar, al evaluar el modelo con el conjunto de validación, hemos obtenido una pérdida de 5.8864. Además, el R² del modelo es de 0.9099."
   ]
  },
  {
   "cell_type": "code",
   "execution_count": null,
   "metadata": {},
   "outputs": [],
   "source": [
    "# Mismas configuraciones, pero usando el optimizador Adam\n",
    "\n",
    "model.compile(loss='mse',\n",
    "              optimizer = tf.keras.optimizers.Adam(learning_rate = 0.003),\n",
    "              metrics = ['mse','mae'])"
   ]
  },
  {
   "cell_type": "code",
   "execution_count": 165,
   "metadata": {},
   "outputs": [
    {
     "name": "stdout",
     "output_type": "stream",
     "text": [
      "3/3 [==============================] - 0s 3ms/step - loss: 6.0340 - mse: 6.0340 - mae: 1.8590\n"
     ]
    },
    {
     "data": {
      "text/plain": [
       "[6.034012794494629, 6.034012794494629, 1.8590017557144165]"
      ]
     },
     "execution_count": 165,
     "metadata": {},
     "output_type": "execute_result"
    }
   ],
   "source": [
    "# Evaluar el modelo con el conjunto de validacion\n",
    "model.evaluate(x_test_norm, y_test)"
   ]
  },
  {
   "cell_type": "code",
   "execution_count": 166,
   "metadata": {},
   "outputs": [
    {
     "name": "stdout",
     "output_type": "stream",
     "text": [
      "3/3 [==============================] - 0s 2ms/step\n"
     ]
    },
    {
     "data": {
      "image/png": "[encoded data removed]",
      "text/plain": [
       "<Figure size 640x480 with 1 Axes>"
      ]
     },
     "metadata": {},
     "output_type": "display_data"
    },
    {
     "name": "stdout",
     "output_type": "stream",
     "text": [
      "R² del modelo: 0.9076\n"
     ]
    }
   ],
   "source": [
    "# Gráfico de dispersión\n",
    "\n",
    "yp = model.predict(x_test_norm)\n",
    "\n",
    "\n",
    "df = pd.DataFrame({'y': y_test, 'yp': yp.flatten()})\n",
    "df.plot.scatter(x='y', y='yp')\n",
    "plt.show()\n",
    "\n",
    "\n",
    "# Cálculo del R²\n",
    "\n",
    "r2 = r2_score(df['y'], df['yp'])\n",
    "print(f\"R² del modelo: {r2:.4f}\")"
   ]
  },
  {
   "cell_type": "markdown",
   "metadata": {},
   "source": [
    "Si en vez de usar el optimizador RMSprop, usamos Adam, se observa como el valor de pérdida aumenta a un  6.0340; y el R² disminuye a 0.9076. No obstante, no es una reducción significativa. "
   ]
  },
  {
   "cell_type": "code",
   "execution_count": null,
   "metadata": {},
   "outputs": [
    {
     "name": "stdout",
     "output_type": "stream",
     "text": [
      "Model: \"sequential_15\"\n",
      "_________________________________________________________________\n",
      " Layer (type)                Output Shape              Param #   \n",
      "=================================================================\n",
      " dense_46 (Dense)            (None, 5)                 50        \n",
      "                                                                 \n",
      " dense_47 (Dense)            (None, 3)                 18        \n",
      "                                                                 \n",
      " dense_48 (Dense)            (None, 2)                 8         \n",
      "                                                                 \n",
      " dense_49 (Dense)            (None, 1)                 3         \n",
      "                                                                 \n",
      "=================================================================\n",
      "Total params: 79 (316.00 Byte)\n",
      "Trainable params: 79 (316.00 Byte)\n",
      "Non-trainable params: 0 (0.00 Byte)\n",
      "_________________________________________________________________\n"
     ]
    }
   ],
   "source": [
    "# Modelo más simple sin perder capacidad de predicción\n",
    "\n",
    "\n",
    "model = Sequential()\n",
    "model.add(Dense(5, activation = 'relu', input_shape=[( len(x_train_norm.keys()) )]))\n",
    "model.add(Dense(3, activation = 'relu'))\n",
    "model.add(Dense(2, activation = 'relu'))\n",
    "model.add(Dense(1, activation = 'linear'))\n",
    "\n",
    "model.summary()"
   ]
  },
  {
   "cell_type": "code",
   "execution_count": 136,
   "metadata": {},
   "outputs": [
    {
     "name": "stdout",
     "output_type": "stream",
     "text": [
      "3/3 [==============================] - 0s 3ms/step - loss: 6.4264 - mse: 6.4264 - mae: 1.7685\n"
     ]
    },
    {
     "data": {
      "text/plain": [
       "[6.426403522491455, 6.426403522491455, 1.7685366868972778]"
      ]
     },
     "execution_count": 136,
     "metadata": {},
     "output_type": "execute_result"
    }
   ],
   "source": [
    "# Evaluar el modelo con el conjunto de validación\n",
    "model.evaluate(x_test_norm, y_test)"
   ]
  },
  {
   "cell_type": "code",
   "execution_count": 137,
   "metadata": {},
   "outputs": [
    {
     "name": "stdout",
     "output_type": "stream",
     "text": [
      "3/3 [==============================] - 0s 3ms/step\n"
     ]
    },
    {
     "data": {
      "image/png": "[encoded data removed]",
      "text/plain": [
       "<Figure size 640x480 with 1 Axes>"
      ]
     },
     "metadata": {},
     "output_type": "display_data"
    },
    {
     "name": "stdout",
     "output_type": "stream",
     "text": [
      "R² del modelo: 0.9016\n"
     ]
    }
   ],
   "source": [
    "# Gráfico de dispersión\n",
    "\n",
    "yp = model.predict(x_test_norm)\n",
    "\n",
    "\n",
    "df = pd.DataFrame({'y': y_test, 'yp': yp.flatten()})\n",
    "df.plot.scatter(x='y', y='yp')\n",
    "plt.show()\n",
    "\n",
    "\n",
    "# Cálculo del R²\n",
    "\n",
    "r2 = r2_score(df['y'], df['yp'])\n",
    "print(f\"R² del modelo: {r2:.4f}\")"
   ]
  },
  {
   "cell_type": "markdown",
   "metadata": {},
   "source": [
    "Por último, el modelo más simple que hemos conseguido sin perder capacidad de predicción consta de tres capas con 5, 3 y 2 neronas en cada capa respectivamente. Además, el optimizador que se ha usado ha sido RMSprop y se han estipulado 300 épocas. Como se pude observar, la pérdida del modelo es de 6.4264, y el R² del modelo es 0.9016."
   ]
  }
 ],
 "metadata": {
  "colab": {
   "authorship_tag": "ABX9TyOlTknDflUx/0lXaFpckvX+",
   "collapsed_sections": [],
   "name": "P04.MLP_regresion.ipynb",
   "provenance": []
  },
  "kernelspec": {
   "display_name": "Python 3 (ipykernel)",
   "language": "python",
   "name": "python3"
  },
  "language_info": {
   "codemirror_mode": {
    "name": "ipython",
    "version": 3
   },
   "file_extension": ".py",
   "mimetype": "text/x-python",
   "name": "python",
   "nbconvert_exporter": "python",
   "pygments_lexer": "ipython3",
   "version": "3.11.6"
  }
 },
 "nbformat": 4,
 "nbformat_minor": 4
}
